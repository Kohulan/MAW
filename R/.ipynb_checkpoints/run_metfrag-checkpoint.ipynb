{
 "cells": [
  {
   "cell_type": "code",
   "execution_count": null,
   "id": "3ab17661",
   "metadata": {},
   "outputs": [],
   "source": [
    "#! /usr/bin/Rscript\n",
    "\n",
    "#' @title Run Metfrag \n",
    "#'\n",
    "#' @description\n",
    "#'\n",
    "#' This function runs Metfrag and generates result csv files\n",
    "#' \n",
    "\n",
    "#' @param met_param is the txt file conatining list of paths to metfrag parameter files\n",
    "#' \n",
    "#' @param input_dir is the directory with all input files and necessary files stored\n",
    "#'\n",
    "\n",
    "#' @return\n",
    "#' \n",
    "#' a csv result files for all metfrag parameter files\n",
    "#' \n",
    "#' @author Mahnoor Zulfiqar\n",
    "#' \n",
    "#' @examples\n",
    "#' \n",
    "#' met_param <- metfrag_param(met_param = \"usr/project/file1/insilico/metparam_list.txt\",\n",
    "#'                                input_dir = \"usr/project/\")\n",
    "\n",
    "# ---------- Preparations ----------\n",
    "# Load libraries\n",
    "\n",
    "# ---------- Arguments and user variables ----------\n",
    "args <- commandArgs(trailingOnly=TRUE)\n",
    "#print(args)\n",
    "\n",
    "met_param <- as.character(args[1])\n",
    "input_dir <- as.character(args[2])\n",
    "\n",
    "\n",
    "# ---------- run_metfrag ----------\n",
    "\n",
    "run_metfrag <- function(met_param, input_dir){\n",
    "    \n",
    "    filesmet_param <- read.table(met_param)\n",
    "    \n",
    "    for (files in filesmet_param[[1]]){\n",
    "        system(paste(\"java -jar\",  paste(input_dir, \"MetFrag2.4.5-CL.jar\", sep = ''), files))\n",
    "    }\n",
    "}\n",
    "run_metfrag(met_param, input_dir)"
   ]
  }
 ],
 "metadata": {
  "kernelspec": {
   "display_name": "R",
   "language": "R",
   "name": "ir"
  },
  "language_info": {
   "codemirror_mode": "r",
   "file_extension": ".r",
   "mimetype": "text/x-r-source",
   "name": "R",
   "pygments_lexer": "r",
   "version": "4.1.0"
  }
 },
 "nbformat": 4,
 "nbformat_minor": 5
}
