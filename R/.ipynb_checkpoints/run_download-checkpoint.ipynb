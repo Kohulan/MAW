{
 "cells": [
  {
   "cell_type": "code",
   "execution_count": 2,
   "id": "ea6a01d2",
   "metadata": {},
   "outputs": [],
   "source": [
    "# ---------- Preparations ----------\n",
    "# Load Libraries\n",
    "library(Spectra)\n",
    "library(MsBackendMgf)\n",
    "library(MsBackendHmdb)\n",
    "library(MsCoreUtils)\n",
    "library(MsBackendMsp)\n",
    "library(readr)\n",
    "library(dplyr)\n",
    "# 3 dependencies for latest MassBank version\n",
    "library(rvest)\n",
    "library(stringr)\n",
    "library(xml2)"
   ]
  },
  {
   "cell_type": "code",
   "execution_count": 3,
   "id": "5f9a0b49",
   "metadata": {},
   "outputs": [],
   "source": [
    "# ---------- Script ----------\n",
    "# input directory\n",
    "input_dir <- paste(getwd(), \"/\", sep = '')"
   ]
  },
  {
   "cell_type": "code",
   "execution_count": null,
   "id": "4714961b",
   "metadata": {},
   "outputs": [],
   "source": [
    "# load the functions file\n",
    "source(file = paste(input_dir, \"Workflow_R_Functions.r\", sep = ''))"
   ]
  },
  {
   "cell_type": "code",
   "execution_count": null,
   "id": "3414cfab",
   "metadata": {},
   "outputs": [],
   "source": [
    "# load db spectra objects [gnps, hmdb, mbank]\n",
    "download_specDB(input_dir, db = \"gnps\")"
   ]
  }
 ],
 "metadata": {
  "kernelspec": {
   "display_name": "R",
   "language": "R",
   "name": "ir"
  },
  "language_info": {
   "codemirror_mode": "r",
   "file_extension": ".r",
   "mimetype": "text/x-r-source",
   "name": "R",
   "pygments_lexer": "r",
   "version": "4.1.0"
  }
 },
 "nbformat": 4,
 "nbformat_minor": 5
}
