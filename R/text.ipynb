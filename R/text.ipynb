{
 "cells": [
  {
   "cell_type": "code",
   "execution_count": 23,
   "id": "052d90ee",
   "metadata": {},
   "outputs": [
    {
     "ename": "ERROR",
     "evalue": "Error in paste(\"wget -P\", input_dir, \"https://gnps-external.ucsd.edu/gnpslibrary/ALL_GNPS.mgf\", : Argument \"input_dir\" fehlt (ohne Standardwert)\n",
     "output_type": "error",
     "traceback": [
      "Error in paste(\"wget -P\", input_dir, \"https://gnps-external.ucsd.edu/gnpslibrary/ALL_GNPS.mgf\", : Argument \"input_dir\" fehlt (ohne Standardwert)\nTraceback:\n",
      "1. say_Hello()",
      "2. system(paste(\"wget -P\", input_dir, \"https://gnps-external.ucsd.edu/gnpslibrary/ALL_GNPS.mgf\", \n .     sep = \" \"))   # at line 8-11 of file <text>",
      "3. paste(\"wget -P\", input_dir, \"https://gnps-external.ucsd.edu/gnpslibrary/ALL_GNPS.mgf\", \n .     sep = \" \")"
     ]
    }
   ],
   "source": [
    "#! /usr/local/bin/Rscript\n",
    "args <- commandArgs(trailingOnly=TRUE)\n",
    "print(args)\n",
    "input_dir <- as.character(args[1])\n",
    "db <- as.character(args[2])\n",
    "\n",
    "say_Hello <- function(input_dir, db){\n",
    "    if (db == \"gnps\"){\n",
    "        system(paste(\"wget -P\", \n",
    "                 input_dir,\n",
    "                 \"https://gnps-external.ucsd.edu/gnpslibrary/ALL_GNPS.mgf\",\n",
    "                 sep =  \" \"))\n",
    "    }\n",
    "}\n",
    "say_Hello(input_dir, db)"
   ]
  },
  {
   "cell_type": "code",
   "execution_count": null,
   "id": "5d87cc16",
   "metadata": {},
   "outputs": [],
   "source": []
  }
 ],
 "metadata": {
  "kernelspec": {
   "display_name": "R",
   "language": "R",
   "name": "ir"
  },
  "language_info": {
   "codemirror_mode": "r",
   "file_extension": ".r",
   "mimetype": "text/x-r-source",
   "name": "R",
   "pygments_lexer": "r",
   "version": "4.1.0"
  }
 },
 "nbformat": 4,
 "nbformat_minor": 5
}
