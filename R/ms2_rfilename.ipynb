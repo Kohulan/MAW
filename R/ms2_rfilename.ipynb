{
 "cells": [
  {
   "cell_type": "code",
   "execution_count": 1,
   "id": "710eb329",
   "metadata": {},
   "outputs": [],
   "source": [
    "#!/Users/mahnoorzulfiqar/opt/anaconda3/envs/MS_metaProfiler/bin/Rscript\n",
    "##-----------------------------------------------------------------\n",
    "## Result Directories \n",
    "##-----------------------------------------------------------------\n",
    "\n",
    "## Specifying a function for creating result directories for each input mzml\n",
    "# input for the function:\n",
    "# input directory\n",
    "ms2_rfilename<- function(input_dir){\n",
    "    #list_ms2_files <- intersect(list.files(input_dir, pattern = \"_PRM_\"), list.files(input_dir, pattern = \".mzML\"))\n",
    "    list_ms2_files <- list.files(input_dir, pattern = \".mzML\")\n",
    "    mzml_file <- paste(input_dir, list_ms2_files, sep = \"\")\n",
    "    \n",
    "    #store the result file names to return to this function as output\n",
    "    ResultFileNames <- c()\n",
    "    File_id <- c()\n",
    "    nx <- 0\n",
    "    # x is mzML files\n",
    "    for (i in 1:length(mzml_file)){\n",
    "        nx <- nx+1\n",
    "        # remove .mzML to extract just the names\n",
    "        mzml_files <- str_replace(mzml_file[i], input_dir, \"./\")\n",
    "        name_mzmls <- str_remove(as.character(mzml_file[i]), \".mzML\")\n",
    "        name_mzml <- str_replace(name_mzmls, input_dir, \"./\")\n",
    "        #' for each file a subdirectory is created to store all results in that, add working directory\n",
    "        if (!file.exists(name_mzml)){\n",
    "            dir.create(name_mzml) ##create folder\n",
    "        }\n",
    "        ResultFileNames<- c(ResultFileNames, name_mzml)\n",
    "        File_id <- c(File_id, paste(\"file_\", nx, sep = \"\"))\n",
    "    }\n",
    "    input_table <- cbind(mzml_files, ResultFileNames, File_id)\n",
    "    \n",
    "    write.csv(input_table, paste(input_dir, \"input_table.csv\"))\n",
    "    return(data.frame(input_table))\n",
    "}\n",
    "ms2_rfilename()\n",
    "# usage:\n",
    "## input directory ##\n",
    "#input_dir <- paste(getwd(), \"/\", sep = '')\n",
    "#ms2_rfilename(input_dir)"
   ]
  },
  {
   "cell_type": "code",
   "execution_count": null,
   "id": "5ab1dc79",
   "metadata": {},
   "outputs": [],
   "source": []
  }
 ],
 "metadata": {
  "kernelspec": {
   "display_name": "R",
   "language": "R",
   "name": "ir"
  },
  "language_info": {
   "codemirror_mode": "r",
   "file_extension": ".r",
   "mimetype": "text/x-r-source",
   "name": "R",
   "pygments_lexer": "r",
   "version": "4.1.0"
  }
 },
 "nbformat": 4,
 "nbformat_minor": 5
}
