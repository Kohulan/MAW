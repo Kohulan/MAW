{
 "cells": [
  {
   "cell_type": "code",
   "execution_count": 28,
   "id": "710eb329",
   "metadata": {},
   "outputs": [
    {
     "name": "stdout",
     "output_type": "stream",
     "text": [
      "[1] \"/Users/mahnoorzulfiqar/Library/Jupyter/runtime/kernel-6422047d-afe9-4808-b3fd-3b5136e783ca.json\"\n"
     ]
    },
    {
     "data": {
      "text/html": [
       "<table class=\"dataframe\">\n",
       "<caption>A data.frame: 1 × 3</caption>\n",
       "<thead>\n",
       "\t<tr><th scope=col>mzml_files</th><th scope=col>ResultFileNames</th><th scope=col>File_id</th></tr>\n",
       "\t<tr><th scope=col>&lt;chr&gt;</th><th scope=col>&lt;chr&gt;</th><th scope=col>&lt;chr&gt;</th></tr>\n",
       "</thead>\n",
       "<tbody>\n",
       "\t<tr><td>./</td><td>./</td><td>file_1</td></tr>\n",
       "</tbody>\n",
       "</table>\n"
      ],
      "text/latex": [
       "A data.frame: 1 × 3\n",
       "\\begin{tabular}{lll}\n",
       " mzml\\_files & ResultFileNames & File\\_id\\\\\n",
       " <chr> & <chr> & <chr>\\\\\n",
       "\\hline\n",
       "\t ./ & ./ & file\\_1\\\\\n",
       "\\end{tabular}\n"
      ],
      "text/markdown": [
       "\n",
       "A data.frame: 1 × 3\n",
       "\n",
       "| mzml_files &lt;chr&gt; | ResultFileNames &lt;chr&gt; | File_id &lt;chr&gt; |\n",
       "|---|---|---|\n",
       "| ./ | ./ | file_1 |\n",
       "\n"
      ],
      "text/plain": [
       "  mzml_files ResultFileNames File_id\n",
       "1 ./         ./              file_1 "
      ]
     },
     "metadata": {},
     "output_type": "display_data"
    }
   ],
   "source": [
    "#!/Users/mahnoorzulfiqar/opt/anaconda3/envs/mawRpy/bin/Rscript\n",
    "\n",
    "#' @title Result Directories\n",
    "#'\n",
    "#' @description\n",
    "#'\n",
    "#' It lists all files with .mzML extension.\n",
    "#' These files are without the full path, so the input_dir is added to \n",
    "#' the path to these files. For each .mzML file, the extension is removed \n",
    "#' and stored as a name for the results directory for each input .mzML \n",
    "#' file For each input .mzML file an id is generated like file_1\n",
    "#' A table is generated at the end\n",
    "\n",
    "\n",
    "#' @param input_dir is full directory where all MZML input files\n",
    "#'\n",
    "\n",
    "\n",
    "\n",
    "#' @return\n",
    "#' \n",
    "#' A table of mzml_files, ResultFileNames, File_id columns. \n",
    "#' Result files for each input .mzML is generated.\n",
    "#' \n",
    "\n",
    "#' @author Mahnoor Zulfiqar\n",
    "#' \n",
    "#' @examples\n",
    "#' \n",
    "#' ms2_rfilename(input_dir = \"/usr/project/\")\n",
    "\n",
    "\n",
    "# ---------- Preparations ----------\n",
    "# Load libraries\n",
    "# ---------- Preparations ----------\n",
    "# Load Libraries\n",
    "library(stringr)\n",
    "\n",
    "\n",
    "# ---------- Arguments and user variables ----------\n",
    "args <- commandArgs(trailingOnly=TRUE)\n",
    "\n",
    "\n",
    "input_dir <- as.character(args[1])\n",
    "\n",
    "\n",
    "\n",
    "# ---------- ms2_rfilename ----------\n",
    "## Specifying a function for creating result directories for each input mzml\n",
    "# input for the function:\n",
    "# input directory\n",
    "ms2_rfilename<- function(input_dir){\n",
    "    #list_ms2_files <- intersect(list.files(input_dir, pattern = \"_PRM_\"), list.files(input_dir, pattern = \".mzML\"))\n",
    "    list_ms2_files <- list.files(input_dir, pattern = \".mzML\")\n",
    "    mzml_file <- paste(input_dir, list_ms2_files, sep = \"\")\n",
    "    \n",
    "    #store the result file names to return to this function as output\n",
    "    mzml_files <- c()\n",
    "    ResultFileNames <- c()\n",
    "    File_id <- c()\n",
    "    nx <- 0\n",
    "    # x is mzML files\n",
    "    for (i in 1:length(mzml_file)){\n",
    "        nx <- nx+1\n",
    "        # remove .mzML to extract just the names\n",
    "        mzml_filex <- str_replace(mzml_file[i], input_dir, \"./\")\n",
    "        name_mzmls <- str_remove(as.character(mzml_filex), \".mzML\")\n",
    "        #name_mzml <- str_replace(name_mzmls, input_dir, \"./\")\n",
    "        #' for each file a subdirectory is created to store all results in that, add working directory\n",
    "        if (!file.exists(name_mzmls)){\n",
    "            dir.create(name_mzmls) ##create folder\n",
    "            print(\"why isn't it working\")\n",
    "        }\n",
    "        ResultFileNames<- c(ResultFileNames, name_mzmls)\n",
    "        mzml_files <- c(mzml_files, mzml_filex)\n",
    "        File_id <- c(File_id, paste(\"file_\", nx, sep = \"\"))\n",
    "    }\n",
    "    input_table <- cbind(mzml_files, ResultFileNames, File_id)\n",
    "    \n",
    "    write.csv(input_table, paste(input_dir, \"input_table.csv\", sep = \"\"))\n",
    "    print(input_dir)\n",
    "    return(data.frame(input_table))\n",
    "}\n",
    "ms2_rfilename(input_dir)"
   ]
  },
  {
   "cell_type": "code",
   "execution_count": null,
   "id": "5379ab58",
   "metadata": {},
   "outputs": [],
   "source": []
  }
 ],
 "metadata": {
  "kernelspec": {
   "display_name": "R",
   "language": "R",
   "name": "ir"
  },
  "language_info": {
   "codemirror_mode": "r",
   "file_extension": ".r",
   "mimetype": "text/x-r-source",
   "name": "R",
   "pygments_lexer": "r",
   "version": "4.1.0"
  }
 },
 "nbformat": 4,
 "nbformat_minor": 5
}
