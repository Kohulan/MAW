{
 "cells": [
  {
   "cell_type": "code",
   "execution_count": 11,
   "id": "a6e2fc40",
   "metadata": {},
   "outputs": [
    {
     "name": "stdout",
     "output_type": "stream",
     "text": [
      "[1] \"gnps is ok\"\n",
      "[1] \"hmdb is ok\"\n",
      "[1] \"mbank is ok\"\n"
     ]
    }
   ],
   "source": [
    "#! /usr/bin/Rscript\n",
    "\n",
    "# ---------- Preparations ----------\n",
    "# Load libraries\n",
    "library(\"Spectra\")\n",
    "library(\"MsBackendMgf\")\n",
    "library(\"MsBackendMsp\")\n",
    "library(\"MsBackendHmdb\")\n",
    "library(\"rvest\")\n",
    "library(\"stringr\")\n",
    "library(\"xml2\")\n",
    "\n",
    "# ---------- Arguments and user variables ----------\n",
    "\n",
    "args <- commandArgs(trailingOnly=TRUE)\n",
    "\n",
    "input_dir <- as.character(args[1])\n",
    "db <- as.character(args[2])\n",
    "error <- as.logical(args[3])\n",
    "\n",
    "download_specDB <- function(input_dir, db = \"all\", error = TRUE){\n",
    "    # gnps\n",
    "    if (db == \"all\" || db ==\"gnps\"){\n",
    "        print(\"gnps is ok\")\n",
    "    }\n",
    "    # gnps\n",
    "    if (db == \"all\" || db ==\"hmdb\"){\n",
    "        print(\"hmdb is ok\")\n",
    "    }\n",
    "    # gnps\n",
    "    if (db == \"all\" || db ==\"mbank\"){\n",
    "        print(\"mbank is ok\")\n",
    "    }\n",
    "}\n",
    "download_specDB(input_dir, db = \"all\", error = TRUE)"
   ]
  },
  {
   "cell_type": "code",
   "execution_count": null,
   "id": "88975b16",
   "metadata": {},
   "outputs": [],
   "source": []
  }
 ],
 "metadata": {
  "kernelspec": {
   "display_name": "R",
   "language": "R",
   "name": "ir"
  },
  "language_info": {
   "codemirror_mode": "r",
   "file_extension": ".r",
   "mimetype": "text/x-r-source",
   "name": "R",
   "pygments_lexer": "r",
   "version": "4.1.0"
  }
 },
 "nbformat": 4,
 "nbformat_minor": 5
}
