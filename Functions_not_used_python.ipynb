{
 "cells": [
  {
   "cell_type": "code",
   "execution_count": 1,
   "id": "99b97891",
   "metadata": {},
   "outputs": [],
   "source": [
    "# import pandas as pd\n",
    "\n",
    "# import pubchempy as pcp\n",
    "# import numpy as np\n",
    "# def isNaN(string):\n",
    "#     return string != string\n",
    "# import os\n",
    "# import glob\n",
    "# import re\n",
    "# from pybatchclassyfire import *\n",
    "# import csv \n",
    "# import time\n",
    "# import json\n",
    "# from pandas import json_normalize\n",
    "# import wget\n",
    "# import string\n",
    "# import urllib.parse\n",
    "# import openpyxl\n",
    "# import statistics\n",
    "# import sys\n",
    "# from itertools import chain\n",
    "# from rdkit import Chem\n",
    "# from rdkit import DataStructs\n",
    "# from rdkit.Chem import AllChem\n",
    "# from rdkit.Chem import rdFMCS\n",
    "# from rdkit.Chem import PandasTools"
   ]
  },
  {
   "cell_type": "markdown",
   "id": "396db87f",
   "metadata": {},
   "source": [
    "## MetFrag Suspect List"
   ]
  },
  {
   "cell_type": "code",
   "execution_count": 2,
   "id": "e16991cd",
   "metadata": {},
   "outputs": [],
   "source": [
    "# # make sure your Smiles entries in the suspect list csv are in a column named \"SMILES\"\n",
    "# def slist_metfrag(input_dir, slist_csv, name):\n",
    "#     \"\"\"slist_metfrag is used to create a txt file that contains a list of \n",
    "#     InChIKeys. This list is later used by MetFrag to use these compounds \n",
    "#     as a Suspect List.\n",
    "\n",
    "#     Parameters:\n",
    "#     input_dir (str): This is the input directory where all the .mzML \n",
    "#     files and their respective result directories are stored. For this \n",
    "#     function this directory must contain a csv file that has a column \n",
    "#     named \"SMILES\".\n",
    "    \n",
    "#     slist_csv (str): This is the csv file that contains a column of \n",
    "#     \"SMILES\". Additionally this file can contain other information \n",
    "#     about the compounds, but for this function, column of \"SMILES\", \n",
    "#     named as \"SMILES\" is necessary.\n",
    "\n",
    "#     Returns:\n",
    "#     list: list of InChIKeys\n",
    "#     txt: a txt file of list of InChIKeys, is stored in input_dir\n",
    "    \n",
    "#     Usage:\n",
    "#     slist_metfrag(input_dir = \"/user/project/\", slist_csv = \n",
    "#     \"suspectlist.csv\")\n",
    "    \n",
    "#     \"\"\"\n",
    "#     sl = pd.read_csv(slist_csv)\n",
    "#     sl_mtfrag= []\n",
    "#     for i, rows in sl.iterrows():\n",
    "#         if i is not None:\n",
    "#             mols = Chem.MolFromSmiles(sl['SMILES'][i])\n",
    "#             try:\n",
    "#                 sl.loc[i, 'InChIKey'] = Chem.inchi.MolToInchiKey(mols)\n",
    "#                 sl_mtfrag.append(sl['InChIKey'][i])\n",
    "#             except Exception as e:\n",
    "#                 print(e)\n",
    "    \n",
    "#     with open((input_dir + \"/SL_\"+ name + '.txt'), 'w') as filehandle:\n",
    "#         for listitem in sl_mtfrag:\n",
    "#             filehandle.write('%s\\n' % listitem)\n",
    "#     return(sl_mtfrag)"
   ]
  },
  {
   "cell_type": "code",
   "execution_count": null,
   "id": "53e680ae",
   "metadata": {},
   "outputs": [],
   "source": []
  }
 ],
 "metadata": {
  "kernelspec": {
   "display_name": "Python (mawRpy)",
   "language": "python",
   "name": "mawrpy"
  },
  "language_info": {
   "codemirror_mode": {
    "name": "ipython",
    "version": 3
   },
   "file_extension": ".py",
   "mimetype": "text/x-python",
   "name": "python",
   "nbconvert_exporter": "python",
   "pygments_lexer": "ipython3",
   "version": "3.10.2"
  }
 },
 "nbformat": 4,
 "nbformat_minor": 5
}
