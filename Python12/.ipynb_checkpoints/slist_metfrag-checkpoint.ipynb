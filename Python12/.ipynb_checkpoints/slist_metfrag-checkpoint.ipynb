{
 "cells": [
  {
   "cell_type": "code",
   "execution_count": 7,
   "id": "473e5cc8",
   "metadata": {},
   "outputs": [
    {
     "ename": "NameError",
     "evalue": "name 'sys' is not defined",
     "output_type": "error",
     "traceback": [
      "\u001b[0;31m---------------------------------------------------------------------------\u001b[0m",
      "\u001b[0;31mNameError\u001b[0m                                 Traceback (most recent call last)",
      "Input \u001b[0;32mIn [7]\u001b[0m, in \u001b[0;36m<module>\u001b[0;34m\u001b[0m\n\u001b[1;32m     49\u001b[0m         \u001b[38;5;28;01mfor\u001b[39;00m listitem \u001b[38;5;129;01min\u001b[39;00m sl_mtfrag:\n\u001b[1;32m     50\u001b[0m             filehandle\u001b[38;5;241m.\u001b[39mwrite(\u001b[38;5;124m'\u001b[39m\u001b[38;5;132;01m%s\u001b[39;00m\u001b[38;5;130;01m\\n\u001b[39;00m\u001b[38;5;124m'\u001b[39m \u001b[38;5;241m%\u001b[39m listitem)\n\u001b[0;32m---> 52\u001b[0m slist_metfrag(\u001b[43msys\u001b[49m\u001b[38;5;241m.\u001b[39margv[\u001b[38;5;241m1\u001b[39m],sys\u001b[38;5;241m.\u001b[39margv[\u001b[38;5;241m2\u001b[39m])\n",
      "\u001b[0;31mNameError\u001b[0m: name 'sys' is not defined"
     ]
    }
   ],
   "source": [
    "#!/usr/bin/env python\n",
    "#make executable in bash chmod +x PyRun\n",
    "\n",
    "# Libraries\n",
    "import pandas as pd\n",
    "import os\n",
    "import numpy as np\n",
    "from rdkit import Chem\n",
    "from rdkit import DataStructs\n",
    "from rdkit.Chem import AllChem\n",
    "from rdkit.Chem import rdFMCS\n",
    "from rdkit.Chem import PandasTools\n",
    "\n",
    "# make sure your Smiles entries in the suspect list csv are in a column named \"SMILES\"\n",
    "def slist_metfrag(input_dir, slist_csv):\n",
    "    \"\"\"slist_metfrag is used to create a txt file that contains a list of \n",
    "    InChIKeys. This list is later used by MetFrag to use these compounds \n",
    "    as a Suspect List.\n",
    "\n",
    "    Parameters:\n",
    "    input_dir (str): This is the input directory where all the .mzML \n",
    "    files and their respective result directories are stored. For this \n",
    "    function this directory must contain a csv file that has a column \n",
    "    named \"SMILES\".\n",
    "    \n",
    "    slist_csv (str): This is the csv file that contains a column of \n",
    "    \"SMILES\". Additionally this file can contain other information \n",
    "    about the compounds, but for this function, column of \"SMILES\", \n",
    "    named as \"SMILES\" is necessary.\n",
    "\n",
    "    Returns:\n",
    "    list: list of InChIKeys\n",
    "    txt: a txt file of list of InChIKeys, is stored in input_dir\n",
    "    \n",
    "    Usage:\n",
    "    slist_metfrag(input_dir = \"/user/project/\", slist_csv = \n",
    "    \"suspectlist.csv\")\n",
    "    \n",
    "    \"\"\"\n",
    "    print(\"its working\")\n",
    "    sl = pd.read_csv(slist_csv)\n",
    "    sl_mtfrag= []\n",
    "    for i, rows in sl.iterrows():\n",
    "        mols = Chem.MolFromSmiles(sl['SMILES'][i])\n",
    "        sl.loc[i, 'InChIKey'] = Chem.inchi.MolToInchiKey(mols)\n",
    "        sl_mtfrag.append(sl['InChIKey'][i])\n",
    "    return(sl_mtfrag)\n",
    "    with open((input_dir + 'SL_metfrag.txt'), 'w') as filehandle:\n",
    "        for listitem in sl_mtfrag:\n",
    "            filehandle.write('%s\\n' % listitem)\n",
    "            \n",
    "slist_metfrag(sys.argv[1],sys.argv[2])"
   ]
  },
  {
   "cell_type": "code",
   "execution_count": null,
   "id": "3db57ddc",
   "metadata": {},
   "outputs": [],
   "source": []
  }
 ],
 "metadata": {
  "kernelspec": {
   "display_name": "Python (mawRpy)",
   "language": "python",
   "name": "mawrpy"
  },
  "language_info": {
   "codemirror_mode": {
    "name": "ipython",
    "version": 3
   },
   "file_extension": ".py",
   "mimetype": "text/x-python",
   "name": "python",
   "nbconvert_exporter": "python",
   "pygments_lexer": "ipython3",
   "version": "3.10.2"
  }
 },
 "nbformat": 4,
 "nbformat_minor": 5
}
