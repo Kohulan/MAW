{
 "cells": [
  {
   "cell_type": "code",
   "execution_count": 1,
   "id": "e988156a",
   "metadata": {},
   "outputs": [],
   "source": [
    "#!/usr/bin/env python\n",
    "# coding: utf-8\n",
    "\n",
    "#!/usr/bin/env python\n",
    "#make executable in bash chmod +x PyRun\n",
    "\n",
    "# Libraries\n",
    "import os\n",
    "import glob\n",
    "import re\n",
    "\n",
    "import csv \n",
    "import time\n",
    "import json\n",
    "\n",
    "import pubchempy as pcp\n",
    "import numpy as np\n",
    "\n",
    "\n",
    "def checkSMILES_validity(input_dir, resultcsv):\n",
    "    \n",
    "    \"\"\"checkSMILES_validity does exactly as the name says, using\n",
    "    RDKit, whether the SMILES are invalid or have invalid \n",
    "    chemistry\n",
    "\n",
    "    Parameters:\n",
    "    input_dir (str): This is the input directory where all the .mzML \n",
    "    files and their respective result directories are stored.\n",
    "    \n",
    "    results: df from combine_CuratedR\n",
    "    \n",
    "    Returns:\n",
    "    dataframe: with valid SMILES\n",
    "    csv: \"MetabolomicsResults/final_curation_with_validSMILES.csv\"\n",
    "    \n",
    "    Usage:\n",
    "    checkSMILES_validity(input_dir = \"usr/project/\", results)\n",
    "\n",
    "    \"\"\"\n",
    "    def isNaN(string):\n",
    "        return string != string\n",
    "    results = pd.read_csv(resultcsv)\n",
    "    # check validity of SMILES\n",
    "    for i, row in results.iterrows():\n",
    "        if not isNaN(results['SMILES_final'][i]):\n",
    "            m = Chem.MolFromSmiles(results['SMILES_final'][i] ,sanitize=False)\n",
    "            if m is None:\n",
    "                results['SMILES_final'][i] = 'invalid_SMILES'\n",
    "            else:\n",
    "                try:\n",
    "                    Chem.SanitizeMol(m)\n",
    "                except:\n",
    "                    results['SMILES_final'][i] = 'invalid_chemistry'\n",
    "    results.to_csv(input_dir + \"MetabolomicsResults/final_curation_with_validSMILES.csv\")\n",
    "    return(results)\n",
    "\n",
    "checkSMILES_validity(sys.argv[1], sys.argv[2])\n"
   ]
  },
  {
   "cell_type": "code",
   "execution_count": null,
   "id": "426e202c",
   "metadata": {},
   "outputs": [],
   "source": []
  }
 ],
 "metadata": {
  "kernelspec": {
   "display_name": "Python (mawRpy)",
   "language": "python",
   "name": "mawrpy"
  },
  "language_info": {
   "codemirror_mode": {
    "name": "ipython",
    "version": 3
   },
   "file_extension": ".py",
   "mimetype": "text/x-python",
   "name": "python",
   "nbconvert_exporter": "python",
   "pygments_lexer": "ipython3",
   "version": "3.10.2"
  }
 },
 "nbformat": 4,
 "nbformat_minor": 5
}
