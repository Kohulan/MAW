{
 "cells": [
  {
   "cell_type": "code",
   "execution_count": 1,
   "id": "c76c1c2c",
   "metadata": {},
   "outputs": [],
   "source": [
    "start.time <- Sys.time()"
   ]
  },
  {
   "cell_type": "code",
   "execution_count": null,
   "id": "4eba95f2",
   "metadata": {},
   "outputs": [],
   "source": [
    "# ---------- Script ----------\n",
    "# input directory\n",
    "input_dir <- paste(getwd(), \"/data\", sep = \"\")\n",
    "input_dir"
   ]
  },
  {
   "cell_type": "code",
   "execution_count": 2,
   "id": "c2868eb3",
   "metadata": {},
   "outputs": [
    {
     "name": "stderr",
     "output_type": "stream",
     "text": [
      "Lade nötiges Paket: S4Vectors\n",
      "\n",
      "Lade nötiges Paket: stats4\n",
      "\n",
      "Lade nötiges Paket: BiocGenerics\n",
      "\n",
      "\n",
      "Attache Paket: ‘BiocGenerics’\n",
      "\n",
      "\n",
      "Die folgenden Objekte sind maskiert von ‘package:stats’:\n",
      "\n",
      "    IQR, mad, sd, var, xtabs\n",
      "\n",
      "\n",
      "Die folgenden Objekte sind maskiert von ‘package:base’:\n",
      "\n",
      "    Filter, Find, Map, Position, Reduce, anyDuplicated, append,\n",
      "    as.data.frame, basename, cbind, colnames, dirname, do.call,\n",
      "    duplicated, eval, evalq, get, grep, grepl, intersect, is.unsorted,\n",
      "    lapply, mapply, match, mget, order, paste, pmax, pmax.int, pmin,\n",
      "    pmin.int, rank, rbind, rownames, sapply, setdiff, sort, table,\n",
      "    tapply, union, unique, unsplit, which.max, which.min\n",
      "\n",
      "\n",
      "\n",
      "Attache Paket: ‘S4Vectors’\n",
      "\n",
      "\n",
      "Die folgenden Objekte sind maskiert von ‘package:base’:\n",
      "\n",
      "    I, expand.grid, unname\n",
      "\n",
      "\n",
      "Lade nötiges Paket: BiocParallel\n",
      "\n",
      "Lade nötiges Paket: ProtGenerics\n",
      "\n",
      "\n",
      "Attache Paket: ‘ProtGenerics’\n",
      "\n",
      "\n",
      "Das folgende Objekt ist maskiert ‘package:stats’:\n",
      "\n",
      "    smooth\n",
      "\n",
      "\n",
      "\n",
      "Attache Paket: ‘Spectra’\n",
      "\n",
      "\n",
      "Das folgende Objekt ist maskiert ‘package:ProtGenerics’:\n",
      "\n",
      "    addProcessing\n",
      "\n",
      "\n"
     ]
    }
   ],
   "source": [
    "library(Spectra)"
   ]
  },
  {
   "cell_type": "code",
   "execution_count": 3,
   "id": "5552a967",
   "metadata": {},
   "outputs": [
    {
     "name": "stderr",
     "output_type": "stream",
     "text": [
      "Warning message in fun(libname, pkgname):\n",
      "“mzR has been built against a different Rcpp version (1.0.8.3)\n",
      "than is installed on your system (1.0.9). This might lead to errors\n",
      "when loading mzR. If you encounter such issues, please send a report,\n",
      "including the output of sessionInfo() to the Bioc support forum at \n",
      "https://support.bioconductor.org/. For details see also\n",
      "https://github.com/sneumann/mzR/wiki/mzR-Rcpp-compiler-linker-issue.”\n"
     ]
    },
    {
     "ename": "ERROR",
     "evalue": "Error in .local(object, ...): File(s) /Users/mahnoorzulfiqar/OneDriveUNI/MAW-data/Ponder_Bryo_results_RUN1_R/pos_02_spring_Fistax_2_1-A-2_01_17276.mzML not found\n",
     "output_type": "error",
     "traceback": [
      "Error in .local(object, ...): File(s) /Users/mahnoorzulfiqar/OneDriveUNI/MAW-data/Ponder_Bryo_results_RUN1_R/pos_02_spring_Fistax_2_1-A-2_01_17276.mzML not found\nTraceback:\n",
      "1. Spectra(x, backend = MsBackendMzR())",
      "2. Spectra(x, backend = MsBackendMzR())",
      "3. .local(object, ...)",
      "4. callNextMethod(object = object, processingQueue = processingQueue, \n .     metadata = metadata, source = source, backend = backend, \n .     ..., BPPARAM = BPPARAM)",
      "5. eval(call, callEnv)",
      "6. eval(call, callEnv)",
      "7. .nextMethod(object = object, processingQueue = processingQueue, \n .     metadata = metadata, source = source, backend = backend, \n .     ..., BPPARAM = BPPARAM)",
      "8. .local(object, ...)",
      "9. new(\"Spectra\", metadata = metadata, processingQueue = processingQueue, \n .     backend = backendInitialize(source, object, ..., BPPARAM = BPPARAM))",
      "10. initialize(value, ...)",
      "11. initialize(value, ...)",
      "12. backendInitialize(source, object, ..., BPPARAM = BPPARAM)",
      "13. backendInitialize(source, object, ..., BPPARAM = BPPARAM)",
      "14. .local(object, ...)",
      "15. stop(msg)"
     ]
    }
   ],
   "source": [
    "x = \"/Users/mahnoorzulfiqar/OneDriveUNI/MAW-data/Ponder_Bryo_results_RUN1_R/pos_02_spring_Fistax_2_1-A-2_01_17276.mzML\"\n",
    "Spectra(x, backend = MsBackendMzR())"
   ]
  },
  {
   "cell_type": "code",
   "execution_count": null,
   "id": "7beca586",
   "metadata": {},
   "outputs": [],
   "source": [
    "# load the functions file\n",
    "source(paste(getwd(), \"/Workflow_R_Functions.r\", sep = \"\"))"
   ]
  },
  {
   "cell_type": "code",
   "execution_count": null,
   "id": "ef1c131c",
   "metadata": {},
   "outputs": [],
   "source": [
    "input_table <- data.frame(ms2_rfilename(input_dir))\n",
    "input_table"
   ]
  },
  {
   "cell_type": "code",
   "execution_count": null,
   "id": "4f0ef442",
   "metadata": {},
   "outputs": [],
   "source": [
    "for (i in 1:nrow(input_table)){\n",
    "    \n",
    "    #Preprocess and Read the mzMLfiles\n",
    "    spec_pr <- spec_Processing(input_dir,\n",
    "                               input_table[i, \"mzml_files\"], \n",
    "                               input_table[i, \"ResultFileNames\"])\n",
    "    \n",
    "    #perform dereplication with all dbs\n",
    "    df_derep <- spec_dereplication_file(mzml_file = input_table[i, \"mzml_files\"],\n",
    "                                   pre_tbl = paste(input_dir, str_remove(paste(input_table[i, \"ResultFileNames\"], \"/premz_list.txt\", sep = \"\"), \".\"), sep =\"\"), \n",
    "                                   proc_mzml = paste(input_dir, str_remove(paste(input_table[i, \"ResultFileNames\"], \"/processedSpectra.mzML\", sep = \"\"), \".\"), sep =\"\"),\n",
    "                                   db = \"all\", \n",
    "                                   result_dir = input_table[i, \"ResultFileNames\"],\n",
    "                                   file_id = input_table[i, \"File_id\"], \n",
    "                                   input_dir, \n",
    "                                   no_of_candidates = 30,\n",
    "                                   ppmx = 15)\n",
    "    \n",
    "    \n",
    "    # Extract MS2 peak lists\n",
    "    spec_pr2 <- ms2_peaks(pre_tbl = paste(input_dir, str_remove(paste(input_table[i, \"ResultFileNames\"], \"/premz_list.txt\", sep = \"\"), \".\"), sep =\"\"), \n",
    "                          proc_mzml = paste(input_dir, str_remove(paste(input_table[i, \"ResultFileNames\"], \"/processedSpectra.mzML\", sep = \"\"), \".\"), sep =\"\"),\n",
    "                          input_dir,\n",
    "                          result_dir = input_table[i, \"ResultFileNames\"],\n",
    "                         file_id = input_table[i, \"File_id\"])\n",
    "    \n",
    "    # camera results for isotopes\n",
    "    cam_res <- cam_func(input_dir,\n",
    "                        f = input_table[i, \"mzml_files\"], \n",
    "                        ms2features = paste(input_dir, str_remove(paste(input_table[i, \"ResultFileNames\"], \"/insilico/MS2DATA.csv\", sep = \"\"), \".\"), sep = \"\"))\n",
    "    \n",
    "    # Extract MS1 peaks or isotopic peaks\n",
    "    ms1p <- ms1_peaks(x = paste(input_dir, str_remove(paste(input_table[i, \"ResultFileNames\"],'/insilico/MS2DATA.csv', sep = \"\"), \".\"), sep =\"\"), \n",
    "                      y = paste(input_dir, str_remove(paste(input_table[i, \"ResultFileNames\"],'/CAMERAResults.csv', sep = \"\"), \".\"), sep =\"\"), \n",
    "                      input_table[i, \"ResultFileNames\"], \n",
    "                      input_dir, \n",
    "                      QCfile = TRUE)\n",
    "    \n",
    "    #prepare sirius parameter files\n",
    "    sirius_param_files <- sirius_param(x = paste(input_dir, str_remove(paste(input_table[i, \"ResultFileNames\"],'/insilico/MS1DATA.csv', sep = \"\"), \".\"), sep =\"\"), \n",
    "                                       result_dir = input_table[i, 'ResultFileNames'], \n",
    "                                       input_dir,\n",
    "                                       SL = FALSE)\n",
    "    \n",
    "    \n",
    "    # Run sirius\n",
    "    run_sirius(files = paste(input_dir, str_remove(paste(input_table[i, \"ResultFileNames\"],'/insilico/MS1DATA_SiriusP.tsv', sep = \"\"), \".\"), sep =\"\"), \n",
    "               ppm_max = 5, \n",
    "               ppm_max_ms2 = 15, \n",
    "               QC = TRUE, \n",
    "               SL = FALSE, \n",
    "               SL_path = NA,\n",
    "               candidates = 30,\n",
    "              profile = \"qtof\")\n",
    "}"
   ]
  },
  {
   "cell_type": "code",
   "execution_count": null,
   "id": "fb2ca800",
   "metadata": {},
   "outputs": [],
   "source": [
    "end.time <- Sys.time()"
   ]
  },
  {
   "cell_type": "code",
   "execution_count": null,
   "id": "553a6aba",
   "metadata": {},
   "outputs": [],
   "source": [
    "time.taken <- end.time - start.time\n",
    "print(time.taken)"
   ]
  }
 ],
 "metadata": {
  "kernelspec": {
   "display_name": "R",
   "language": "R",
   "name": "ir"
  },
  "language_info": {
   "codemirror_mode": "r",
   "file_extension": ".r",
   "mimetype": "text/x-r-source",
   "name": "R",
   "pygments_lexer": "r",
   "version": "4.2.0"
  }
 },
 "nbformat": 4,
 "nbformat_minor": 5
}
