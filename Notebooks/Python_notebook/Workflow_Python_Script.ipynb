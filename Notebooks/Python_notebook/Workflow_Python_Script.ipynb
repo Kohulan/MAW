{
 "cells": [
  {
   "cell_type": "code",
   "execution_count": null,
   "id": "7347def9",
   "metadata": {},
   "outputs": [],
   "source": [
    "# import the function file\n",
    "from Workflow_Python_Functions import *"
   ]
  },
  {
   "cell_type": "code",
   "execution_count": null,
   "id": "87b67fbb",
   "metadata": {},
   "outputs": [],
   "source": [
    "#Define input directory, keep all files in same directory and scripts so getwd works\n",
    "input_dir = os.getwd()+\"/data\"\n",
    "input_dir"
   ]
  },
  {
   "cell_type": "code",
   "execution_count": null,
   "id": "dbb66299",
   "metadata": {},
   "outputs": [],
   "source": [
    "spec_postproc(input_dir, Source = \"all\")"
   ]
  },
  {
   "cell_type": "code",
   "execution_count": null,
   "id": "a4fbc3d8",
   "metadata": {},
   "outputs": [],
   "source": [
    "MCSS_for_SpecDB(input_dir, Source)"
   ]
  },
  {
   "cell_type": "code",
   "execution_count": null,
   "id": "1343f546",
   "metadata": {},
   "outputs": [],
   "source": [
    "sirius_postproc(input_dir, exp_int = 0.90, csi_score = -150)"
   ]
  },
  {
   "cell_type": "code",
   "execution_count": null,
   "id": "40902262",
   "metadata": {},
   "outputs": [],
   "source": [
    "MCSS_for_SIRIUS(input_dir)    "
   ]
  },
  {
   "cell_type": "code",
   "execution_count": null,
   "id": "871df0c1",
   "metadata": {},
   "outputs": [],
   "source": [
    "CandidateSelection_SimilarityandIdentity(input_dir)"
   ]
  },
  {
   "cell_type": "code",
   "execution_count": null,
   "id": "a706a408",
   "metadata": {},
   "outputs": [],
   "source": [
    "classification(input_dir, resultcsv)"
   ]
  }
 ],
 "metadata": {
  "kernelspec": {
   "display_name": "Python (mawRpy)",
   "language": "python",
   "name": "mawrpy"
  },
  "language_info": {
   "codemirror_mode": {
    "name": "ipython",
    "version": 3
   },
   "file_extension": ".py",
   "mimetype": "text/x-python",
   "name": "python",
   "nbconvert_exporter": "python",
   "pygments_lexer": "ipython3",
   "version": "3.10.2"
  }
 },
 "nbformat": 4,
 "nbformat_minor": 5
}
