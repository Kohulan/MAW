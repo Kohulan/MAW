{
 "cells": [
  {
   "cell_type": "code",
   "execution_count": 1,
   "id": "00ba7852",
   "metadata": {},
   "outputs": [
    {
     "name": "stderr",
     "output_type": "stream",
     "text": [
      "Lade nötiges Paket: S4Vectors\n",
      "\n",
      "Lade nötiges Paket: stats4\n",
      "\n",
      "Lade nötiges Paket: BiocGenerics\n",
      "\n",
      "\n",
      "Attache Paket: ‘BiocGenerics’\n",
      "\n",
      "\n",
      "Die folgenden Objekte sind maskiert von ‘package:stats’:\n",
      "\n",
      "    IQR, mad, sd, var, xtabs\n",
      "\n",
      "\n",
      "Die folgenden Objekte sind maskiert von ‘package:base’:\n",
      "\n",
      "    Filter, Find, Map, Position, Reduce, anyDuplicated, append,\n",
      "    as.data.frame, basename, cbind, colnames, dirname, do.call,\n",
      "    duplicated, eval, evalq, get, grep, grepl, intersect, is.unsorted,\n",
      "    lapply, mapply, match, mget, order, paste, pmax, pmax.int, pmin,\n",
      "    pmin.int, rank, rbind, rownames, sapply, setdiff, sort, table,\n",
      "    tapply, union, unique, unsplit, which.max, which.min\n",
      "\n",
      "\n",
      "\n",
      "Attache Paket: ‘S4Vectors’\n",
      "\n",
      "\n",
      "Die folgenden Objekte sind maskiert von ‘package:base’:\n",
      "\n",
      "    I, expand.grid, unname\n",
      "\n",
      "\n",
      "Lade nötiges Paket: BiocParallel\n",
      "\n",
      "Lade nötiges Paket: ProtGenerics\n",
      "\n",
      "\n",
      "Attache Paket: ‘ProtGenerics’\n",
      "\n",
      "\n",
      "Das folgende Objekt ist maskiert ‘package:stats’:\n",
      "\n",
      "    smooth\n",
      "\n",
      "\n",
      "\n",
      "Attache Paket: ‘Spectra’\n",
      "\n",
      "\n",
      "Das folgende Objekt ist maskiert ‘package:ProtGenerics’:\n",
      "\n",
      "    addProcessing\n",
      "\n",
      "\n",
      "\n",
      "Attache Paket: ‘MsCoreUtils’\n",
      "\n",
      "\n",
      "Die folgenden Objekte sind maskiert von ‘package:Spectra’:\n",
      "\n",
      "    bin, smooth\n",
      "\n",
      "\n",
      "Die folgenden Objekte sind maskiert von ‘package:ProtGenerics’:\n",
      "\n",
      "    bin, smooth\n",
      "\n",
      "\n",
      "Das folgende Objekt ist maskiert ‘package:stats’:\n",
      "\n",
      "    smooth\n",
      "\n",
      "\n",
      "\n",
      "Attache Paket: ‘dplyr’\n",
      "\n",
      "\n",
      "Das folgende Objekt ist maskiert ‘package:MsCoreUtils’:\n",
      "\n",
      "    between\n",
      "\n",
      "\n",
      "Die folgenden Objekte sind maskiert von ‘package:S4Vectors’:\n",
      "\n",
      "    first, intersect, rename, setdiff, setequal, union\n",
      "\n",
      "\n",
      "Die folgenden Objekte sind maskiert von ‘package:BiocGenerics’:\n",
      "\n",
      "    combine, intersect, setdiff, union\n",
      "\n",
      "\n",
      "Die folgenden Objekte sind maskiert von ‘package:stats’:\n",
      "\n",
      "    filter, lag\n",
      "\n",
      "\n",
      "Die folgenden Objekte sind maskiert von ‘package:base’:\n",
      "\n",
      "    intersect, setdiff, setequal, union\n",
      "\n",
      "\n",
      "\n",
      "Attache Paket: ‘rvest’\n",
      "\n",
      "\n",
      "Das folgende Objekt ist maskiert ‘package:readr’:\n",
      "\n",
      "    guess_encoding\n",
      "\n",
      "\n"
     ]
    }
   ],
   "source": [
    "library(Spectra)\n",
    "library(MsBackendHmdb)\n",
    "library(\"MsCoreUtils\")\n",
    "library(\"readr\")\n",
    "library(\"dplyr\")\n",
    "library(\"rvest\")\n",
    "library(\"stringr\")\n",
    "library(\"xml2\")"
   ]
  },
  {
   "cell_type": "code",
   "execution_count": 11,
   "id": "80a53475",
   "metadata": {},
   "outputs": [
    {
     "data": {
      "text/html": [
       "'Current Version (5.0)'"
      ],
      "text/latex": [
       "'Current Version (5.0)'"
      ],
      "text/markdown": [
       "'Current Version (5.0)'"
      ],
      "text/plain": [
       "[1] \"Current Version (5.0)\""
      ]
     },
     "metadata": {},
     "output_type": "display_data"
    }
   ],
   "source": [
    "# extract HMDB Current version\n",
    "html <- read_html(\"https://hmdb.ca/downloads\")\n",
    "strings <- html%>% html_elements(\"a\") %>% html_text2()\n",
    "ls <- unique(strings)\n",
    "hmdb_curr_ver <- c()\n",
    "for (i in ls){\n",
    "    if (grepl(\"Current\", i)){\n",
    "    hmdb_curr_ver<- c(i, hmdb_curr_ver)\n",
    "    }\n",
    "}\n",
    "hmdb_curr_ver"
   ]
  },
  {
   "cell_type": "code",
   "execution_count": 12,
   "id": "56795887",
   "metadata": {},
   "outputs": [
    {
     "data": {
      "text/html": [
       "'/Users/mahnoorzulfiqar/OneDriveUNI/MZML'"
      ],
      "text/latex": [
       "'/Users/mahnoorzulfiqar/OneDriveUNI/MZML'"
      ],
      "text/markdown": [
       "'/Users/mahnoorzulfiqar/OneDriveUNI/MZML'"
      ],
      "text/plain": [
       "[1] \"/Users/mahnoorzulfiqar/OneDriveUNI/MZML\""
      ]
     },
     "metadata": {},
     "output_type": "display_data"
    }
   ],
   "source": [
    "input_dir <- \"/Users/mahnoorzulfiqar/OneDriveUNI/MZML\"\n",
    "input_dir"
   ]
  },
  {
   "cell_type": "code",
   "execution_count": 13,
   "id": "d00ecafc",
   "metadata": {},
   "outputs": [],
   "source": [
    "####### Download and unzip ######\n",
    "\n",
    "#Download file predicted MSMS spectra\n",
    "system(paste(\"wget\",\n",
    "             \"https://hmdb.ca/system/downloads/current/spectral_data/spectra_xml/hmdb_predicted_msms_spectra.zip\",\n",
    "             sep = \" \"))\n",
    "# unzip\n",
    "system(paste(\"unzip\", \"hmdb_predicted_msms_spectra.zip\", \"-d\",  paste(input_dir, \"/hmdb_predicted_msms_spectra\", sep = \"\"), sep = \" \"))\n",
    "\n",
    "\n",
    "#Download file experimental MSMS spectra\n",
    "system(paste(\"wget\",\n",
    "             \"https://hmdb.ca/system/downloads/current/spectral_data/spectra_xml/hmdb_experimental_msms_spectra.zip\",\n",
    "             sep = \" \"))\n",
    "# unzip\n",
    "system(paste(\"unzip\", \"hmdb_experimental_msms_spectra.zip\", \"-d\", paste(input_dir, \"/hmdb_experimental_msms_spectra\", sep = \"\"), sep = \" \"))\n",
    "\n"
   ]
  },
  {
   "cell_type": "code",
   "execution_count": 2,
   "id": "3603a6ef",
   "metadata": {},
   "outputs": [],
   "source": [
    "path <- \"/Users/mahnoorzulfiqar/OneDriveUNI/MZML/hmdb_predicted_msms_spectra\"\n",
    "fls <- dir(path, pattern = \"ms_ms_spectrum\", full.names = TRUE)"
   ]
  },
  {
   "cell_type": "code",
   "execution_count": 16,
   "id": "4fb93661",
   "metadata": {},
   "outputs": [],
   "source": [
    "fls"
   ]
  },
  {
   "cell_type": "code",
   "execution_count": null,
   "id": "357e3d14",
   "metadata": {},
   "outputs": [
    {
     "name": "stderr",
     "output_type": "stream",
     "text": [
      "Start data import from 1797275 files ... \n"
     ]
    }
   ],
   "source": [
    "sps_hmdb <- Spectra(fls, source = MsBackendHmdbXml(), nonStop = TRUE,\n",
    "                    backend = MsBackendDataFrame())"
   ]
  },
  {
   "cell_type": "code",
   "execution_count": null,
   "id": "7ee0da73",
   "metadata": {},
   "outputs": [],
   "source": []
  }
 ],
 "metadata": {
  "kernelspec": {
   "display_name": "R",
   "language": "R",
   "name": "ir"
  },
  "language_info": {
   "codemirror_mode": "r",
   "file_extension": ".r",
   "mimetype": "text/x-r-source",
   "name": "R",
   "pygments_lexer": "r",
   "version": "4.2.0"
  }
 },
 "nbformat": 4,
 "nbformat_minor": 5
}
