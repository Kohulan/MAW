{
 "cells": [
  {
   "cell_type": "code",
   "execution_count": 22,
   "id": "00ba7852",
   "metadata": {},
   "outputs": [],
   "source": [
    "# ---------- Preparations ----------\n",
    "# Load Libraries\n",
    "library(Spectra)\n",
    "library(MsBackendMgf)\n",
    "library(MsBackendHmdb)\n",
    "library(MsCoreUtils)\n",
    "library(MsBackendMsp)\n",
    "library(readr)\n",
    "library(dplyr)\n",
    "# 3 dependencies for latest MassBank version\n",
    "library(rvest)\n",
    "library(stringr)\n",
    "library(xml2)\n",
    "options(warn=-1)\n",
    "#library(\"mzR\")"
   ]
  },
  {
   "cell_type": "code",
   "execution_count": 23,
   "id": "cc1cfa8b",
   "metadata": {},
   "outputs": [
    {
     "data": {
      "text/html": [
       "'/Users/mahnoorzulfiqar/OneDriveUNI/MAW'"
      ],
      "text/latex": [
       "'/Users/mahnoorzulfiqar/OneDriveUNI/MAW'"
      ],
      "text/markdown": [
       "'/Users/mahnoorzulfiqar/OneDriveUNI/MAW'"
      ],
      "text/plain": [
       "[1] \"/Users/mahnoorzulfiqar/OneDriveUNI/MAW\""
      ]
     },
     "metadata": {},
     "output_type": "display_data"
    }
   ],
   "source": [
    "input_dir <- getwd()\n",
    "input_dir"
   ]
  },
  {
   "cell_type": "code",
   "execution_count": 24,
   "id": "6c00def1",
   "metadata": {},
   "outputs": [
    {
     "name": "stderr",
     "output_type": "stream",
     "text": [
      "'getOption(\"repos\")' replaces Bioconductor standard repositories, see\n",
      "'?repositories' for details\n",
      "\n",
      "replacement repositories:\n",
      "    CRAN: https://cran.r-project.org\n",
      "\n",
      "\n"
     ]
    }
   ],
   "source": [
    "#install.packages(c(\"BiocManager\", \"remotes\"))\n",
    "#BiocManager::install(\"RforMassSpectrometry/CompoundDb\")"
   ]
  },
  {
   "cell_type": "code",
   "execution_count": 16,
   "id": "70b7b54d",
   "metadata": {},
   "outputs": [
    {
     "name": "stdout",
     "output_type": "stream",
     "text": [
      "\n",
      "Die heruntergeladenen Binärpakete sind in \n",
      "\t/var/folders/3j/00yb0rbj5m9b2pn32c3v6d_c0000gn/T//RtmpIu8UOi/downloaded_packages\n"
     ]
    }
   ],
   "source": [
    "#install.packages(\"curl\")"
   ]
  },
  {
   "cell_type": "code",
   "execution_count": 17,
   "id": "7ab99a1c",
   "metadata": {},
   "outputs": [
    {
     "name": "stderr",
     "output_type": "stream",
     "text": [
      "Using libcurl 7.79.1 with LibreSSL/3.3.5\n",
      "\n",
      "\n",
      "Attache Paket: ‘curl’\n",
      "\n",
      "\n",
      "Das folgende Objekt ist maskiert ‘package:readr’:\n",
      "\n",
      "    parse_date\n",
      "\n",
      "\n"
     ]
    }
   ],
   "source": [
    "#' Download the CompDb database using curl\n",
    "library(curl)\n",
    "dbname <- \"CompDb.Hsapiens.HMDB.5.0.sqlite\"\n",
    "db_file <- file.path(tempdir(), dbname)\n",
    "curl_download(\n",
    "    paste0(\"https://github.com/jorainer/MetaboAnnotationTutorials/\",\n",
    "           \"releases/download/2021-11-02/\", dbname),\n",
    "    destfile = db_file)"
   ]
  },
  {
   "cell_type": "code",
   "execution_count": 19,
   "id": "d71153f2",
   "metadata": {},
   "outputs": [
    {
     "name": "stderr",
     "output_type": "stream",
     "text": [
      "Lade nötiges Paket: AnnotationFilter\n",
      "\n"
     ]
    },
    {
     "data": {
      "text/plain": [
       "class: CompDb \n",
       " data source: HMDB \n",
       " version: 5.0 \n",
       " organism: Hsapiens \n",
       " compound count: 217776 \n",
       " MS/MS spectra count: 64920 "
      ]
     },
     "metadata": {},
     "output_type": "display_data"
    }
   ],
   "source": [
    "#' Load a CompDb database with compound annotation from HMDB\n",
    "cdb <- CompDb(db_file)\n",
    "cdb"
   ]
  },
  {
   "cell_type": "code",
   "execution_count": 20,
   "id": "28cfd0ac",
   "metadata": {},
   "outputs": [],
   "source": [
    "hmdb <- Spectra(cdb)"
   ]
  },
  {
   "cell_type": "code",
   "execution_count": 21,
   "id": "1e1782bb",
   "metadata": {},
   "outputs": [
    {
     "data": {
      "text/plain": [
       "MSn data (Spectra) with 64920 spectra in a MsBackendCompDb backend:\n",
       "        msLevel precursorMz  polarity\n",
       "      <integer>   <numeric> <integer>\n",
       "1            NA          NA         1\n",
       "2            NA          NA         1\n",
       "3            NA          NA         1\n",
       "4            NA          NA         1\n",
       "5            NA          NA         1\n",
       "...         ...         ...       ...\n",
       "64916        NA          NA         0\n",
       "64917        NA          NA         0\n",
       "64918        NA          NA         0\n",
       "64919        NA          NA         0\n",
       "64920        NA          NA         1\n",
       " ... 32 more variables/columns.\n",
       " Use  'spectraVariables' to list all of them.\n",
       " data source: HMDB \n",
       " version: 5.0 \n",
       " organism: Hsapiens "
      ]
     },
     "metadata": {},
     "output_type": "display_data"
    }
   ],
   "source": [
    "hmdb"
   ]
  },
  {
   "cell_type": "code",
   "execution_count": null,
   "id": "9bbd6fc0",
   "metadata": {},
   "outputs": [],
   "source": []
  },
  {
   "cell_type": "code",
   "execution_count": null,
   "id": "c6dd9191",
   "metadata": {},
   "outputs": [],
   "source": []
  },
  {
   "cell_type": "code",
   "execution_count": null,
   "id": "ad5e1ea2",
   "metadata": {},
   "outputs": [],
   "source": []
  },
  {
   "cell_type": "code",
   "execution_count": null,
   "id": "782d0e4d",
   "metadata": {},
   "outputs": [],
   "source": []
  },
  {
   "cell_type": "code",
   "execution_count": 25,
   "id": "5166da67",
   "metadata": {},
   "outputs": [],
   "source": [
    "download_specDB <- function(input_dir, db = \"all\"){\n",
    "\n",
    "    if (dir.exists(input_dir)){\n",
    "        # Track Time \n",
    "        start_time <- Sys.time()\n",
    "\n",
    "        # only input available as of now\n",
    "        databases <- 'gnps, hmdb, mbank, all'\n",
    "        # creat a summary file, open and store timings of download and version if possible\n",
    "        if (!(file.exists(paste(input_dir, \"/summaryFile.txt\", sep = \"\")))){\n",
    "            summaryFile <- paste(input_dir, \"/summaryFile.txt\", sep = \"\")\n",
    "            file.create(summaryFile, recursive = TRUE)\n",
    "        }\n",
    "        else{\n",
    "            summaryFile <- paste(input_dir, \"/summaryFile.txt\", sep = \"\")\n",
    "        }\n",
    "        file.conn <- file(summaryFile)\n",
    "        open(file.conn, open = \"at\")\n",
    "        # gnps\n",
    "        if (db == \"all\" || db ==\"gnps\"){\n",
    "            # Download file\n",
    "            system(paste(\"wget -P\", \n",
    "                         input_dir,\n",
    "                         \"https://gnps-external.ucsd.edu/gnpslibrary/ALL_GNPS.mgf\",\n",
    "                         sep =  \" \"))\n",
    "\n",
    "            # load the spectra into MsBackendMgf\n",
    "            gnpsdb <- Spectra(paste(input_dir, \"/ALL_GNPS.mgf\", sep = ''), source = MsBackendMgf())\n",
    "            save(gnpsdb, file = paste(input_dir,\"/gnps.rda\", sep = \"\"))\n",
    "\n",
    "            # delete the database in its format to free up space\n",
    "            system(paste(\"rm\", (paste(input_dir, \"/ALL_GNPS.mgf\", sep = '')), sep = \" \"))\n",
    "\n",
    "            writeLines(paste(\"GNPS saved at\", Sys.time(), sep=\" \"),con=file.conn)\n",
    "        }\n",
    "        #mbank\n",
    "        if (db == \"all\" || db ==\"mbank\"){\n",
    "\n",
    "            #print(\"MassBank WORKS\")\n",
    "\n",
    "            page <- read_html(\"https://github.com/MassBank/MassBank-data/releases\")\n",
    "            page %>%\n",
    "                html_nodes(\"a\") %>%       # find all links\n",
    "                html_attr(\"href\") %>%     # get the url\n",
    "                str_subset(\"MassBank_NIST.msp\") -> tmp # find those that have the name MassBank_NIST.msp\n",
    "\n",
    "            #download file\n",
    "            system(paste(\"wget \",\n",
    "                         \"https://github.com\", tmp[1], \n",
    "                         sep =  \"\"))\n",
    "\n",
    "            mbank <- Spectra(paste(input_dir, \"/MassBank_NIST.msp\", sep = ''), source = MsBackendMsp())\n",
    "            save(mbank, file = paste(input_dir,\"/mbankNIST.rda\", sep = \"\"))\n",
    "\n",
    "            # delete the database in its format to free up space\n",
    "            system(paste(\"rm\", (paste(input_dir, \"/MassBank_NIST.msp\", sep = '')), sep = \" \"))\n",
    "\n",
    "            # obtain the month and year for the database release to add to summary\n",
    "            res <- str_match(tmp[1], \"download/\\\\s*(.*?)\\\\s*/MassBank_NIST\")\n",
    "\n",
    "            writeLines(paste(\"MassBank saved at\", Sys.time(), \"with release version\", res[,2], sep=\" \"),con=file.conn)\n",
    "        }\n",
    "        \n",
    "        #mbank\n",
    "        if (db == \"all\" || db ==\"hmdb\"){\n",
    "            dbname <- \"CompDb.Hsapiens.HMDB.5.0.sqlite\"\n",
    "            db_file <- file.path(tempdir(), dbname)\n",
    "            curl_download(\n",
    "                paste0(\"https://github.com/jorainer/MetaboAnnotationTutorials/\",\n",
    "               \"releases/download/2021-11-02/\", dbname),\n",
    "                destfile = db_file)\n",
    "            #' Load a CompDb database with compound annotation from HMDB\n",
    "            cdb <- CompDb(db_file)\n",
    "            hmdb_version <- \n",
    "            hmdb <- Spectra(cdb)\n",
    "            writeLines(paste(\"HMDB saved at\", Sys.time(), \"with release version\", hmdb_version, sep=\" \"),con=file.conn)\n",
    "        }\n",
    "        \n",
    "        #wrong input error message\n",
    "        else if (!grepl(db, databases, fixed = TRUE)){\n",
    "            stop(\"Wrong db input. Following inputs apply: gnps, hmdb, mbank or all\")\n",
    "        }\n",
    "        close(file.conn)\n",
    "        end_time <- Sys.time()\n",
    "        print(end_time - start_time)\n",
    "    }\n",
    "    else{\n",
    "        stop(\"Your input_dir is incorrect. Please provide the directory where all your input files are stored.\")\n",
    "    }\n",
    "}\n"
   ]
  },
  {
   "cell_type": "code",
   "execution_count": null,
   "id": "99f5401a",
   "metadata": {},
   "outputs": [
    {
     "name": "stderr",
     "output_type": "stream",
     "text": [
      "Start data import from 1 files ... \n",
      "done\n",
      "\n"
     ]
    }
   ],
   "source": [
    "download_specDB(input_dir, db = \"all\")"
   ]
  },
  {
   "cell_type": "code",
   "execution_count": null,
   "id": "cfd830b4",
   "metadata": {},
   "outputs": [],
   "source": []
  },
  {
   "cell_type": "code",
   "execution_count": 11,
   "id": "80a53475",
   "metadata": {},
   "outputs": [
    {
     "data": {
      "text/html": [
       "'Current Version (5.0)'"
      ],
      "text/latex": [
       "'Current Version (5.0)'"
      ],
      "text/markdown": [
       "'Current Version (5.0)'"
      ],
      "text/plain": [
       "[1] \"Current Version (5.0)\""
      ]
     },
     "metadata": {},
     "output_type": "display_data"
    }
   ],
   "source": [
    "# extract HMDB Current version\n",
    "#html <- read_html(\"https://hmdb.ca/downloads\")\n",
    "#strings <- html%>% html_elements(\"a\") %>% html_text2()\n",
    "#ls <- unique(strings)\n",
    "#hmdb_curr_ver <- c()\n",
    "#for (i in ls){\n",
    "    #if (grepl(\"Current\", i)){\n",
    "    #hmdb_curr_ver<- c(i, hmdb_curr_ver)\n",
    "    #}\n",
    "#}\n",
    "#hmdb_curr_ver"
   ]
  },
  {
   "cell_type": "code",
   "execution_count": 13,
   "id": "d00ecafc",
   "metadata": {},
   "outputs": [],
   "source": [
    "####### Download and unzip ######\n",
    "\n",
    "#Download file predicted MSMS spectra\n",
    "#system(paste(\"wget\",\n",
    "             #\"https://hmdb.ca/system/downloads/current/spectral_data/spectra_xml/hmdb_predicted_msms_spectra.zip\",\n",
    "            # sep = \" \"))\n",
    "# unzip\n",
    "#system(paste(\"unzip\", \"hmdb_predicted_msms_spectra.zip\", \"-d\",  paste(input_dir, \"/hmdb_predicted_msms_spectra\", sep = \"\"), sep = \" \"))\n",
    "\n",
    "\n",
    "#Download file experimental MSMS spectra\n",
    "#system(paste(\"wget\",\n",
    "            # \"https://hmdb.ca/system/downloads/current/spectral_data/spectra_xml/hmdb_experimental_msms_spectra.zip\",\n",
    "            # sep = \" \"))\n",
    "# unzip\n",
    "#system(paste(\"unzip\", \"hmdb_experimental_msms_spectra.zip\", \"-d\", paste(input_dir, \"/hmdb_experimental_msms_spectra\", sep = \"\"), sep = \" \"))\n",
    "\n"
   ]
  },
  {
   "cell_type": "code",
   "execution_count": 2,
   "id": "3603a6ef",
   "metadata": {},
   "outputs": [],
   "source": [
    "#path <- \"/Users/mahnoorzulfiqar/OneDriveUNI/MZML/hmdb_predicted_msms_spectra\"\n",
    "#fls <- dir(path, pattern = \"ms_ms_spectrum\", full.names = TRUE)"
   ]
  },
  {
   "cell_type": "code",
   "execution_count": 16,
   "id": "4fb93661",
   "metadata": {},
   "outputs": [],
   "source": [
    "#fls"
   ]
  },
  {
   "cell_type": "code",
   "execution_count": null,
   "id": "357e3d14",
   "metadata": {},
   "outputs": [
    {
     "name": "stderr",
     "output_type": "stream",
     "text": [
      "Start data import from 1797275 files ... \n"
     ]
    }
   ],
   "source": [
    "#sps_hmdb <- Spectra(fls, source = MsBackendHmdbXml(), nonStop = TRUE,\n",
    "                    #backend = MsBackendDataFrame())"
   ]
  },
  {
   "cell_type": "code",
   "execution_count": null,
   "id": "7ee0da73",
   "metadata": {},
   "outputs": [],
   "source": []
  }
 ],
 "metadata": {
  "kernelspec": {
   "display_name": "R",
   "language": "R",
   "name": "ir"
  },
  "language_info": {
   "codemirror_mode": "r",
   "file_extension": ".r",
   "mimetype": "text/x-r-source",
   "name": "R",
   "pygments_lexer": "r",
   "version": "4.2.0"
  }
 },
 "nbformat": 4,
 "nbformat_minor": 5
}
