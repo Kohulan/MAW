{
 "cells": [
  {
   "cell_type": "code",
   "execution_count": 9,
   "id": "b155b8c9",
   "metadata": {},
   "outputs": [],
   "source": [
    "# import the function file\n",
    "from Workflow_Python_Functions import *"
   ]
  },
  {
   "cell_type": "code",
   "execution_count": 10,
   "id": "d8b9e6cc",
   "metadata": {},
   "outputs": [
    {
     "data": {
      "text/plain": [
       "'/Users/mahnoorzulfiqar/OneDriveUNI/MAW-data/MTBLS709_Data_32'"
      ]
     },
     "execution_count": 10,
     "metadata": {},
     "output_type": "execute_result"
    }
   ],
   "source": [
    "#Define input directory, keep all files in same directory and scripts so getwd works\n",
    "input_dir = \"/Users/mahnoorzulfiqar/OneDriveUNI/MAW-data/MTBLS709_Data_32\"\n",
    "input_dir"
   ]
  },
  {
   "cell_type": "code",
   "execution_count": 11,
   "id": "dac7ba11",
   "metadata": {},
   "outputs": [
    {
     "ename": "TypeError",
     "evalue": "object of type 'bool' has no len()",
     "output_type": "error",
     "traceback": [
      "\u001b[0;31m---------------------------------------------------------------------------\u001b[0m",
      "\u001b[0;31mTypeError\u001b[0m                                 Traceback (most recent call last)",
      "Input \u001b[0;32mIn [11]\u001b[0m, in \u001b[0;36m<module>\u001b[0;34m\u001b[0m\n\u001b[0;32m----> 1\u001b[0m sp \u001b[38;5;241m=\u001b[39m \u001b[43msirius_postproc\u001b[49m\u001b[43m(\u001b[49m\u001b[43minput_dir\u001b[49m\u001b[43m,\u001b[49m\u001b[43m \u001b[49m\u001b[43mexp_int\u001b[49m\u001b[43m \u001b[49m\u001b[38;5;241;43m=\u001b[39;49m\u001b[43m \u001b[49m\u001b[38;5;241;43m0.90\u001b[39;49m\u001b[43m,\u001b[49m\u001b[43m \u001b[49m\u001b[43mcsi_score\u001b[49m\u001b[43m \u001b[49m\u001b[38;5;241;43m=\u001b[39;49m\u001b[43m \u001b[49m\u001b[38;5;241;43m-\u001b[39;49m\u001b[38;5;241;43m150\u001b[39;49m\u001b[43m)\u001b[49m\n",
      "File \u001b[0;32m~/OneDriveUNI/MAW/Workflow_Python_Functions.py:694\u001b[0m, in \u001b[0;36msirius_postproc\u001b[0;34m(input_dir, exp_int, csi_score)\u001b[0m\n\u001b[1;32m    691\u001b[0m     \u001b[38;5;28;01melse\u001b[39;00m:\n\u001b[1;32m    692\u001b[0m         \u001b[38;5;28;01mpass\u001b[39;00m\n\u001b[0;32m--> 694\u001b[0m \u001b[38;5;28;01melif\u001b[39;00m \u001b[38;5;28;43mlen\u001b[39;49m\u001b[43m(\u001b[49m\u001b[43mfiles_for_mz\u001b[49m\u001b[43m \u001b[49m\u001b[38;5;241;43m==\u001b[39;49m\u001b[43m \u001b[49m\u001b[38;5;241;43m1\u001b[39;49m\u001b[43m)\u001b[49m:\n\u001b[1;32m    695\u001b[0m     \u001b[38;5;66;03m# extract the formula and structure files\u001b[39;00m\n\u001b[1;32m    696\u001b[0m     json_dirALL \u001b[38;5;241m=\u001b[39m \u001b[38;5;28mnext\u001b[39m(os\u001b[38;5;241m.\u001b[39mwalk(files_for_mz[\u001b[38;5;241m0\u001b[39m]))[\u001b[38;5;241m1\u001b[39m]\n\u001b[1;32m    697\u001b[0m     sub_sub_dirALL_structure_can \u001b[38;5;241m=\u001b[39m files_for_mz[\u001b[38;5;241m0\u001b[39m] \u001b[38;5;241m+\u001b[39m \u001b[38;5;124m\"\u001b[39m\u001b[38;5;124m/\u001b[39m\u001b[38;5;124m\"\u001b[39m \u001b[38;5;241m+\u001b[39m json_dirALL[\u001b[38;5;241m0\u001b[39m]  \u001b[38;5;241m+\u001b[39m \u001b[38;5;124m\"\u001b[39m\u001b[38;5;124m/structure_candidates.tsv\u001b[39m\u001b[38;5;124m\"\u001b[39m                   \n",
      "\u001b[0;31mTypeError\u001b[0m: object of type 'bool' has no len()"
     ]
    }
   ],
   "source": [
    "sp = sirius_postproc(input_dir, exp_int = 0.90, csi_score = -150)"
   ]
  },
  {
   "cell_type": "code",
   "execution_count": 20,
   "id": "5c5a5afd",
   "metadata": {},
   "outputs": [
    {
     "name": "stdout",
     "output_type": "stream",
     "text": [
      "pos_09_summer_Plaund_9_1-B,1_01_17180\n",
      "pos_25_autumn_Marpol_25_2-A,6_01_17235\n",
      "pos_26_summer_Marpol_26_1-D,2_01_17201\n",
      "pos_03_spring_Fistax_3_1-A,3_01_17277\n",
      "pos_08_spring_Polstr_8_1-A,8_01_17284\n",
      "pos_05_summer_Polstr_5_1-A,5_01_17174\n",
      "pos_02_spring_Fistax_2_1-A,2_01_17276\n",
      "pos_27_summer_Marpol_27_1-D,3_01_17202\n",
      "pos_12_spring_Plaund_12_1-B,4_01_17288\n",
      "pos_08_autumn_Polstr_8_1-E,3_01_17214\n",
      "pos_27_autumn_Marpol_27_2-A,8_01_17237\n",
      "pos_02_summer_Fistax_2_1-A,2_01_17171\n",
      "pos_27_spring_Marpol_27_1-D,3_01_17306\n",
      "pos_25_summer_Marpol_25_1-D,1_01_17200\n",
      "pos_13_autumn_Plaund_13_1-E,8_01_17219\n",
      "pos_01_summer_Fistax_1_1-A,1_01_17170\n",
      "pos_06_spring_Polstr_6_1-A,6_01_17280\n",
      "pos_02_winter_Fistax_2_2-B,2_01_17241\n"
     ]
    }
   ],
   "source": [
    "# entry is all files and folders in input_dir\n",
    "entries = []\n",
    "for entry in os.listdir(input_dir):\n",
    "    if os.path.isdir(os.path.join(input_dir, entry)):\n",
    "        print(entry)\n",
    "        entries.append(entry)"
   ]
  },
  {
   "cell_type": "code",
   "execution_count": 30,
   "id": "5b8f08c8",
   "metadata": {},
   "outputs": [
    {
     "data": {
      "text/plain": [
       "'pos_01_summer_Fistax_1_1-A,1_01_17170'"
      ]
     },
     "execution_count": 30,
     "metadata": {},
     "output_type": "execute_result"
    }
   ],
   "source": [
    "entry = entries[15]\n",
    "entry"
   ]
  },
  {
   "cell_type": "code",
   "execution_count": 31,
   "id": "94e085c1",
   "metadata": {},
   "outputs": [],
   "source": [
    "sub_dir = input_dir + \"/\" + entry + '/insilico/SIRIUS/'\n",
    "msp_csv = input_dir + \"/\" + entry + \"/insilico/MS1DATA.csv\""
   ]
  },
  {
   "cell_type": "code",
   "execution_count": 32,
   "id": "3aa0c7c1",
   "metadata": {},
   "outputs": [],
   "source": [
    "if os.path.exists(msp_csv) and os.path.exists(sub_dir):\n",
    "    #output json files from SIRIUS\n",
    "    files_S = (glob.glob(sub_dir+'/*.json'))\n",
    "    #list of precursor m/z\n",
    "    msp = pd.read_csv(msp_csv)"
   ]
  },
  {
   "cell_type": "code",
   "execution_count": 33,
   "id": "cbd0c575",
   "metadata": {},
   "outputs": [],
   "source": [
    "# for each mz\n",
    "for mz, row in msp.iterrows():\n",
    "    # make a list of files with this mz\n",
    "    files_for_mz = []\n",
    "\n",
    "    for file in files_S:\n",
    "        if str(msp[\"premz\"][mz]) in file:\n",
    "            files_for_mz.append(file)"
   ]
  },
  {
   "cell_type": "code",
   "execution_count": 34,
   "id": "151ca55a",
   "metadata": {},
   "outputs": [
    {
     "data": {
      "text/plain": [
       "['/Users/mahnoorzulfiqar/OneDriveUNI/MAW-data/MTBLS709_Data_32/pos_01_summer_Fistax_1_1-A,1_01_17170/insilico/SIRIUS/405_iso_MS1p_513.4196167_SIRIUS_param.json']"
      ]
     },
     "execution_count": 34,
     "metadata": {},
     "output_type": "execute_result"
    }
   ],
   "source": [
    "files_for_mz"
   ]
  },
  {
   "cell_type": "code",
   "execution_count": null,
   "id": "80bfddde",
   "metadata": {},
   "outputs": [],
   "source": []
  }
 ],
 "metadata": {
  "kernelspec": {
   "display_name": "Python (mawRpy)",
   "language": "python",
   "name": "mawrpy"
  },
  "language_info": {
   "codemirror_mode": {
    "name": "ipython",
    "version": 3
   },
   "file_extension": ".py",
   "mimetype": "text/x-python",
   "name": "python",
   "nbconvert_exporter": "python",
   "pygments_lexer": "ipython3",
   "version": "3.10.2"
  }
 },
 "nbformat": 4,
 "nbformat_minor": 5
}
