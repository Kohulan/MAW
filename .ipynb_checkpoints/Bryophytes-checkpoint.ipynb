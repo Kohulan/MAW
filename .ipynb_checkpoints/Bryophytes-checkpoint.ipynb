{
 "cells": [
  {
   "cell_type": "code",
   "execution_count": 1,
   "id": "b51bb631",
   "metadata": {},
   "outputs": [],
   "source": [
    "import pandas as pd\n",
    "import numpy as np"
   ]
  },
  {
   "cell_type": "code",
   "execution_count": 2,
   "id": "a4e5dce1",
   "metadata": {},
   "outputs": [],
   "source": [
    "bryo = pd.read_csv(\"/Users/mahnoorzulfiqar/OneDriveUNI/MAW-data/MTBLS709_Data/m_bryos_metabolite_profiling_mass_spectrometry_positive_mode_v2_maf.tsv\", sep = \"\\t\")"
   ]
  },
  {
   "cell_type": "code",
   "execution_count": 3,
   "id": "4def846c",
   "metadata": {},
   "outputs": [],
   "source": [
    "bryo_chebi = bryo[-bryo['database_identifier'].isnull()]"
   ]
  },
  {
   "cell_type": "code",
   "execution_count": 4,
   "id": "fbcc32dc",
   "metadata": {},
   "outputs": [
    {
     "data": {
      "text/plain": [
       "Index(['database_identifier', 'chemical_formula', 'smiles', 'inchi',\n",
       "       'metabolite_identification', 'mass_to_charge', 'fragmentation',\n",
       "       'modifications', 'charge', 'retention_time',\n",
       "       ...\n",
       "       'pos_25_summer_Marpol_25_1.D.1_01_17200',\n",
       "       'pos_25_winter_Marpol_25_2.E.1_01_17270',\n",
       "       'pos_26_autumn_Marpol_26_2.A.7_01_17236',\n",
       "       'pos_26_spring_Marpol_26_1.D.2_01_17305',\n",
       "       'pos_26_summer_Marpol_26_1.D.2_01_17201',\n",
       "       'pos_26_winter_Marpol_26_2.E.2_01_17271',\n",
       "       'pos_27_autumn_Marpol_27_2.A.8_01_17237',\n",
       "       'pos_27_spring_Marpol_27_1.D.3_01_17306',\n",
       "       'pos_27_summer_Marpol_27_1.D.3_01_17202',\n",
       "       'pos_27_winter_Marpol_27_2.E.3_01_17272'],\n",
       "      dtype='object', length=140)"
      ]
     },
     "execution_count": 4,
     "metadata": {},
     "output_type": "execute_result"
    }
   ],
   "source": [
    "bryo_chebi.columns"
   ]
  },
  {
   "cell_type": "code",
   "execution_count": null,
   "id": "fd3f704c",
   "metadata": {},
   "outputs": [],
   "source": []
  },
  {
   "cell_type": "code",
   "execution_count": 19,
   "id": "c2093aaf",
   "metadata": {},
   "outputs": [
    {
     "data": {
      "text/plain": [
       "['pos_01_autumn_Fistax_1_1.D.4_01_17205',\n",
       " 'pos_01_spring_Fistax_1_1.A.1_01_17275',\n",
       " 'pos_01_summer_Fistax_1_1.A.1_01_17170',\n",
       " 'pos_01_winter_Fistax_1_2.B.1_01_17240',\n",
       " 'pos_02_autumn_Fistax_2_1.D.5_01_17206',\n",
       " 'pos_02_spring_Fistax_2_1.A.2_01_17276',\n",
       " 'pos_02_summer_Fistax_2_1.A.2_01_17171',\n",
       " 'pos_02_winter_Fistax_2_2.B.2_01_17241',\n",
       " 'pos_03_autumn_Fistax_3_1.D.6_01_17207',\n",
       " 'pos_03_spring_Fistax_3_1.A.3_01_17277',\n",
       " 'pos_03_summer_Fistax_3_1.A.3_01_17172',\n",
       " 'pos_03_winter_Fistax_3_2.B.3_01_17242',\n",
       " 'pos_04_autumn_Hypcup_4_1.D.7_01_17208',\n",
       " 'pos_04_spring_Gripul_4_1.A.4_01_17278',\n",
       " 'pos_04_summer_Polstr_4_1.A.4_01_17173',\n",
       " 'pos_04_winter_Hypcup_4_2.B.4_01_17243',\n",
       " 'pos_05_autumn_Gripul_5_1.D.8_01_17209',\n",
       " 'pos_05_spring_Brarut_5_1.A.5_01_17279',\n",
       " 'pos_05_summer_Polstr_5_1.A.5_01_17174',\n",
       " 'pos_05_winter_Brarut_5_2.B.5_01_17244',\n",
       " 'pos_06_autumn_Brarut_6_1.E.1_01_17210',\n",
       " 'pos_06_spring_Polstr_6_1.A.6_01_17280',\n",
       " 'pos_06_summer_Polstr_6_1.A.6_01_17175',\n",
       " 'pos_06_winter_Polstr_6_2.B.6_01_17245',\n",
       " 'pos_07_autumn_Polstr_7_1.E.2_01_17211',\n",
       " 'pos_07_spring_Polstr_7_1.A.7_01_17281',\n",
       " 'pos_07_summer_Hypcup_7_1.A.7_01_17176',\n",
       " 'pos_07_winter_Polstr_7_2.B.7_01_17246',\n",
       " 'pos_08_autumn_Polstr_8_1.E.3_01_17214',\n",
       " 'pos_08_spring_Polstr_8_1.A.8_01_17284',\n",
       " 'pos_08_summer_Gripul_8_1.A.8_01_17179',\n",
       " 'pos_08_winter_Polstr_8_2.B.8_01_17249',\n",
       " 'pos_09_autumn_Polstr_9_1.E.4_01_17215',\n",
       " 'pos_09_spring_Hypcup_9_1.B.1_01_17285',\n",
       " 'pos_09_summer_Plaund_9_1.B.1_01_17180',\n",
       " 'pos_09_winter_Gripul_9_2.C.1_01_17250',\n",
       " 'pos_10_autumn_Hypcup_10_1.E.5_01_17216',\n",
       " 'pos_10_spring_Brarut_10_1.B.2_01_17286',\n",
       " 'pos_10_summer_Plaund_10_1.B.2_01_17181',\n",
       " 'pos_10_winter_Hypcup_10_2.C.2_01_17251',\n",
       " 'pos_11_autumn_Gripul_11_1.E.6_01_17217',\n",
       " 'pos_11_spring_Brarut_11_1.B.3_01_17287',\n",
       " 'pos_11_summer_Plaund_11_1.B.3_01_17182',\n",
       " 'pos_11_winter_Plaund_11_2.C.3_01_17252',\n",
       " 'pos_12_autumn_Brarut_12_1.E.7_01_17218',\n",
       " 'pos_12_spring_Plaund_12_1.B.4_01_17288',\n",
       " 'pos_12_summer_Rhysqu_12_1.B.4_01_17183',\n",
       " 'pos_12_winter_Plaund_12_2.C.4_01_17253',\n",
       " 'pos_13_autumn_Plaund_13_1.E.8_01_17219',\n",
       " 'pos_13_spring_Plaund_13_1.B.5_01_17289',\n",
       " 'pos_13_summer_Rhysqu_13_1.B.5_01_17184',\n",
       " 'pos_13_winter_Plaund_13_2.C.5_01_17254',\n",
       " 'pos_14_autumn_Plaund_14_1.F.1_01_17220',\n",
       " 'pos_14_spring_Plaund_14_1.B.6_01_17290',\n",
       " 'pos_14_summer_Calcus_14_1.B.6_01_17185',\n",
       " 'pos_14_winter_Rhysqu_14_2.C.6_01_17255',\n",
       " 'pos_15_autumn_Plaund_15_1.F.2_01_17223',\n",
       " 'pos_15_spring_Calcus_15_1.B.7_01_17293',\n",
       " 'pos_15_summer_Calcus_15_1.B.7_01_17188',\n",
       " 'pos_15_winter_Rhysqu_15_2.C.7_01_17258',\n",
       " 'pos_16_autumn_Calcus_16_1.F.3_01_17224',\n",
       " 'pos_16_spring_Rhysqu_16_1.B.8_01_17294',\n",
       " 'pos_16_summer_Rhysqu_16_1.B.8_01_17189',\n",
       " 'pos_16_winter_Rhysqu_16_2.C.8_01_17259',\n",
       " 'pos_17_autumn_Calcus_17_1.F.4_01_17225',\n",
       " 'pos_17_spring_Calcus_17_1.C.1_01_17295',\n",
       " 'pos_17_summer_Calcus_17_1.C.1_01_17190',\n",
       " 'pos_17_winter_Calcus_17_2.D.1_01_17260',\n",
       " 'pos_18_autumn_Rhysqu_18_1.F.5_01_17226',\n",
       " 'pos_18_spring_Rhysqu_18_1.C.2_01_17296',\n",
       " 'pos_18_summer_Brarut_18_1.C.2_01_17191',\n",
       " 'pos_18_winter_Calcus_18_2.D.2_01_17261',\n",
       " 'pos_19_autumn_Rhysqu_19_1.F.6_01_17227',\n",
       " 'pos_19_spring_Rhysqu_19_1.C.3_01_17297',\n",
       " 'pos_19_summer_Brarut_19_1.C.3_01_17192',\n",
       " 'pos_19_winter_Calcus_19_2.D.3_01_17262',\n",
       " 'pos_20_autumn_Calcus_20_2.A.1_01_17228',\n",
       " 'pos_20_spring_Calcus_20_1.C.4_01_17298',\n",
       " 'pos_20_summer_Hypcup_20_1.C.4_01_17193',\n",
       " 'pos_20_winter_Brarut_20_2.D.4_01_17263',\n",
       " 'pos_21_autumn_Rhysqu_21_2.A.2_01_17229',\n",
       " 'pos_21_spring_Hypcup_21_1.C.5_01_17299',\n",
       " 'pos_21_summer_Hypcup_21_1.C.5_01_17194',\n",
       " 'pos_21_winter_Hypcup_21_2.D.5_01_17264',\n",
       " 'pos_22_autumn_Hypcup_22_2.A.3_01_17232',\n",
       " 'pos_22_spring_Hypcup_22_1.C.6_01_17301',\n",
       " 'pos_22_summer_Gripul_22_1.C.6_01_17197',\n",
       " 'pos_22_winter_Brarut_22_2.D.6_01_17267',\n",
       " 'pos_23_autumn_Gripul_23_2.A.4_01_17233',\n",
       " 'pos_23_spring_Gripul_23_1.C.7_01_17302',\n",
       " 'pos_23_summer_Gripul_23_1.C.7_01_17198',\n",
       " 'pos_23_winter_Gripul_23_2.D.7_01_17268',\n",
       " 'pos_24_autumn_Brarut_24_2.A.5_01_17234',\n",
       " 'pos_24_spring_Gripul_24_1.C.8_01_17303',\n",
       " 'pos_24_summer_Brarut_24_1.C.8_01_17199',\n",
       " 'pos_24_winter_Gripul_24_2.D.8_01_17269',\n",
       " 'pos_25_autumn_Marpol_25_2.A.6_01_17235',\n",
       " 'pos_25_spring_Marpol_25_1.D.1_01_17304',\n",
       " 'pos_25_summer_Marpol_25_1.D.1_01_17200',\n",
       " 'pos_25_winter_Marpol_25_2.E.1_01_17270',\n",
       " 'pos_26_autumn_Marpol_26_2.A.7_01_17236',\n",
       " 'pos_26_spring_Marpol_26_1.D.2_01_17305',\n",
       " 'pos_26_summer_Marpol_26_1.D.2_01_17201',\n",
       " 'pos_26_winter_Marpol_26_2.E.2_01_17271',\n",
       " 'pos_27_autumn_Marpol_27_2.A.8_01_17237',\n",
       " 'pos_27_spring_Marpol_27_1.D.3_01_17306',\n",
       " 'pos_27_summer_Marpol_27_1.D.3_01_17202',\n",
       " 'pos_27_winter_Marpol_27_2.E.3_01_17272']"
      ]
     },
     "execution_count": 19,
     "metadata": {},
     "output_type": "execute_result"
    }
   ],
   "source": [
    "bryo_mzml_cols = [col for col in bryo_chebi.columns if 'pos' in col]\n",
    "bryo_mzml_cols"
   ]
  },
  {
   "cell_type": "code",
   "execution_count": 6,
   "id": "32ce267d",
   "metadata": {},
   "outputs": [
    {
     "data": {
      "text/plain": [
       "[118.0845,\n",
       " 121.0631,\n",
       " 123.0533,\n",
       " 124.038,\n",
       " 132.998,\n",
       " 137.059,\n",
       " 138.0648,\n",
       " 150.0587,\n",
       " 154.0031,\n",
       " 165.0552,\n",
       " 165.0548,\n",
       " 171.0268,\n",
       " 178.0867,\n",
       " 179.0338,\n",
       " 182.0812,\n",
       " 195.0292,\n",
       " 205.097,\n",
       " 209.0133,\n",
       " 231.1697,\n",
       " 257.2473,\n",
       " 267.0145,\n",
       " 281.2471,\n",
       " 287.0554,\n",
       " 303.0696,\n",
       " 341.0884,\n",
       " 345.602,\n",
       " 348.9384,\n",
       " 355.2236,\n",
       " 377.0286,\n",
       " 425.3765,\n",
       " 465.0958,\n",
       " 527.157]"
      ]
     },
     "execution_count": 6,
     "metadata": {},
     "output_type": "execute_result"
    }
   ],
   "source": [
    "list(bryo_chebi[\"mz\"])"
   ]
  },
  {
   "cell_type": "code",
   "execution_count": 25,
   "id": "ea7767ce",
   "metadata": {},
   "outputs": [
    {
     "data": {
      "text/plain": [
       "4        pos_18_summer_Brarut_18_1.C.2_01_17191\n",
       "10       pos_27_summer_Marpol_27_1.D.3_01_17202\n",
       "22        pos_08_spring_Polstr_8_1.A.8_01_17284\n",
       "27       pos_12_spring_Plaund_12_1.B.4_01_17288\n",
       "65        pos_02_summer_Fistax_2_1.A.2_01_17171\n",
       "92       pos_25_summer_Marpol_25_1.D.1_01_17200\n",
       "100      pos_27_autumn_Marpol_27_2.A.8_01_17237\n",
       "195      pos_13_summer_Rhysqu_13_1.B.5_01_17184\n",
       "232       pos_05_summer_Polstr_5_1.A.5_01_17174\n",
       "372      pos_21_summer_Hypcup_21_1.C.5_01_17194\n",
       "373       pos_02_winter_Fistax_2_2.B.2_01_17241\n",
       "456       pos_06_spring_Polstr_6_1.A.6_01_17280\n",
       "577      pos_26_summer_Marpol_26_1.D.2_01_17201\n",
       "590       pos_08_spring_Polstr_8_1.A.8_01_17284\n",
       "661      pos_21_summer_Hypcup_21_1.C.5_01_17194\n",
       "921      pos_22_spring_Hypcup_22_1.C.6_01_17301\n",
       "1188     pos_23_spring_Gripul_23_1.C.7_01_17302\n",
       "1303     pos_25_autumn_Marpol_25_2.A.6_01_17235\n",
       "1962      pos_02_spring_Fistax_2_1.A.2_01_17276\n",
       "2852     pos_25_summer_Marpol_25_1.D.1_01_17200\n",
       "3198      pos_02_summer_Fistax_2_1.A.2_01_17171\n",
       "3894      pos_03_spring_Fistax_3_1.A.3_01_17277\n",
       "4124     pos_17_spring_Calcus_17_1.C.1_01_17295\n",
       "4899     pos_13_autumn_Plaund_13_1.E.8_01_17219\n",
       "6698      pos_09_summer_Plaund_9_1.B.1_01_17180\n",
       "6950      pos_08_autumn_Polstr_8_1.E.3_01_17214\n",
       "7063      pos_01_summer_Fistax_1_1.A.1_01_17170\n",
       "7338      pos_06_autumn_Brarut_6_1.E.1_01_17210\n",
       "8263     pos_27_spring_Marpol_27_1.D.3_01_17306\n",
       "10020    pos_27_summer_Marpol_27_1.D.3_01_17202\n",
       "11290    pos_26_summer_Marpol_26_1.D.2_01_17201\n",
       "12592     pos_06_spring_Polstr_6_1.A.6_01_17280\n",
       "dtype: object"
      ]
     },
     "execution_count": 25,
     "metadata": {},
     "output_type": "execute_result"
    }
   ],
   "source": [
    "bryo_chebi[bryo_mzml_cols].idxmax(axis=1)"
   ]
  },
  {
   "cell_type": "code",
   "execution_count": 19,
   "id": "2c3313c0",
   "metadata": {},
   "outputs": [
    {
     "ename": "KeyError",
     "evalue": "(26, 'mz')",
     "output_type": "error",
     "traceback": [
      "\u001b[0;31m---------------------------------------------------------------------------\u001b[0m",
      "\u001b[0;31mKeyError\u001b[0m                                  Traceback (most recent call last)",
      "File \u001b[0;32m~/opt/anaconda3/envs/mawRpy/lib/python3.10/site-packages/pandas/core/indexes/base.py:3621\u001b[0m, in \u001b[0;36mIndex.get_loc\u001b[0;34m(self, key, method, tolerance)\u001b[0m\n\u001b[1;32m   3620\u001b[0m \u001b[38;5;28;01mtry\u001b[39;00m:\n\u001b[0;32m-> 3621\u001b[0m     \u001b[38;5;28;01mreturn\u001b[39;00m \u001b[38;5;28;43mself\u001b[39;49m\u001b[38;5;241;43m.\u001b[39;49m\u001b[43m_engine\u001b[49m\u001b[38;5;241;43m.\u001b[39;49m\u001b[43mget_loc\u001b[49m\u001b[43m(\u001b[49m\u001b[43mcasted_key\u001b[49m\u001b[43m)\u001b[49m\n\u001b[1;32m   3622\u001b[0m \u001b[38;5;28;01mexcept\u001b[39;00m \u001b[38;5;167;01mKeyError\u001b[39;00m \u001b[38;5;28;01mas\u001b[39;00m err:\n",
      "File \u001b[0;32m~/opt/anaconda3/envs/mawRpy/lib/python3.10/site-packages/pandas/_libs/index.pyx:136\u001b[0m, in \u001b[0;36mpandas._libs.index.IndexEngine.get_loc\u001b[0;34m()\u001b[0m\n",
      "File \u001b[0;32m~/opt/anaconda3/envs/mawRpy/lib/python3.10/site-packages/pandas/_libs/index.pyx:163\u001b[0m, in \u001b[0;36mpandas._libs.index.IndexEngine.get_loc\u001b[0;34m()\u001b[0m\n",
      "File \u001b[0;32mpandas/_libs/hashtable_class_helper.pxi:5198\u001b[0m, in \u001b[0;36mpandas._libs.hashtable.PyObjectHashTable.get_item\u001b[0;34m()\u001b[0m\n",
      "File \u001b[0;32mpandas/_libs/hashtable_class_helper.pxi:5206\u001b[0m, in \u001b[0;36mpandas._libs.hashtable.PyObjectHashTable.get_item\u001b[0;34m()\u001b[0m\n",
      "\u001b[0;31mKeyError\u001b[0m: (26, 'mz')",
      "\nThe above exception was the direct cause of the following exception:\n",
      "\u001b[0;31mKeyError\u001b[0m                                  Traceback (most recent call last)",
      "Input \u001b[0;32mIn [19]\u001b[0m, in \u001b[0;36m<module>\u001b[0;34m\u001b[0m\n\u001b[0;32m----> 1\u001b[0m \u001b[43mbryo_chebi\u001b[49m\u001b[43m[\u001b[49m\u001b[38;5;241;43m26\u001b[39;49m\u001b[43m,\u001b[49m\u001b[43m \u001b[49m\u001b[38;5;124;43m\"\u001b[39;49m\u001b[38;5;124;43mmz\u001b[39;49m\u001b[38;5;124;43m\"\u001b[39;49m\u001b[43m]\u001b[49m\n",
      "File \u001b[0;32m~/opt/anaconda3/envs/mawRpy/lib/python3.10/site-packages/pandas/core/frame.py:3505\u001b[0m, in \u001b[0;36mDataFrame.__getitem__\u001b[0;34m(self, key)\u001b[0m\n\u001b[1;32m   3503\u001b[0m \u001b[38;5;28;01mif\u001b[39;00m \u001b[38;5;28mself\u001b[39m\u001b[38;5;241m.\u001b[39mcolumns\u001b[38;5;241m.\u001b[39mnlevels \u001b[38;5;241m>\u001b[39m \u001b[38;5;241m1\u001b[39m:\n\u001b[1;32m   3504\u001b[0m     \u001b[38;5;28;01mreturn\u001b[39;00m \u001b[38;5;28mself\u001b[39m\u001b[38;5;241m.\u001b[39m_getitem_multilevel(key)\n\u001b[0;32m-> 3505\u001b[0m indexer \u001b[38;5;241m=\u001b[39m \u001b[38;5;28;43mself\u001b[39;49m\u001b[38;5;241;43m.\u001b[39;49m\u001b[43mcolumns\u001b[49m\u001b[38;5;241;43m.\u001b[39;49m\u001b[43mget_loc\u001b[49m\u001b[43m(\u001b[49m\u001b[43mkey\u001b[49m\u001b[43m)\u001b[49m\n\u001b[1;32m   3506\u001b[0m \u001b[38;5;28;01mif\u001b[39;00m is_integer(indexer):\n\u001b[1;32m   3507\u001b[0m     indexer \u001b[38;5;241m=\u001b[39m [indexer]\n",
      "File \u001b[0;32m~/opt/anaconda3/envs/mawRpy/lib/python3.10/site-packages/pandas/core/indexes/base.py:3623\u001b[0m, in \u001b[0;36mIndex.get_loc\u001b[0;34m(self, key, method, tolerance)\u001b[0m\n\u001b[1;32m   3621\u001b[0m     \u001b[38;5;28;01mreturn\u001b[39;00m \u001b[38;5;28mself\u001b[39m\u001b[38;5;241m.\u001b[39m_engine\u001b[38;5;241m.\u001b[39mget_loc(casted_key)\n\u001b[1;32m   3622\u001b[0m \u001b[38;5;28;01mexcept\u001b[39;00m \u001b[38;5;167;01mKeyError\u001b[39;00m \u001b[38;5;28;01mas\u001b[39;00m err:\n\u001b[0;32m-> 3623\u001b[0m     \u001b[38;5;28;01mraise\u001b[39;00m \u001b[38;5;167;01mKeyError\u001b[39;00m(key) \u001b[38;5;28;01mfrom\u001b[39;00m \u001b[38;5;21;01merr\u001b[39;00m\n\u001b[1;32m   3624\u001b[0m \u001b[38;5;28;01mexcept\u001b[39;00m \u001b[38;5;167;01mTypeError\u001b[39;00m:\n\u001b[1;32m   3625\u001b[0m     \u001b[38;5;66;03m# If we have a listlike key, _check_indexing_error will raise\u001b[39;00m\n\u001b[1;32m   3626\u001b[0m     \u001b[38;5;66;03m#  InvalidIndexError. Otherwise we fall through and re-raise\u001b[39;00m\n\u001b[1;32m   3627\u001b[0m     \u001b[38;5;66;03m#  the TypeError.\u001b[39;00m\n\u001b[1;32m   3628\u001b[0m     \u001b[38;5;28mself\u001b[39m\u001b[38;5;241m.\u001b[39m_check_indexing_error(key)\n",
      "\u001b[0;31mKeyError\u001b[0m: (26, 'mz')"
     ]
    }
   ],
   "source": [
    "bryo_chebi[26, \"mz\"]"
   ]
  },
  {
   "cell_type": "code",
   "execution_count": 23,
   "id": "6bdb689f",
   "metadata": {},
   "outputs": [
    {
     "data": {
      "text/plain": [
       "[13624.1877,\n",
       " 37253.0579,\n",
       " 15096.6653,\n",
       " 14030.8484,\n",
       " 760.0039,\n",
       " 72800.0877,\n",
       " 3756.5379,\n",
       " 4812.1554,\n",
       " 2191.962,\n",
       " 7612.0484,\n",
       " 4308.9991,\n",
       " 17020.7948,\n",
       " 46511.098,\n",
       " 179099.9973,\n",
       " 46666.6744,\n",
       " 1614.7794,\n",
       " 672885.4274,\n",
       " 923.2117,\n",
       " 8051.7635,\n",
       " 315074.1318,\n",
       " 1448.5353,\n",
       " 144522.401,\n",
       " 13142.8278,\n",
       " 16674.68,\n",
       " 10220.9792,\n",
       " 2396.2716,\n",
       " 1181.595,\n",
       " 1258.0813,\n",
       " 1087.3271,\n",
       " 13861.5743,\n",
       " 11603.2893,\n",
       " 5590.206]"
      ]
     },
     "execution_count": 23,
     "metadata": {},
     "output_type": "execute_result"
    }
   ],
   "source": [
    "list(bryo_chebi[bryo_mzml_cols].max(axis=1))"
   ]
  },
  {
   "cell_type": "code",
   "execution_count": null,
   "id": "530b52a9",
   "metadata": {},
   "outputs": [],
   "source": []
  },
  {
   "cell_type": "code",
   "execution_count": null,
   "id": "b859bd56",
   "metadata": {},
   "outputs": [],
   "source": []
  },
  {
   "cell_type": "code",
   "execution_count": null,
   "id": "854931b7",
   "metadata": {},
   "outputs": [],
   "source": []
  },
  {
   "cell_type": "code",
   "execution_count": null,
   "id": "a491e33c",
   "metadata": {},
   "outputs": [],
   "source": []
  },
  {
   "cell_type": "code",
   "execution_count": null,
   "id": "749e7918",
   "metadata": {},
   "outputs": [],
   "source": []
  },
  {
   "cell_type": "code",
   "execution_count": null,
   "id": "877e83c2",
   "metadata": {},
   "outputs": [],
   "source": []
  },
  {
   "cell_type": "code",
   "execution_count": null,
   "id": "66c1d5bf",
   "metadata": {},
   "outputs": [],
   "source": []
  }
 ],
 "metadata": {
  "kernelspec": {
   "display_name": "Python (mawRpy)",
   "language": "python",
   "name": "mawrpy"
  },
  "language_info": {
   "codemirror_mode": {
    "name": "ipython",
    "version": 3
   },
   "file_extension": ".py",
   "mimetype": "text/x-python",
   "name": "python",
   "nbconvert_exporter": "python",
   "pygments_lexer": "ipython3",
   "version": "3.10.2"
  }
 },
 "nbformat": 4,
 "nbformat_minor": 5
}
