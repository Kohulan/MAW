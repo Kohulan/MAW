{
 "cells": [
  {
   "cell_type": "markdown",
   "id": "98fbd56e",
   "metadata": {},
   "source": [
    "## Load libraries"
   ]
  },
  {
   "cell_type": "code",
   "execution_count": 1,
   "id": "4e1a80e8",
   "metadata": {},
   "outputs": [
    {
     "name": "stderr",
     "output_type": "stream",
     "text": [
      "Lade nötiges Paket: S4Vectors\n",
      "\n",
      "Lade nötiges Paket: stats4\n",
      "\n",
      "Lade nötiges Paket: BiocGenerics\n",
      "\n",
      "Lade nötiges Paket: parallel\n",
      "\n",
      "\n",
      "Attache Paket: ‘BiocGenerics’\n",
      "\n",
      "\n",
      "Die folgenden Objekte sind maskiert von ‘package:parallel’:\n",
      "\n",
      "    clusterApply, clusterApplyLB, clusterCall, clusterEvalQ,\n",
      "    clusterExport, clusterMap, parApply, parCapply, parLapply,\n",
      "    parLapplyLB, parRapply, parSapply, parSapplyLB\n",
      "\n",
      "\n",
      "Die folgenden Objekte sind maskiert von ‘package:stats’:\n",
      "\n",
      "    IQR, mad, sd, var, xtabs\n",
      "\n",
      "\n",
      "Die folgenden Objekte sind maskiert von ‘package:base’:\n",
      "\n",
      "    Filter, Find, Map, Position, Reduce, anyDuplicated, append,\n",
      "    as.data.frame, basename, cbind, colnames, dirname, do.call,\n",
      "    duplicated, eval, evalq, get, grep, grepl, intersect, is.unsorted,\n",
      "    lapply, mapply, match, mget, order, paste, pmax, pmax.int, pmin,\n",
      "    pmin.int, rank, rbind, rownames, sapply, setdiff, sort, table,\n",
      "    tapply, union, unique, unsplit, which.max, which.min\n",
      "\n",
      "\n",
      "\n",
      "Attache Paket: ‘S4Vectors’\n",
      "\n",
      "\n",
      "Die folgenden Objekte sind maskiert von ‘package:base’:\n",
      "\n",
      "    I, expand.grid, unname\n",
      "\n",
      "\n",
      "Lade nötiges Paket: BiocParallel\n",
      "\n",
      "Lade nötiges Paket: ProtGenerics\n",
      "\n",
      "\n",
      "Attache Paket: ‘ProtGenerics’\n",
      "\n",
      "\n",
      "Das folgende Objekt ist maskiert ‘package:stats’:\n",
      "\n",
      "    smooth\n",
      "\n",
      "\n",
      "\n",
      "Attache Paket: ‘MsCoreUtils’\n",
      "\n",
      "\n",
      "Die folgenden Objekte sind maskiert von ‘package:Spectra’:\n",
      "\n",
      "    bin, smooth\n",
      "\n",
      "\n",
      "Das folgende Objekt ist maskiert ‘package:ProtGenerics’:\n",
      "\n",
      "    smooth\n",
      "\n",
      "\n",
      "Das folgende Objekt ist maskiert ‘package:stats’:\n",
      "\n",
      "    smooth\n",
      "\n",
      "\n",
      "\n",
      "Attache Paket: ‘dplyr’\n",
      "\n",
      "\n",
      "Das folgende Objekt ist maskiert ‘package:MsCoreUtils’:\n",
      "\n",
      "    between\n",
      "\n",
      "\n",
      "Die folgenden Objekte sind maskiert von ‘package:S4Vectors’:\n",
      "\n",
      "    first, intersect, rename, setdiff, setequal, union\n",
      "\n",
      "\n",
      "Die folgenden Objekte sind maskiert von ‘package:BiocGenerics’:\n",
      "\n",
      "    combine, intersect, setdiff, union\n",
      "\n",
      "\n",
      "Die folgenden Objekte sind maskiert von ‘package:stats’:\n",
      "\n",
      "    filter, lag\n",
      "\n",
      "\n",
      "Die folgenden Objekte sind maskiert von ‘package:base’:\n",
      "\n",
      "    intersect, setdiff, setequal, union\n",
      "\n",
      "\n",
      "\n",
      "Attache Paket: ‘rvest’\n",
      "\n",
      "\n",
      "Das folgende Objekt ist maskiert ‘package:readr’:\n",
      "\n",
      "    guess_encoding\n",
      "\n",
      "\n"
     ]
    }
   ],
   "source": [
    "# ---------- Preparations ----------\n",
    "# Load Libraries\n",
    "library(Spectra)\n",
    "library(MsBackendMgf)\n",
    "library(MsBackendHmdb)\n",
    "library(MsCoreUtils)\n",
    "library(MsBackendMsp)\n",
    "library(readr)\n",
    "library(dplyr)\n",
    "# 3 dependencies for latest MassBank version\n",
    "library(rvest)\n",
    "library(stringr)\n",
    "library(xml2)\n",
    "options(warn=-1)"
   ]
  },
  {
   "cell_type": "code",
   "execution_count": 2,
   "id": "8393e513",
   "metadata": {},
   "outputs": [],
   "source": [
    "# Track Time \n",
    "start_time <- Sys.time()"
   ]
  },
  {
   "cell_type": "markdown",
   "id": "3300ee3a",
   "metadata": {},
   "source": [
    "## Define input directory, keep everything in this directory"
   ]
  },
  {
   "cell_type": "code",
   "execution_count": 3,
   "id": "10e065eb",
   "metadata": {},
   "outputs": [
    {
     "data": {
      "text/html": [
       "'/Users/mahnoorzulfiqar/OneDriveUNI/Standards/'"
      ],
      "text/latex": [
       "'/Users/mahnoorzulfiqar/OneDriveUNI/Standards/'"
      ],
      "text/markdown": [
       "'/Users/mahnoorzulfiqar/OneDriveUNI/Standards/'"
      ],
      "text/plain": [
       "[1] \"/Users/mahnoorzulfiqar/OneDriveUNI/Standards/\""
      ]
     },
     "metadata": {},
     "output_type": "display_data"
    }
   ],
   "source": [
    "# ---------- Script ----------\n",
    "# input directory\n",
    "input_dir <- paste(getwd(), \"/\", sep = '')\n",
    "input_dir"
   ]
  },
  {
   "cell_type": "code",
   "execution_count": 4,
   "id": "41212900",
   "metadata": {},
   "outputs": [],
   "source": [
    "#input_dir <- \"/Users/mahnoorzulfiqar/OneDriveUNI/MZML/\"\n",
    "#input_dir"
   ]
  },
  {
   "cell_type": "markdown",
   "id": "4afb648b",
   "metadata": {},
   "source": [
    "## load function file"
   ]
  },
  {
   "cell_type": "code",
   "execution_count": 5,
   "id": "4fa7c831",
   "metadata": {},
   "outputs": [],
   "source": [
    "# load the functions file\n",
    "source(file = paste(input_dir, \"Workflow_R_Functions.r\", sep = ''))"
   ]
  },
  {
   "cell_type": "code",
   "execution_count": 6,
   "id": "9b93c58d",
   "metadata": {},
   "outputs": [],
   "source": [
    "# load the functions file\n",
    "# source(file = '/Users/mahnoorzulfiqar/OneDriveUNI/MAW/Workflow_R_Functions.r')"
   ]
  },
  {
   "cell_type": "code",
   "execution_count": 7,
   "id": "b4a0f2b2",
   "metadata": {},
   "outputs": [],
   "source": [
    "# downloading spectral libraries; do NOT run\n",
    "# load db spectra objects [gnps, hmdb, mbank]\n",
    "# download_specDB(input_dir, db = \"all\")"
   ]
  },
  {
   "cell_type": "markdown",
   "id": "ff50c89e",
   "metadata": {},
   "source": [
    "## Load Spectral Databases as rda objects"
   ]
  },
  {
   "cell_type": "code",
   "execution_count": 8,
   "id": "81455ac8",
   "metadata": {},
   "outputs": [],
   "source": [
    "# OR load the database rda objects \n",
    "#load(file = paste(input_dir,\"gnps.rda\", sep = \"\"))\n",
    "#load(file = paste(input_dir,\"hmdb.rda\", sep = \"\"))\n",
    "#load(file = paste(input_dir,\"mbank.rda\", sep = \"\"))"
   ]
  },
  {
   "cell_type": "code",
   "execution_count": 9,
   "id": "c5f43c70",
   "metadata": {},
   "outputs": [],
   "source": [
    "#gnps"
   ]
  },
  {
   "cell_type": "code",
   "execution_count": 10,
   "id": "989a3a21",
   "metadata": {},
   "outputs": [],
   "source": [
    "#mbank"
   ]
  },
  {
   "cell_type": "code",
   "execution_count": 11,
   "id": "5e4afd4c",
   "metadata": {},
   "outputs": [],
   "source": [
    "#hmdb"
   ]
  },
  {
   "cell_type": "markdown",
   "id": "dc722e8f",
   "metadata": {},
   "source": [
    "## Start the workflow"
   ]
  },
  {
   "cell_type": "code",
   "execution_count": 6,
   "id": "afb00c59",
   "metadata": {
    "collapsed": true
   },
   "outputs": [
    {
     "data": {
      "text/html": [
       "<table class=\"dataframe\">\n",
       "<caption>A data.frame: 13 × 3</caption>\n",
       "<thead>\n",
       "\t<tr><th scope=col>mzml_files</th><th scope=col>ResultFileNames</th><th scope=col>File_id</th></tr>\n",
       "\t<tr><th scope=col>&lt;chr&gt;</th><th scope=col>&lt;chr&gt;</th><th scope=col>&lt;chr&gt;</th></tr>\n",
       "</thead>\n",
       "<tbody>\n",
       "\t<tr><td>./VN_211016_Sc_QC_PRM_neg.mzML       </td><td>./VN_211016_Sc_QC_PRM_neg       </td><td>file_1 </td></tr>\n",
       "\t<tr><td>./VN_211016_Sc_QC_PRM_pos.mzML       </td><td>./VN_211016_Sc_QC_PRM_pos       </td><td>file_2 </td></tr>\n",
       "\t<tr><td>./VN_211016_Sc_st_PRM_neg.mzML       </td><td>./VN_211016_Sc_st_PRM_neg       </td><td>file_3 </td></tr>\n",
       "\t<tr><td>./VN_211016_Sc_st_PRM_pos.mzML       </td><td>./VN_211016_Sc_st_PRM_pos       </td><td>file_4 </td></tr>\n",
       "\t<tr><td>./VN_211016_acetyl_carnitine.mzML    </td><td>./VN_211016_acetyl_carnitine    </td><td>file_5 </td></tr>\n",
       "\t<tr><td>./VN_211016_betaine.mzML             </td><td>./VN_211016_betaine             </td><td>file_6 </td></tr>\n",
       "\t<tr><td>./VN_211016_butanoyl_carnitine.mzML  </td><td>./VN_211016_butanoyl_carnitine  </td><td>file_7 </td></tr>\n",
       "\t<tr><td>./VN_211016_cyst_acid_PRM_neg.mzML   </td><td>./VN_211016_cyst_acid_PRM_neg   </td><td>file_8 </td></tr>\n",
       "\t<tr><td>./VN_211016_cyst_acid_PRM_pos.mzML   </td><td>./VN_211016_cyst_acid_PRM_pos   </td><td>file_9 </td></tr>\n",
       "\t<tr><td>./VN_211016_isovalerylcarnitine.mzML </td><td>./VN_211016_isovalerylcarnitine </td><td>file_10</td></tr>\n",
       "\t<tr><td>./VN_211016_methionine_sulfoxide.mzML</td><td>./VN_211016_methionine_sulfoxide</td><td>file_11</td></tr>\n",
       "\t<tr><td>./VN_211016_pipecolate.mzML          </td><td>./VN_211016_pipecolate          </td><td>file_12</td></tr>\n",
       "\t<tr><td>./VN_211016_propanoyl_carnitine.mzML </td><td>./VN_211016_propanoyl_carnitine </td><td>file_13</td></tr>\n",
       "</tbody>\n",
       "</table>\n"
      ],
      "text/latex": [
       "A data.frame: 13 × 3\n",
       "\\begin{tabular}{lll}\n",
       " mzml\\_files & ResultFileNames & File\\_id\\\\\n",
       " <chr> & <chr> & <chr>\\\\\n",
       "\\hline\n",
       "\t ./VN\\_211016\\_Sc\\_QC\\_PRM\\_neg.mzML        & ./VN\\_211016\\_Sc\\_QC\\_PRM\\_neg        & file\\_1 \\\\\n",
       "\t ./VN\\_211016\\_Sc\\_QC\\_PRM\\_pos.mzML        & ./VN\\_211016\\_Sc\\_QC\\_PRM\\_pos        & file\\_2 \\\\\n",
       "\t ./VN\\_211016\\_Sc\\_st\\_PRM\\_neg.mzML        & ./VN\\_211016\\_Sc\\_st\\_PRM\\_neg        & file\\_3 \\\\\n",
       "\t ./VN\\_211016\\_Sc\\_st\\_PRM\\_pos.mzML        & ./VN\\_211016\\_Sc\\_st\\_PRM\\_pos        & file\\_4 \\\\\n",
       "\t ./VN\\_211016\\_acetyl\\_carnitine.mzML     & ./VN\\_211016\\_acetyl\\_carnitine     & file\\_5 \\\\\n",
       "\t ./VN\\_211016\\_betaine.mzML              & ./VN\\_211016\\_betaine              & file\\_6 \\\\\n",
       "\t ./VN\\_211016\\_butanoyl\\_carnitine.mzML   & ./VN\\_211016\\_butanoyl\\_carnitine   & file\\_7 \\\\\n",
       "\t ./VN\\_211016\\_cyst\\_acid\\_PRM\\_neg.mzML    & ./VN\\_211016\\_cyst\\_acid\\_PRM\\_neg    & file\\_8 \\\\\n",
       "\t ./VN\\_211016\\_cyst\\_acid\\_PRM\\_pos.mzML    & ./VN\\_211016\\_cyst\\_acid\\_PRM\\_pos    & file\\_9 \\\\\n",
       "\t ./VN\\_211016\\_isovalerylcarnitine.mzML  & ./VN\\_211016\\_isovalerylcarnitine  & file\\_10\\\\\n",
       "\t ./VN\\_211016\\_methionine\\_sulfoxide.mzML & ./VN\\_211016\\_methionine\\_sulfoxide & file\\_11\\\\\n",
       "\t ./VN\\_211016\\_pipecolate.mzML           & ./VN\\_211016\\_pipecolate           & file\\_12\\\\\n",
       "\t ./VN\\_211016\\_propanoyl\\_carnitine.mzML  & ./VN\\_211016\\_propanoyl\\_carnitine  & file\\_13\\\\\n",
       "\\end{tabular}\n"
      ],
      "text/markdown": [
       "\n",
       "A data.frame: 13 × 3\n",
       "\n",
       "| mzml_files &lt;chr&gt; | ResultFileNames &lt;chr&gt; | File_id &lt;chr&gt; |\n",
       "|---|---|---|\n",
       "| ./VN_211016_Sc_QC_PRM_neg.mzML        | ./VN_211016_Sc_QC_PRM_neg        | file_1  |\n",
       "| ./VN_211016_Sc_QC_PRM_pos.mzML        | ./VN_211016_Sc_QC_PRM_pos        | file_2  |\n",
       "| ./VN_211016_Sc_st_PRM_neg.mzML        | ./VN_211016_Sc_st_PRM_neg        | file_3  |\n",
       "| ./VN_211016_Sc_st_PRM_pos.mzML        | ./VN_211016_Sc_st_PRM_pos        | file_4  |\n",
       "| ./VN_211016_acetyl_carnitine.mzML     | ./VN_211016_acetyl_carnitine     | file_5  |\n",
       "| ./VN_211016_betaine.mzML              | ./VN_211016_betaine              | file_6  |\n",
       "| ./VN_211016_butanoyl_carnitine.mzML   | ./VN_211016_butanoyl_carnitine   | file_7  |\n",
       "| ./VN_211016_cyst_acid_PRM_neg.mzML    | ./VN_211016_cyst_acid_PRM_neg    | file_8  |\n",
       "| ./VN_211016_cyst_acid_PRM_pos.mzML    | ./VN_211016_cyst_acid_PRM_pos    | file_9  |\n",
       "| ./VN_211016_isovalerylcarnitine.mzML  | ./VN_211016_isovalerylcarnitine  | file_10 |\n",
       "| ./VN_211016_methionine_sulfoxide.mzML | ./VN_211016_methionine_sulfoxide | file_11 |\n",
       "| ./VN_211016_pipecolate.mzML           | ./VN_211016_pipecolate           | file_12 |\n",
       "| ./VN_211016_propanoyl_carnitine.mzML  | ./VN_211016_propanoyl_carnitine  | file_13 |\n",
       "\n"
      ],
      "text/plain": [
       "   mzml_files                            ResultFileNames                 \n",
       "1  ./VN_211016_Sc_QC_PRM_neg.mzML        ./VN_211016_Sc_QC_PRM_neg       \n",
       "2  ./VN_211016_Sc_QC_PRM_pos.mzML        ./VN_211016_Sc_QC_PRM_pos       \n",
       "3  ./VN_211016_Sc_st_PRM_neg.mzML        ./VN_211016_Sc_st_PRM_neg       \n",
       "4  ./VN_211016_Sc_st_PRM_pos.mzML        ./VN_211016_Sc_st_PRM_pos       \n",
       "5  ./VN_211016_acetyl_carnitine.mzML     ./VN_211016_acetyl_carnitine    \n",
       "6  ./VN_211016_betaine.mzML              ./VN_211016_betaine             \n",
       "7  ./VN_211016_butanoyl_carnitine.mzML   ./VN_211016_butanoyl_carnitine  \n",
       "8  ./VN_211016_cyst_acid_PRM_neg.mzML    ./VN_211016_cyst_acid_PRM_neg   \n",
       "9  ./VN_211016_cyst_acid_PRM_pos.mzML    ./VN_211016_cyst_acid_PRM_pos   \n",
       "10 ./VN_211016_isovalerylcarnitine.mzML  ./VN_211016_isovalerylcarnitine \n",
       "11 ./VN_211016_methionine_sulfoxide.mzML ./VN_211016_methionine_sulfoxide\n",
       "12 ./VN_211016_pipecolate.mzML           ./VN_211016_pipecolate          \n",
       "13 ./VN_211016_propanoyl_carnitine.mzML  ./VN_211016_propanoyl_carnitine \n",
       "   File_id\n",
       "1  file_1 \n",
       "2  file_2 \n",
       "3  file_3 \n",
       "4  file_4 \n",
       "5  file_5 \n",
       "6  file_6 \n",
       "7  file_7 \n",
       "8  file_8 \n",
       "9  file_9 \n",
       "10 file_10\n",
       "11 file_11\n",
       "12 file_12\n",
       "13 file_13"
      ]
     },
     "metadata": {},
     "output_type": "display_data"
    }
   ],
   "source": [
    "# Run the first function; this creates a dataframe of your input files, their result directories \n",
    "# and gives an id to each input file; stores the table in directory as a csv filr\n",
    "input_table <- data.frame(ms2_rfilename(input_dir))\n",
    "input_table"
   ]
  },
  {
   "cell_type": "code",
   "execution_count": null,
   "id": "d63f1836",
   "metadata": {},
   "outputs": [],
   "source": []
  },
  {
   "cell_type": "code",
   "execution_count": null,
   "id": "f391bcc6",
   "metadata": {
    "scrolled": true
   },
   "outputs": [
    {
     "name": "stderr",
     "output_type": "stream",
     "text": [
      "Writing file processedSpectra.mzML...\n",
      "OK\n",
      "\n",
      "\u001b[1mRows: \u001b[22m\u001b[34m0\u001b[39m \u001b[1mColumns: \u001b[22m\u001b[34m13\u001b[39m\n",
      "\u001b[36m──\u001b[39m \u001b[1mColumn specification\u001b[22m \u001b[36m────────────────────────────────────────────────────────\u001b[39m\n",
      "\u001b[1mDelimiter:\u001b[22m \"\\t\"\n",
      "\u001b[31mchr\u001b[39m (13): rank, formulaRank, CSI:FingerIDScore, molecularFormula, adduct, In...\n",
      "\n",
      "\u001b[36mℹ\u001b[39m Use `spec()` to retrieve the full column specification for this data.\n",
      "\u001b[36mℹ\u001b[39m Specify the column types or set `show_col_types = FALSE` to quiet this message.\n",
      "\u001b[1mRows: \u001b[22m\u001b[34m13\u001b[39m \u001b[1mColumns: \u001b[22m\u001b[34m12\u001b[39m\n",
      "\u001b[36m──\u001b[39m \u001b[1mColumn specification\u001b[22m \u001b[36m────────────────────────────────────────────────────────\u001b[39m\n",
      "\u001b[1mDelimiter:\u001b[22m \"\\t\"\n",
      "\u001b[31mchr\u001b[39m (3): molecularFormula, adduct, precursorFormula\n",
      "\u001b[32mdbl\u001b[39m (9): rank, SiriusScore, TreeScore, IsotopeScore, numExplainedPeaks, expl...\n",
      "\n",
      "\u001b[36mℹ\u001b[39m Use `spec()` to retrieve the full column specification for this data.\n",
      "\u001b[36mℹ\u001b[39m Specify the column types or set `show_col_types = FALSE` to quiet this message.\n",
      "\u001b[1mRows: \u001b[22m\u001b[34m71\u001b[39m \u001b[1mColumns: \u001b[22m\u001b[34m13\u001b[39m\n",
      "\u001b[36m──\u001b[39m \u001b[1mColumn specification\u001b[22m \u001b[36m────────────────────────────────────────────────────────\u001b[39m\n",
      "\u001b[1mDelimiter:\u001b[22m \"\\t\"\n",
      "\u001b[31mchr\u001b[39m (8): molecularFormula, adduct, InChIkey2D, InChI, name, smiles, pubchemi...\n",
      "\u001b[32mdbl\u001b[39m (5): rank, formulaRank, CSI:FingerIDScore, xlogp, dbflags\n",
      "\n",
      "\u001b[36mℹ\u001b[39m Use `spec()` to retrieve the full column specification for this data.\n",
      "\u001b[36mℹ\u001b[39m Specify the column types or set `show_col_types = FALSE` to quiet this message.\n",
      "\u001b[1mRows: \u001b[22m\u001b[34m13\u001b[39m \u001b[1mColumns: \u001b[22m\u001b[34m12\u001b[39m\n",
      "\u001b[36m──\u001b[39m \u001b[1mColumn specification\u001b[22m \u001b[36m────────────────────────────────────────────────────────\u001b[39m\n",
      "\u001b[1mDelimiter:\u001b[22m \"\\t\"\n",
      "\u001b[31mchr\u001b[39m (3): molecularFormula, adduct, precursorFormula\n",
      "\u001b[32mdbl\u001b[39m (9): rank, SiriusScore, TreeScore, IsotopeScore, numExplainedPeaks, expl...\n",
      "\n",
      "\u001b[36mℹ\u001b[39m Use `spec()` to retrieve the full column specification for this data.\n",
      "\u001b[36mℹ\u001b[39m Specify the column types or set `show_col_types = FALSE` to quiet this message.\n",
      "Writing file processedSpectra.mzML...\n",
      "OK\n",
      "\n",
      "\u001b[1mRows: \u001b[22m\u001b[34m0\u001b[39m \u001b[1mColumns: \u001b[22m\u001b[34m13\u001b[39m\n",
      "\u001b[36m──\u001b[39m \u001b[1mColumn specification\u001b[22m \u001b[36m────────────────────────────────────────────────────────\u001b[39m\n",
      "\u001b[1mDelimiter:\u001b[22m \"\\t\"\n",
      "\u001b[31mchr\u001b[39m (13): rank, formulaRank, CSI:FingerIDScore, molecularFormula, adduct, In...\n",
      "\n",
      "\u001b[36mℹ\u001b[39m Use `spec()` to retrieve the full column specification for this data.\n",
      "\u001b[36mℹ\u001b[39m Specify the column types or set `show_col_types = FALSE` to quiet this message.\n",
      "\u001b[1mRows: \u001b[22m\u001b[34m9\u001b[39m \u001b[1mColumns: \u001b[22m\u001b[34m12\u001b[39m\n",
      "\u001b[36m──\u001b[39m \u001b[1mColumn specification\u001b[22m \u001b[36m────────────────────────────────────────────────────────\u001b[39m\n",
      "\u001b[1mDelimiter:\u001b[22m \"\\t\"\n",
      "\u001b[31mchr\u001b[39m (3): molecularFormula, adduct, precursorFormula\n",
      "\u001b[32mdbl\u001b[39m (9): rank, SiriusScore, TreeScore, IsotopeScore, numExplainedPeaks, expl...\n",
      "\n",
      "\u001b[36mℹ\u001b[39m Use `spec()` to retrieve the full column specification for this data.\n",
      "\u001b[36mℹ\u001b[39m Specify the column types or set `show_col_types = FALSE` to quiet this message.\n",
      "\u001b[1mRows: \u001b[22m\u001b[34m2811\u001b[39m \u001b[1mColumns: \u001b[22m\u001b[34m13\u001b[39m\n",
      "\u001b[36m──\u001b[39m \u001b[1mColumn specification\u001b[22m \u001b[36m────────────────────────────────────────────────────────\u001b[39m\n",
      "\u001b[1mDelimiter:\u001b[22m \"\\t\"\n",
      "\u001b[31mchr\u001b[39m (8): molecularFormula, adduct, InChIkey2D, InChI, name, smiles, pubchemi...\n",
      "\u001b[32mdbl\u001b[39m (5): rank, formulaRank, CSI:FingerIDScore, xlogp, dbflags\n",
      "\n",
      "\u001b[36mℹ\u001b[39m Use `spec()` to retrieve the full column specification for this data.\n",
      "\u001b[36mℹ\u001b[39m Specify the column types or set `show_col_types = FALSE` to quiet this message.\n",
      "\u001b[1mRows: \u001b[22m\u001b[34m9\u001b[39m \u001b[1mColumns: \u001b[22m\u001b[34m12\u001b[39m\n",
      "\u001b[36m──\u001b[39m \u001b[1mColumn specification\u001b[22m \u001b[36m────────────────────────────────────────────────────────\u001b[39m\n",
      "\u001b[1mDelimiter:\u001b[22m \"\\t\"\n",
      "\u001b[31mchr\u001b[39m (3): molecularFormula, adduct, precursorFormula\n",
      "\u001b[32mdbl\u001b[39m (9): rank, SiriusScore, TreeScore, IsotopeScore, numExplainedPeaks, expl...\n",
      "\n",
      "\u001b[36mℹ\u001b[39m Use `spec()` to retrieve the full column specification for this data.\n",
      "\u001b[36mℹ\u001b[39m Specify the column types or set `show_col_types = FALSE` to quiet this message.\n",
      "\u001b[1mRows: \u001b[22m\u001b[34m2\u001b[39m \u001b[1mColumns: \u001b[22m\u001b[34m13\u001b[39m\n",
      "\u001b[36m──\u001b[39m \u001b[1mColumn specification\u001b[22m \u001b[36m────────────────────────────────────────────────────────\u001b[39m\n",
      "\u001b[1mDelimiter:\u001b[22m \"\\t\"\n",
      "\u001b[31mchr\u001b[39m (8): molecularFormula, adduct, InChIkey2D, InChI, name, smiles, pubchemi...\n",
      "\u001b[32mdbl\u001b[39m (5): rank, formulaRank, CSI:FingerIDScore, xlogp, dbflags\n",
      "\n",
      "\u001b[36mℹ\u001b[39m Use `spec()` to retrieve the full column specification for this data.\n",
      "\u001b[36mℹ\u001b[39m Specify the column types or set `show_col_types = FALSE` to quiet this message.\n",
      "\u001b[1mRows: \u001b[22m\u001b[34m21\u001b[39m \u001b[1mColumns: \u001b[22m\u001b[34m12\u001b[39m\n",
      "\u001b[36m──\u001b[39m \u001b[1mColumn specification\u001b[22m \u001b[36m────────────────────────────────────────────────────────\u001b[39m\n",
      "\u001b[1mDelimiter:\u001b[22m \"\\t\"\n",
      "\u001b[31mchr\u001b[39m (3): molecularFormula, adduct, precursorFormula\n",
      "\u001b[32mdbl\u001b[39m (9): rank, SiriusScore, TreeScore, IsotopeScore, numExplainedPeaks, expl...\n",
      "\n",
      "\u001b[36mℹ\u001b[39m Use `spec()` to retrieve the full column specification for this data.\n",
      "\u001b[36mℹ\u001b[39m Specify the column types or set `show_col_types = FALSE` to quiet this message.\n"
     ]
    }
   ],
   "source": [
    "for (i in 1:nrow(input_table)){\n",
    "    \n",
    "    \n",
    "    # Preprocess and Read the mzMLfiles\n",
    "    spec_pr <- spec_Processing(as.character(input_table[i, \"mzml_files\"]), input_table[i, \"ResultFileNames\"])\n",
    "    \n",
    "    \n",
    "    # Extract spectra\n",
    "    sps_all <- spec_pr[[1]]\n",
    "    # Extract precursor m/z\n",
    "    pre_mz<- spec_pr[[2]]\n",
    "\n",
    "    #perform dereplication with all dbs\n",
    "    df_derep <- spec_dereplication(pre_tbl = paste(input_dir, str_remove(paste(input_table[i, \"ResultFileNames\"], \"/premz_list.txt\", sep = \"\"), \"./\"), sep =\"\"), \n",
    "                                   proc_mzml = paste(input_dir, str_remove(paste(input_table[i, \"ResultFileNames\"], \"/processedSpectra.mzML\", sep = \"\"), \"./\"), sep =\"\"),\n",
    "                                   db = \"all\", \n",
    "                                   result_dir = input_table[i, \"ResultFileNames\"],\n",
    "                                   file_id = input_table[i, \"File_id\"], \n",
    "                                   input_dir, \n",
    "                                   ppmx = 15)\n",
    "    \n",
    "    \n",
    "    # Extract MS2 peak lists\n",
    "    spec_pr2 <- ms2_peaks(pre_tbl = paste(input_dir, str_remove(paste(input_table[i, \"ResultFileNames\"], \"/premz_list.txt\", sep = \"\"), \"./\"), sep =\"\"), \n",
    "                          proc_mzml = paste(input_dir, str_remove(paste(input_table[i, \"ResultFileNames\"], \"/processedSpectra.mzML\", sep = \"\"), \"./\"), sep =\"\"),\n",
    "                          input_dir,\n",
    "                          input_table[i, \"ResultFileNames\"],\n",
    "                         file_id = input_table[i, \"File_id\"]) \n",
    "    \n",
    "    # Extract MS1 peaks or isotopic peaks\n",
    "    ms1p <- ms1_peaks(x = paste(input_dir, str_remove(paste(input_table[i, \"ResultFileNames\"],'/insilico/MS2DATA.csv', sep = \"\"), \"./\"), sep =\"\"), \n",
    "                      y = input_table[i, \"qcCAM_csv\"], \n",
    "                      input_table[i, \"ResultFileNames\"], \n",
    "                      input_dir, \n",
    "                      QC = FALSE)\n",
    "    \n",
    "    #prepare sirius parameter files\n",
    "    sirius_param_files <- sirius_param(x = paste(input_dir, str_remove(paste(input_table[i, \"ResultFileNames\"],'/insilico/MS1DATA.csv', sep = \"\"), \"./\"), sep =\"\"), \n",
    "                                       result_dir = input_table[i, 'ResultFileNames'], \n",
    "                                       input_dir,\n",
    "                                       SL = TRUE)\n",
    "    \n",
    "    # Run sirius\n",
    "    run_sirius(files = paste(input_dir, str_remove(paste(input_table[i, \"ResultFileNames\"],'/insilico/MS1DATA_SiriusPandSL.csv', sep = \"\"), \"./\"), sep =\"\"), \n",
    "               ppm_max = 5, \n",
    "               ppm_max_ms2 = 15, \n",
    "               QC = FALSE, \n",
    "               SL = TRUE, \n",
    "               SL_path = paste(input_dir, 'ScostSLS/', sep = \"\"),\n",
    "               candidates = 30)\n",
    "    \n",
    "    \n",
    "    \n",
    "    # Post process Sirius results and extract adducts for MetFrag\n",
    "    sirius_pproc <- sirius_postprocess(input_table[i, \"ResultFileNames\"], SL = TRUE)\n",
    "    \n",
    "    \n",
    "    \n",
    "    # prepare Metfrag parameter files\n",
    "    met_param <- metfrag_param(x = paste(input_dir, str_remove(paste(input_table[i, \"ResultFileNames\"], \"/insilico/MS1DATAsirius.csv\", sep = \"\"), \"./\"), sep =\"\"), \n",
    "                               result_dir = input_table[i, \"ResultFileNames\"],\n",
    "                               input_dir,\n",
    "                               adducts = paste(input_dir, \"MetFrag_AdductTypes.csv\", sep = \"\"), \n",
    "                               sl_mtfrag = paste(input_dir, \"SLS_metfrag.txt\", sep = \"\"), \n",
    "                               SL = TRUE,\n",
    "                               ppm_max = 5, \n",
    "                               ppm_max_ms2= 15)\n",
    "    \n",
    "    \n",
    "    # run metfrag\n",
    "    run_metfrag(met_param = paste(input_dir, str_remove(paste(input_table[i, \"ResultFileNames\"], \"/insilico/metparam_list.txt\", sep = \"\"), \"./\"), sep =\"\"),\n",
    "                input_dir)\n",
    "    \n",
    "    \n",
    "}"
   ]
  },
  {
   "cell_type": "code",
   "execution_count": null,
   "id": "1971d81e",
   "metadata": {},
   "outputs": [],
   "source": [
    "end_time <- Sys.time()\n",
    "print(end_time - start_time)"
   ]
  },
  {
   "cell_type": "markdown",
   "id": "6f3afd88",
   "metadata": {},
   "source": [
    "### At the end you will have for each .mzML MS2 file, a result directory with same name and the many files and subdirectories"
   ]
  },
  {
   "cell_type": "code",
   "execution_count": null,
   "id": "b4c81178",
   "metadata": {},
   "outputs": [],
   "source": []
  }
 ],
 "metadata": {
  "kernelspec": {
   "display_name": "R",
   "language": "R",
   "name": "ir"
  },
  "language_info": {
   "codemirror_mode": "r",
   "file_extension": ".r",
   "mimetype": "text/x-r-source",
   "name": "R",
   "pygments_lexer": "r",
   "version": "4.1.0"
  }
 },
 "nbformat": 4,
 "nbformat_minor": 5
}
