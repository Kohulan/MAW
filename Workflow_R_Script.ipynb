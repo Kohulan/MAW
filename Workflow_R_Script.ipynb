{
 "cells": [
  {
   "cell_type": "markdown",
   "id": "98fbd56e",
   "metadata": {},
   "source": [
    "## Load libraries"
   ]
  },
  {
   "cell_type": "code",
   "execution_count": 1,
   "id": "0087d9da",
   "metadata": {},
   "outputs": [],
   "source": [
    "#packageVersion(\"Spectra\")\n",
    "#packageVersion(\"MsBackendMgf\")\n",
    "#packageVersion(\"MsBackendHmdb\")\n",
    "#packageVersion(\"MsBackendMsp\")\n",
    "#packageVersion(\"MsCoreUtils\")\n",
    "#packageVersion(\"readr\")\n",
    "#packageVersion(\"dplyr\")\n",
    "#packageVersion(\"rvest\")\n",
    "#packageVersion(\"stringr\")\n",
    "#packageVersion(\"xml2\")\n",
    "#packageVersion(\"CAMERA\")"
   ]
  },
  {
   "cell_type": "code",
   "execution_count": 2,
   "id": "8393e513",
   "metadata": {},
   "outputs": [],
   "source": [
    "# Track Time \n",
    "start_time <- Sys.time()"
   ]
  },
  {
   "cell_type": "code",
   "execution_count": 3,
   "id": "4e1a80e8",
   "metadata": {},
   "outputs": [
    {
     "name": "stderr",
     "output_type": "stream",
     "text": [
      "Lade nötiges Paket: S4Vectors\n",
      "\n",
      "Lade nötiges Paket: stats4\n",
      "\n",
      "Lade nötiges Paket: BiocGenerics\n",
      "\n",
      "\n",
      "Attache Paket: ‘BiocGenerics’\n",
      "\n",
      "\n",
      "Die folgenden Objekte sind maskiert von ‘package:stats’:\n",
      "\n",
      "    IQR, mad, sd, var, xtabs\n",
      "\n",
      "\n",
      "Die folgenden Objekte sind maskiert von ‘package:base’:\n",
      "\n",
      "    Filter, Find, Map, Position, Reduce, anyDuplicated, append,\n",
      "    as.data.frame, basename, cbind, colnames, dirname, do.call,\n",
      "    duplicated, eval, evalq, get, grep, grepl, intersect, is.unsorted,\n",
      "    lapply, mapply, match, mget, order, paste, pmax, pmax.int, pmin,\n",
      "    pmin.int, rank, rbind, rownames, sapply, setdiff, sort, table,\n",
      "    tapply, union, unique, unsplit, which.max, which.min\n",
      "\n",
      "\n",
      "\n",
      "Attache Paket: ‘S4Vectors’\n",
      "\n",
      "\n",
      "Die folgenden Objekte sind maskiert von ‘package:base’:\n",
      "\n",
      "    I, expand.grid, unname\n",
      "\n",
      "\n",
      "Lade nötiges Paket: BiocParallel\n",
      "\n",
      "Lade nötiges Paket: ProtGenerics\n",
      "\n",
      "\n",
      "Attache Paket: ‘ProtGenerics’\n",
      "\n",
      "\n",
      "Das folgende Objekt ist maskiert ‘package:stats’:\n",
      "\n",
      "    smooth\n",
      "\n",
      "\n",
      "\n",
      "Attache Paket: ‘Spectra’\n",
      "\n",
      "\n",
      "Das folgende Objekt ist maskiert ‘package:ProtGenerics’:\n",
      "\n",
      "    addProcessing\n",
      "\n",
      "\n",
      "\n",
      "Attache Paket: ‘MsCoreUtils’\n",
      "\n",
      "\n",
      "Die folgenden Objekte sind maskiert von ‘package:Spectra’:\n",
      "\n",
      "    bin, smooth\n",
      "\n",
      "\n",
      "Die folgenden Objekte sind maskiert von ‘package:ProtGenerics’:\n",
      "\n",
      "    bin, smooth\n",
      "\n",
      "\n",
      "Das folgende Objekt ist maskiert ‘package:stats’:\n",
      "\n",
      "    smooth\n",
      "\n",
      "\n",
      "\n",
      "Attache Paket: ‘dplyr’\n",
      "\n",
      "\n",
      "Das folgende Objekt ist maskiert ‘package:MsCoreUtils’:\n",
      "\n",
      "    between\n",
      "\n",
      "\n",
      "Die folgenden Objekte sind maskiert von ‘package:S4Vectors’:\n",
      "\n",
      "    first, intersect, rename, setdiff, setequal, union\n",
      "\n",
      "\n",
      "Die folgenden Objekte sind maskiert von ‘package:BiocGenerics’:\n",
      "\n",
      "    combine, intersect, setdiff, union\n",
      "\n",
      "\n",
      "Die folgenden Objekte sind maskiert von ‘package:stats’:\n",
      "\n",
      "    filter, lag\n",
      "\n",
      "\n",
      "Die folgenden Objekte sind maskiert von ‘package:base’:\n",
      "\n",
      "    intersect, setdiff, setequal, union\n",
      "\n",
      "\n",
      "\n",
      "Attache Paket: ‘rvest’\n",
      "\n",
      "\n",
      "Das folgende Objekt ist maskiert ‘package:readr’:\n",
      "\n",
      "    guess_encoding\n",
      "\n",
      "\n",
      "Lade nötiges Paket: Rcpp\n",
      "\n"
     ]
    }
   ],
   "source": [
    "# ---------- Preparations ----------\n",
    "# Load Libraries\n",
    "library(Spectra)\n",
    "library(MsBackendMgf)\n",
    "library(MsBackendHmdb)\n",
    "library(MsCoreUtils)\n",
    "library(MsBackendMsp)\n",
    "library(readr)\n",
    "library(dplyr)\n",
    "# 3 dependencies for latest MassBank version\n",
    "library(rvest)\n",
    "library(stringr)\n",
    "library(xml2)\n",
    "options(warn=-1)\n",
    "library(\"mzR\")"
   ]
  },
  {
   "cell_type": "markdown",
   "id": "3300ee3a",
   "metadata": {},
   "source": [
    "## Define input directory, keep everything in this directory"
   ]
  },
  {
   "cell_type": "code",
   "execution_count": 4,
   "id": "10e065eb",
   "metadata": {},
   "outputs": [
    {
     "data": {
      "text/html": [
       "'/Users/mahnoorzulfiqar/OneDriveUNI/MAW-data/StandardSMarinoi_Data'"
      ],
      "text/latex": [
       "'/Users/mahnoorzulfiqar/OneDriveUNI/MAW-data/StandardSMarinoi\\_Data'"
      ],
      "text/markdown": [
       "'/Users/mahnoorzulfiqar/OneDriveUNI/MAW-data/StandardSMarinoi_Data'"
      ],
      "text/plain": [
       "[1] \"/Users/mahnoorzulfiqar/OneDriveUNI/MAW-data/StandardSMarinoi_Data\""
      ]
     },
     "metadata": {},
     "output_type": "display_data"
    }
   ],
   "source": [
    "# ---------- Script ----------\n",
    "# input directory\n",
    "input_dir <- \"/Users/mahnoorzulfiqar/OneDriveUNI/MAW-data/StandardSMarinoi_Data\"\n",
    "input_dir"
   ]
  },
  {
   "cell_type": "markdown",
   "id": "4afb648b",
   "metadata": {},
   "source": [
    "## load function file"
   ]
  },
  {
   "cell_type": "code",
   "execution_count": 13,
   "id": "4fa7c831",
   "metadata": {},
   "outputs": [],
   "source": [
    "# load the functions file\n",
    "source(\"/Users/mahnoorzulfiqar/OneDriveUNI/MAW/Workflow_R_Functions.r\")"
   ]
  },
  {
   "cell_type": "markdown",
   "id": "dc722e8f",
   "metadata": {},
   "source": [
    "## Start the workflow"
   ]
  },
  {
   "cell_type": "code",
   "execution_count": 6,
   "id": "afb00c59",
   "metadata": {},
   "outputs": [
    {
     "data": {
      "text/html": [
       "<table class=\"dataframe\">\n",
       "<caption>A data.frame: 13 × 3</caption>\n",
       "<thead>\n",
       "\t<tr><th scope=col>mzml_files</th><th scope=col>ResultFileNames</th><th scope=col>File_id</th></tr>\n",
       "\t<tr><th scope=col>&lt;chr&gt;</th><th scope=col>&lt;chr&gt;</th><th scope=col>&lt;chr&gt;</th></tr>\n",
       "</thead>\n",
       "<tbody>\n",
       "\t<tr><td>./VN_211016_Sc_QC_PRM_neg.mzML       </td><td>./VN_211016_Sc_QC_PRM_neg       </td><td>file_1 </td></tr>\n",
       "\t<tr><td>./VN_211016_Sc_QC_PRM_pos.mzML       </td><td>./VN_211016_Sc_QC_PRM_pos       </td><td>file_2 </td></tr>\n",
       "\t<tr><td>./VN_211016_Sc_st_PRM_neg.mzML       </td><td>./VN_211016_Sc_st_PRM_neg       </td><td>file_3 </td></tr>\n",
       "\t<tr><td>./VN_211016_Sc_st_PRM_pos.mzML       </td><td>./VN_211016_Sc_st_PRM_pos       </td><td>file_4 </td></tr>\n",
       "\t<tr><td>./VN_211016_acetyl_carnitine.mzML    </td><td>./VN_211016_acetyl_carnitine    </td><td>file_5 </td></tr>\n",
       "\t<tr><td>./VN_211016_betaine.mzML             </td><td>./VN_211016_betaine             </td><td>file_6 </td></tr>\n",
       "\t<tr><td>./VN_211016_butanoyl_carnitine.mzML  </td><td>./VN_211016_butanoyl_carnitine  </td><td>file_7 </td></tr>\n",
       "\t<tr><td>./VN_211016_cyst_acid_PRM_neg.mzML   </td><td>./VN_211016_cyst_acid_PRM_neg   </td><td>file_8 </td></tr>\n",
       "\t<tr><td>./VN_211016_cyst_acid_PRM_pos.mzML   </td><td>./VN_211016_cyst_acid_PRM_pos   </td><td>file_9 </td></tr>\n",
       "\t<tr><td>./VN_211016_isovalerylcarnitine.mzML </td><td>./VN_211016_isovalerylcarnitine </td><td>file_10</td></tr>\n",
       "\t<tr><td>./VN_211016_methionine_sulfoxide.mzML</td><td>./VN_211016_methionine_sulfoxide</td><td>file_11</td></tr>\n",
       "\t<tr><td>./VN_211016_pipecolate.mzML          </td><td>./VN_211016_pipecolate          </td><td>file_12</td></tr>\n",
       "\t<tr><td>./VN_211016_propanoyl_carnitine.mzML </td><td>./VN_211016_propanoyl_carnitine </td><td>file_13</td></tr>\n",
       "</tbody>\n",
       "</table>\n"
      ],
      "text/latex": [
       "A data.frame: 13 × 3\n",
       "\\begin{tabular}{lll}\n",
       " mzml\\_files & ResultFileNames & File\\_id\\\\\n",
       " <chr> & <chr> & <chr>\\\\\n",
       "\\hline\n",
       "\t ./VN\\_211016\\_Sc\\_QC\\_PRM\\_neg.mzML        & ./VN\\_211016\\_Sc\\_QC\\_PRM\\_neg        & file\\_1 \\\\\n",
       "\t ./VN\\_211016\\_Sc\\_QC\\_PRM\\_pos.mzML        & ./VN\\_211016\\_Sc\\_QC\\_PRM\\_pos        & file\\_2 \\\\\n",
       "\t ./VN\\_211016\\_Sc\\_st\\_PRM\\_neg.mzML        & ./VN\\_211016\\_Sc\\_st\\_PRM\\_neg        & file\\_3 \\\\\n",
       "\t ./VN\\_211016\\_Sc\\_st\\_PRM\\_pos.mzML        & ./VN\\_211016\\_Sc\\_st\\_PRM\\_pos        & file\\_4 \\\\\n",
       "\t ./VN\\_211016\\_acetyl\\_carnitine.mzML     & ./VN\\_211016\\_acetyl\\_carnitine     & file\\_5 \\\\\n",
       "\t ./VN\\_211016\\_betaine.mzML              & ./VN\\_211016\\_betaine              & file\\_6 \\\\\n",
       "\t ./VN\\_211016\\_butanoyl\\_carnitine.mzML   & ./VN\\_211016\\_butanoyl\\_carnitine   & file\\_7 \\\\\n",
       "\t ./VN\\_211016\\_cyst\\_acid\\_PRM\\_neg.mzML    & ./VN\\_211016\\_cyst\\_acid\\_PRM\\_neg    & file\\_8 \\\\\n",
       "\t ./VN\\_211016\\_cyst\\_acid\\_PRM\\_pos.mzML    & ./VN\\_211016\\_cyst\\_acid\\_PRM\\_pos    & file\\_9 \\\\\n",
       "\t ./VN\\_211016\\_isovalerylcarnitine.mzML  & ./VN\\_211016\\_isovalerylcarnitine  & file\\_10\\\\\n",
       "\t ./VN\\_211016\\_methionine\\_sulfoxide.mzML & ./VN\\_211016\\_methionine\\_sulfoxide & file\\_11\\\\\n",
       "\t ./VN\\_211016\\_pipecolate.mzML           & ./VN\\_211016\\_pipecolate           & file\\_12\\\\\n",
       "\t ./VN\\_211016\\_propanoyl\\_carnitine.mzML  & ./VN\\_211016\\_propanoyl\\_carnitine  & file\\_13\\\\\n",
       "\\end{tabular}\n"
      ],
      "text/markdown": [
       "\n",
       "A data.frame: 13 × 3\n",
       "\n",
       "| mzml_files &lt;chr&gt; | ResultFileNames &lt;chr&gt; | File_id &lt;chr&gt; |\n",
       "|---|---|---|\n",
       "| ./VN_211016_Sc_QC_PRM_neg.mzML        | ./VN_211016_Sc_QC_PRM_neg        | file_1  |\n",
       "| ./VN_211016_Sc_QC_PRM_pos.mzML        | ./VN_211016_Sc_QC_PRM_pos        | file_2  |\n",
       "| ./VN_211016_Sc_st_PRM_neg.mzML        | ./VN_211016_Sc_st_PRM_neg        | file_3  |\n",
       "| ./VN_211016_Sc_st_PRM_pos.mzML        | ./VN_211016_Sc_st_PRM_pos        | file_4  |\n",
       "| ./VN_211016_acetyl_carnitine.mzML     | ./VN_211016_acetyl_carnitine     | file_5  |\n",
       "| ./VN_211016_betaine.mzML              | ./VN_211016_betaine              | file_6  |\n",
       "| ./VN_211016_butanoyl_carnitine.mzML   | ./VN_211016_butanoyl_carnitine   | file_7  |\n",
       "| ./VN_211016_cyst_acid_PRM_neg.mzML    | ./VN_211016_cyst_acid_PRM_neg    | file_8  |\n",
       "| ./VN_211016_cyst_acid_PRM_pos.mzML    | ./VN_211016_cyst_acid_PRM_pos    | file_9  |\n",
       "| ./VN_211016_isovalerylcarnitine.mzML  | ./VN_211016_isovalerylcarnitine  | file_10 |\n",
       "| ./VN_211016_methionine_sulfoxide.mzML | ./VN_211016_methionine_sulfoxide | file_11 |\n",
       "| ./VN_211016_pipecolate.mzML           | ./VN_211016_pipecolate           | file_12 |\n",
       "| ./VN_211016_propanoyl_carnitine.mzML  | ./VN_211016_propanoyl_carnitine  | file_13 |\n",
       "\n"
      ],
      "text/plain": [
       "   mzml_files                            ResultFileNames                 \n",
       "1  ./VN_211016_Sc_QC_PRM_neg.mzML        ./VN_211016_Sc_QC_PRM_neg       \n",
       "2  ./VN_211016_Sc_QC_PRM_pos.mzML        ./VN_211016_Sc_QC_PRM_pos       \n",
       "3  ./VN_211016_Sc_st_PRM_neg.mzML        ./VN_211016_Sc_st_PRM_neg       \n",
       "4  ./VN_211016_Sc_st_PRM_pos.mzML        ./VN_211016_Sc_st_PRM_pos       \n",
       "5  ./VN_211016_acetyl_carnitine.mzML     ./VN_211016_acetyl_carnitine    \n",
       "6  ./VN_211016_betaine.mzML              ./VN_211016_betaine             \n",
       "7  ./VN_211016_butanoyl_carnitine.mzML   ./VN_211016_butanoyl_carnitine  \n",
       "8  ./VN_211016_cyst_acid_PRM_neg.mzML    ./VN_211016_cyst_acid_PRM_neg   \n",
       "9  ./VN_211016_cyst_acid_PRM_pos.mzML    ./VN_211016_cyst_acid_PRM_pos   \n",
       "10 ./VN_211016_isovalerylcarnitine.mzML  ./VN_211016_isovalerylcarnitine \n",
       "11 ./VN_211016_methionine_sulfoxide.mzML ./VN_211016_methionine_sulfoxide\n",
       "12 ./VN_211016_pipecolate.mzML           ./VN_211016_pipecolate          \n",
       "13 ./VN_211016_propanoyl_carnitine.mzML  ./VN_211016_propanoyl_carnitine \n",
       "   File_id\n",
       "1  file_1 \n",
       "2  file_2 \n",
       "3  file_3 \n",
       "4  file_4 \n",
       "5  file_5 \n",
       "6  file_6 \n",
       "7  file_7 \n",
       "8  file_8 \n",
       "9  file_9 \n",
       "10 file_10\n",
       "11 file_11\n",
       "12 file_12\n",
       "13 file_13"
      ]
     },
     "metadata": {},
     "output_type": "display_data"
    }
   ],
   "source": [
    "# Run the first function; this creates a dataframe of your input files, their result directories \n",
    "# and gives an id to each input file; stores the table in directory as a csv filr\n",
    "input_table <- data.frame(ms2_rfilename(input_dir))\n",
    "input_table"
   ]
  },
  {
   "cell_type": "code",
   "execution_count": null,
   "id": "f3d51c9d",
   "metadata": {},
   "outputs": [],
   "source": []
  },
  {
   "cell_type": "code",
   "execution_count": 74,
   "id": "f391bcc6",
   "metadata": {
    "collapsed": true
   },
   "outputs": [
    {
     "ename": "ERROR",
     "evalue": "Error in str_remove(result_dir, \".\"): Argument \"result_dir\" fehlt (ohne Standardwert)\n",
     "output_type": "error",
     "traceback": [
      "Error in str_remove(result_dir, \".\"): Argument \"result_dir\" fehlt (ohne Standardwert)\nTraceback:\n",
      "1. spec_Processing(as.character(input_table[i, \"mzml_files\"]), input_table[i, \n .     \"ResultFileNames\"])",
      "2. paste(input_dir, str_remove(result_dir, \".\"), sep = \"\")",
      "3. standardGeneric(\"paste\")",
      "4. eval(quote(list(...)), env)",
      "5. eval(quote(list(...)), env)",
      "6. eval(quote(list(...)), env)",
      "7. str_remove(result_dir, \".\")",
      "8. str_replace(string, pattern, \"\")",
      "9. stri_replace_first_regex(string, pattern, fix_replacement(replacement), \n .     opts_regex = opts(pattern))"
     ]
    }
   ],
   "source": [
    "for (i in 1:nrow(input_table)){\n",
    "    #Preprocess and Read the mzMLfiles\n",
    "    spec_pr <- spec_Processing(input_dir, \n",
    "                               input_table[i, \"mzml_files\"], \n",
    "                               input_table[i, \"ResultFileNames\"])\n",
    "\n",
    "\n",
    "    #perform dereplication with all dbs\n",
    "    df_derep <- spec_dereplication(mzml_file = input_table[i, \"mzml_files\"],\n",
    "                                   pre_tbl = paste(input_dir, str_remove(paste(input_table[i, \"ResultFileNames\"], \"/premz_list.txt\", sep = \"\"), \".\"), sep =\"\"), \n",
    "                                   proc_mzml = paste(input_dir, str_remove(paste(input_table[i, \"ResultFileNames\"], \"/processedSpectra.mzML\", sep = \"\"), \".\"), sep =\"\"),\n",
    "                                   db = \"all\", \n",
    "                                   result_dir = input_table[i, \"ResultFileNames\"],\n",
    "                                   file_id = input_table[i, \"File_id\"], \n",
    "                                   input_dir, \n",
    "                                   ppmx = 15)\n",
    "    \n",
    "    # Extract MS2 peak lists\n",
    "    spec_pr2 <- ms2_peaks(pre_tbl = paste(input_dir, str_remove(paste(input_table[i, \"ResultFileNames\"], \"/premz_list.txt\", sep = \"\"), \".\"), sep =\"\"), \n",
    "                          proc_mzml = paste(input_dir, str_remove(paste(input_table[i, \"ResultFileNames\"], \"/processedSpectra.mzML\", sep = \"\"), \".\"), sep =\"\"),\n",
    "                          input_dir,\n",
    "                          input_table[i, \"ResultFileNames\"],\n",
    "                         file_id = input_table[i, \"File_id\"])\n",
    "    \n",
    "    # camera results for isotopes\n",
    "    cam_res <- cam_func(input_dir,\n",
    "                        f = input_table[i, \"mzml_files\"], \n",
    "                        ms2features = paste(input_dir, str_remove(paste(input_table[i, \"ResultFileNames\"], \"/insilico/MS2DATA.csv\", sep = \"\"), \".\"), sep = \"\"))\n",
    "    \n",
    "    \n",
    "    # Extract MS1 peaks or isotopic peaks\n",
    "    ms1p <- ms1_peaks(x = paste(input_dir, str_remove(paste(input_table[i, \"ResultFileNames\"],'/insilico/MS2DATA.csv', sep = \"\"), \".\"), sep =\"\"), \n",
    "                      y = paste(input_dir, str_remove(paste(input_table[i, \"ResultFileNames\"],'/posCAMERAResults.csv', sep = \"\"), \".\"), sep =\"\"), \n",
    "                      input_table[i, \"ResultFileNames\"], \n",
    "                      input_dir, \n",
    "                      QCfile = TRUE)\n",
    "    #prepare sirius parameter files\n",
    "    sirius_param_files <- sirius_param(x = paste(input_dir, str_remove(paste(input_table[i, \"ResultFileNames\"],'/insilico/MS1DATA.csv', sep = \"\"), \".\"), sep =\"\"), \n",
    "                                       result_dir = input_table[i, 'ResultFileNames'], \n",
    "                                       input_dir,\n",
    "                                       SL = TRUE)\n",
    "    \n",
    "    # Run sirius\n",
    "    run_sirius(files = paste(input_dir, str_remove(paste(input_table[i, \"ResultFileNames\"],'/insilico/MS1DATA_SiriusPandSL.csv', sep = \"\"), \".\"), sep =\"\"), \n",
    "               ppm_max = 5, \n",
    "               ppm_max_ms2 = 15, \n",
    "               QC = TRUE, \n",
    "               SL = TRUE, \n",
    "               SL_path = paste(input_dir, 'SL_Frag/', sep = \"\"),\n",
    "               candidates = 30)\n",
    "    \n",
    "    \n",
    "    # Post process Sirius results and extract adducts for MetFrag\n",
    "    adducts <- sirius_adduct(input_dir,\n",
    "                             x = input_table[i, \"ResultFileNames\"], \n",
    "                             SL = TRUE)\n",
    "\n",
    "    \n",
    "    # prepare Metfrag parameter files\n",
    "    met_param <- metfrag_param(x = paste(input_dir, str_remove(paste(input_table[i, \"ResultFileNames\"], \"/insilico/MS1DATAsirius.csv\", sep = \"\"), \".\"), sep =\"\"), \n",
    "                               result_dir = input_table[i, \"ResultFileNames\"],\n",
    "                               input_dir, \n",
    "                               sl_mtfrag = paste(input_dir, \"/SL_metfrag.txt\", sep = \"\"), \n",
    "                               SL = TRUE,\n",
    "                               ppm_max = 5, \n",
    "                               ppm_max_ms2= 15)\n",
    "    \n",
    "    \n",
    "    # run metfrag\n",
    "    run_metfrag(met_param = paste(input_dir, str_remove(paste(input_table[i, \"ResultFileNames\"], \"/insilico/metparam_list.txt\", sep = \"\"), \".\"), sep =\"\"))\n",
    "    \n",
    "\n",
    "}"
   ]
  },
  {
   "cell_type": "code",
   "execution_count": null,
   "id": "1971d81e",
   "metadata": {},
   "outputs": [],
   "source": [
    "end_time <- Sys.time()\n",
    "print(end_time - start_time)"
   ]
  },
  {
   "cell_type": "code",
   "execution_count": null,
   "id": "beb4e1c6",
   "metadata": {},
   "outputs": [],
   "source": [
    "save.image(file = paste(input, \"/STANDARDSresultsR.Rdata\", sep =\"\")"
   ]
  }
 ],
 "metadata": {
  "kernelspec": {
   "display_name": "R",
   "language": "R",
   "name": "ir"
  },
  "language_info": {
   "codemirror_mode": "r",
   "file_extension": ".r",
   "mimetype": "text/x-r-source",
   "name": "R",
   "pygments_lexer": "r",
   "version": "4.2.0"
  }
 },
 "nbformat": 4,
 "nbformat_minor": 5
}
