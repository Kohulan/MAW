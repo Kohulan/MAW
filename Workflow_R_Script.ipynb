{
 "cells": [
  {
   "cell_type": "markdown",
   "id": "98fbd56e",
   "metadata": {},
   "source": [
    "## Load libraries"
   ]
  },
  {
   "cell_type": "code",
   "execution_count": 1,
   "id": "0087d9da",
   "metadata": {},
   "outputs": [],
   "source": [
    "#packageVersion(\"Spectra\")\n",
    "#packageVersion(\"MsBackendMgf\")\n",
    "#packageVersion(\"MsBackendHmdb\")\n",
    "#packageVersion(\"MsBackendMsp\")\n",
    "#packageVersion(\"MsCoreUtils\")\n",
    "#packageVersion(\"readr\")\n",
    "#packageVersion(\"dplyr\")\n",
    "#packageVersion(\"rvest\")\n",
    "#packageVersion(\"stringr\")\n",
    "#packageVersion(\"xml2\")\n",
    "#packageVersion(\"CAMERA\")"
   ]
  },
  {
   "cell_type": "code",
   "execution_count": null,
   "id": "8393e513",
   "metadata": {},
   "outputs": [],
   "source": []
  },
  {
   "cell_type": "markdown",
   "id": "3300ee3a",
   "metadata": {},
   "source": [
    "## Define input directory, keep everything in this directory"
   ]
  },
  {
   "cell_type": "code",
   "execution_count": 2,
   "id": "10e065eb",
   "metadata": {},
   "outputs": [
    {
     "data": {
      "text/html": [
       "'/Users/mahnoorzulfiqar/OneDriveUNI/MAW-data/MTBLS709_Data'"
      ],
      "text/latex": [
       "'/Users/mahnoorzulfiqar/OneDriveUNI/MAW-data/MTBLS709\\_Data'"
      ],
      "text/markdown": [
       "'/Users/mahnoorzulfiqar/OneDriveUNI/MAW-data/MTBLS709_Data'"
      ],
      "text/plain": [
       "[1] \"/Users/mahnoorzulfiqar/OneDriveUNI/MAW-data/MTBLS709_Data\""
      ]
     },
     "metadata": {},
     "output_type": "display_data"
    }
   ],
   "source": [
    "# ---------- Script ----------\n",
    "# input directory\n",
    "input_dir <- getwd()\n",
    "input_dir"
   ]
  },
  {
   "cell_type": "markdown",
   "id": "4afb648b",
   "metadata": {},
   "source": [
    "## load function file"
   ]
  },
  {
   "cell_type": "code",
   "execution_count": 3,
   "id": "4fa7c831",
   "metadata": {},
   "outputs": [
    {
     "name": "stderr",
     "output_type": "stream",
     "text": [
      "Lade nötiges Paket: S4Vectors\n",
      "\n",
      "Lade nötiges Paket: stats4\n",
      "\n",
      "Lade nötiges Paket: BiocGenerics\n",
      "\n",
      "\n",
      "Attache Paket: ‘BiocGenerics’\n",
      "\n",
      "\n",
      "Die folgenden Objekte sind maskiert von ‘package:stats’:\n",
      "\n",
      "    IQR, mad, sd, var, xtabs\n",
      "\n",
      "\n",
      "Die folgenden Objekte sind maskiert von ‘package:base’:\n",
      "\n",
      "    Filter, Find, Map, Position, Reduce, anyDuplicated, append,\n",
      "    as.data.frame, basename, cbind, colnames, dirname, do.call,\n",
      "    duplicated, eval, evalq, get, grep, grepl, intersect, is.unsorted,\n",
      "    lapply, mapply, match, mget, order, paste, pmax, pmax.int, pmin,\n",
      "    pmin.int, rank, rbind, rownames, sapply, setdiff, sort, table,\n",
      "    tapply, union, unique, unsplit, which.max, which.min\n",
      "\n",
      "\n",
      "\n",
      "Attache Paket: ‘S4Vectors’\n",
      "\n",
      "\n",
      "Die folgenden Objekte sind maskiert von ‘package:base’:\n",
      "\n",
      "    I, expand.grid, unname\n",
      "\n",
      "\n",
      "Lade nötiges Paket: BiocParallel\n",
      "\n",
      "Lade nötiges Paket: ProtGenerics\n",
      "\n",
      "\n",
      "Attache Paket: ‘ProtGenerics’\n",
      "\n",
      "\n",
      "Das folgende Objekt ist maskiert ‘package:stats’:\n",
      "\n",
      "    smooth\n",
      "\n",
      "\n",
      "\n",
      "Attache Paket: ‘Spectra’\n",
      "\n",
      "\n",
      "Das folgende Objekt ist maskiert ‘package:ProtGenerics’:\n",
      "\n",
      "    addProcessing\n",
      "\n",
      "\n",
      "\n",
      "Attache Paket: ‘MsCoreUtils’\n",
      "\n",
      "\n",
      "Die folgenden Objekte sind maskiert von ‘package:Spectra’:\n",
      "\n",
      "    bin, smooth\n",
      "\n",
      "\n",
      "Die folgenden Objekte sind maskiert von ‘package:ProtGenerics’:\n",
      "\n",
      "    bin, smooth\n",
      "\n",
      "\n",
      "Das folgende Objekt ist maskiert ‘package:stats’:\n",
      "\n",
      "    smooth\n",
      "\n",
      "\n",
      "\n",
      "Attache Paket: ‘dplyr’\n",
      "\n",
      "\n",
      "Das folgende Objekt ist maskiert ‘package:MsCoreUtils’:\n",
      "\n",
      "    between\n",
      "\n",
      "\n",
      "Die folgenden Objekte sind maskiert von ‘package:S4Vectors’:\n",
      "\n",
      "    first, intersect, rename, setdiff, setequal, union\n",
      "\n",
      "\n",
      "Die folgenden Objekte sind maskiert von ‘package:BiocGenerics’:\n",
      "\n",
      "    combine, intersect, setdiff, union\n",
      "\n",
      "\n",
      "Die folgenden Objekte sind maskiert von ‘package:stats’:\n",
      "\n",
      "    filter, lag\n",
      "\n",
      "\n",
      "Die folgenden Objekte sind maskiert von ‘package:base’:\n",
      "\n",
      "    intersect, setdiff, setequal, union\n",
      "\n",
      "\n",
      "\n",
      "Attache Paket: ‘rvest’\n",
      "\n",
      "\n",
      "Das folgende Objekt ist maskiert ‘package:readr’:\n",
      "\n",
      "    guess_encoding\n",
      "\n",
      "\n",
      "Lade nötiges Paket: Rcpp\n",
      "\n"
     ]
    }
   ],
   "source": [
    "# load the functions file\n",
    "source(paste(input_dir, \"/Workflow_R_Functions.r\", sep = \"\"))"
   ]
  },
  {
   "cell_type": "markdown",
   "id": "dc722e8f",
   "metadata": {},
   "source": [
    "## Start the workflow"
   ]
  },
  {
   "cell_type": "code",
   "execution_count": 4,
   "id": "6607bfba",
   "metadata": {},
   "outputs": [],
   "source": [
    "# Track Time \n",
    "#start_time <- Sys.time()"
   ]
  },
  {
   "cell_type": "code",
   "execution_count": 3,
   "id": "f391bcc6",
   "metadata": {},
   "outputs": [
    {
     "ename": "ERROR",
     "evalue": "Error in ms2_rfilename(input_dir): konnte Funktion \"ms2_rfilename\" nicht finden\n",
     "output_type": "error",
     "traceback": [
      "Error in ms2_rfilename(input_dir): konnte Funktion \"ms2_rfilename\" nicht finden\nTraceback:\n",
      "1. system.time({\n .     input_table <- data.frame(ms2_rfilename(input_dir))\n .     input_table\n .     for (i in 1:nrow(input_table)) {\n .         spec_pr <- spec_Processing(input_dir, input_table[i, \n .             \"mzml_files\"], input_table[i, \"ResultFileNames\"])\n .         df_derep <- spec_dereplication(mzml_file = input_table[i, \n .             \"mzml_files\"], pre_tbl = paste(input_dir, str_remove(paste(input_table[i, \n .             \"ResultFileNames\"], \"/premz_list.txt\", sep = \"\"), \n .             \".\"), sep = \"\"), proc_mzml = paste(input_dir, str_remove(paste(input_table[i, \n .             \"ResultFileNames\"], \"/processedSpectra.mzML\", sep = \"\"), \n .             \".\"), sep = \"\"), db = \"all\", result_dir = input_table[i, \n .             \"ResultFileNames\"], file_id = input_table[i, \"File_id\"], \n .             input_dir, ppmx = 15)\n .         spec_pr2 <- ms2_peaks(pre_tbl = paste(input_dir, str_remove(paste(input_table[i, \n .             \"ResultFileNames\"], \"/premz_list.txt\", sep = \"\"), \n .             \".\"), sep = \"\"), proc_mzml = paste(input_dir, str_remove(paste(input_table[i, \n .             \"ResultFileNames\"], \"/processedSpectra.mzML\", sep = \"\"), \n .             \".\"), sep = \"\"), input_dir, input_table[i, \"ResultFileNames\"], \n .             file_id = input_table[i, \"File_id\"])\n .         cam_res <- cam_func(input_dir, f = input_table[i, \"mzml_files\"], \n .             ms2features = paste(input_dir, str_remove(paste(input_table[i, \n .                 \"ResultFileNames\"], \"/insilico/MS2DATA.csv\", \n .                 sep = \"\"), \".\"), sep = \"\"))\n .         ms1p <- ms1_peaks(x = paste(input_dir, str_remove(paste(input_table[i, \n .             \"ResultFileNames\"], \"/insilico/MS2DATA.csv\", sep = \"\"), \n .             \".\"), sep = \"\"), y = paste(input_dir, str_remove(paste(input_table[i, \n .             \"ResultFileNames\"], \"/CAMERAResults.csv\", sep = \"\"), \n .             \".\"), sep = \"\"), input_table[i, \"ResultFileNames\"], \n .             input_dir, QCfile = TRUE)\n .         sirius_param_files <- sirius_param(x = paste(input_dir, \n .             str_remove(paste(input_table[i, \"ResultFileNames\"], \n .                 \"/insilico/MS1DATA.csv\", sep = \"\"), \".\"), sep = \"\"), \n .             result_dir = input_table[i, \"ResultFileNames\"], input_dir, \n .             SL = TRUE)\n .         run_sirius(files = paste(input_dir, str_remove(paste(input_table[i, \n .             \"ResultFileNames\"], \"/insilico/MS1DATA_SiriusPandSL.csv\", \n .             sep = \"\"), \".\"), sep = \"\"), ppm_max = 5, ppm_max_ms2 = 15, \n .             QC = TRUE, SL = TRUE, SL_path = paste(input_dir, \n .                 \"SL_Frag/\", sep = \"\"), candidates = 30)\n .         adducts <- sirius_adduct(input_dir, x = input_table[i, \n .             \"ResultFileNames\"], SL = TRUE)\n .         met_param <- metfrag_param(x = paste(input_dir, str_remove(paste(input_table[i, \n .             \"ResultFileNames\"], \"/insilico/MS1DATAsirius.csv\", \n .             sep = \"\"), \".\"), sep = \"\"), result_dir = input_table[i, \n .             \"ResultFileNames\"], input_dir, sl_mtfrag = paste(input_dir, \n .             \"/SL_metfrag.txt\", sep = \"\"), SL = TRUE, ppm_max = 5, \n .             ppm_max_ms2 = 15)\n .         run_metfrag(met_param = paste(input_dir, str_remove(paste(input_table[i, \n .             \"ResultFileNames\"], \"/insilico/metparam_list.txt\", \n .             sep = \"\"), \".\"), sep = \"\"))\n .     }\n . })",
      "2. data.frame(ms2_rfilename(input_dir))   # at line 4 of file <text>"
     ]
    },
    {
     "name": "stderr",
     "output_type": "stream",
     "text": [
      "Zeitnahme beendet um: 0.006 0 0.006\n",
      "\n"
     ]
    }
   ],
   "source": [
    "line <- system.time({\n",
    "    # Run the first function; this creates a dataframe of your input files, their result directories \n",
    "    # and gives an id to each input file; stores the table in directory as a csv filr\n",
    "    input_table <- data.frame(ms2_rfilename(input_dir))\n",
    "    input_table\n",
    "    for (i in 1:nrow(input_table)){\n",
    "\n",
    "        #Preprocess and Read the mzMLfiles\n",
    "        spec_pr <- spec_Processing(input_dir,\n",
    "                                   input_table[i, \"mzml_files\"], \n",
    "                                   input_table[i, \"ResultFileNames\"])\n",
    "\n",
    "\n",
    "        #perform dereplication with all dbs\n",
    "        df_derep <- spec_dereplication(mzml_file = input_table[i, \"mzml_files\"],\n",
    "                                       pre_tbl = paste(input_dir, str_remove(paste(input_table[i, \"ResultFileNames\"], \"/premz_list.txt\", sep = \"\"), \".\"), sep =\"\"), \n",
    "                                       proc_mzml = paste(input_dir, str_remove(paste(input_table[i, \"ResultFileNames\"], \"/processedSpectra.mzML\", sep = \"\"), \".\"), sep =\"\"),\n",
    "                                       db = \"all\", \n",
    "                                       result_dir = input_table[i, \"ResultFileNames\"],\n",
    "                                       file_id = input_table[i, \"File_id\"], \n",
    "                                       input_dir, \n",
    "                                       ppmx = 15)\n",
    "\n",
    "        # Extract MS2 peak lists\n",
    "        spec_pr2 <- ms2_peaks(pre_tbl = paste(input_dir, str_remove(paste(input_table[i, \"ResultFileNames\"], \"/premz_list.txt\", sep = \"\"), \".\"), sep =\"\"), \n",
    "                              proc_mzml = paste(input_dir, str_remove(paste(input_table[i, \"ResultFileNames\"], \"/processedSpectra.mzML\", sep = \"\"), \".\"), sep =\"\"),\n",
    "                              input_dir,\n",
    "                              input_table[i, \"ResultFileNames\"],\n",
    "                             file_id = input_table[i, \"File_id\"])\n",
    "\n",
    "        # camera results for isotopes\n",
    "        cam_res <- cam_func(input_dir,\n",
    "                            f = input_table[i, \"mzml_files\"], \n",
    "                            ms2features = paste(input_dir, str_remove(paste(input_table[i, \"ResultFileNames\"], \"/insilico/MS2DATA.csv\", sep = \"\"), \".\"), sep = \"\"))\n",
    "\n",
    "\n",
    "        # Extract MS1 peaks or isotopic peaks\n",
    "        ms1p <- ms1_peaks(x = paste(input_dir, str_remove(paste(input_table[i, \"ResultFileNames\"],'/insilico/MS2DATA.csv', sep = \"\"), \".\"), sep =\"\"), \n",
    "                          y = paste(input_dir, str_remove(paste(input_table[i, \"ResultFileNames\"],'/CAMERAResults.csv', sep = \"\"), \".\"), sep =\"\"), \n",
    "                          input_table[i, \"ResultFileNames\"], \n",
    "                          input_dir, \n",
    "                          QCfile = TRUE)\n",
    "        #prepare sirius parameter files\n",
    "        sirius_param_files <- sirius_param(x = paste(input_dir, str_remove(paste(input_table[i, \"ResultFileNames\"],'/insilico/MS1DATA.csv', sep = \"\"), \".\"), sep =\"\"), \n",
    "                                           result_dir = input_table[i, 'ResultFileNames'], \n",
    "                                           input_dir,\n",
    "                                           SL = TRUE)\n",
    "\n",
    "        # Run sirius\n",
    "        run_sirius(files = paste(input_dir, str_remove(paste(input_table[i, \"ResultFileNames\"],'/insilico/MS1DATA_SiriusPandSL.csv', sep = \"\"), \".\"), sep =\"\"), \n",
    "                   ppm_max = 5, \n",
    "                   ppm_max_ms2 = 15, \n",
    "                   QC = TRUE, \n",
    "                   SL = TRUE, \n",
    "                   SL_path = paste(input_dir, 'SL_Frag/', sep = \"\"),\n",
    "                   candidates = 30)\n",
    "\n",
    "\n",
    "        # Post process Sirius results and extract adducts for MetFrag\n",
    "        adducts <- sirius_adduct(input_dir,\n",
    "                                 x = input_table[i, \"ResultFileNames\"], \n",
    "                                 SL = TRUE)\n",
    "\n",
    "\n",
    "        # prepare Metfrag parameter files\n",
    "        met_param <- metfrag_param(x = paste(input_dir, str_remove(paste(input_table[i, \"ResultFileNames\"], \"/insilico/MS1DATAsirius.csv\", sep = \"\"), \".\"), sep =\"\"), \n",
    "                                   result_dir = input_table[i, \"ResultFileNames\"],\n",
    "                                   input_dir, \n",
    "                                   sl_mtfrag = paste(input_dir, \"/SL_metfrag.txt\", sep = \"\"), \n",
    "                                   SL = TRUE,\n",
    "                                   ppm_max = 5, \n",
    "                                   ppm_max_ms2= 15)\n",
    "\n",
    "\n",
    "        # run metfrag\n",
    "        run_metfrag(met_param = paste(input_dir, str_remove(paste(input_table[i, \"ResultFileNames\"], \"/insilico/metparam_list.txt\", sep = \"\"), \".\"), sep =\"\"))\n",
    "\n",
    "\n",
    "    }\n",
    "})\n"
   ]
  },
  {
   "cell_type": "code",
   "execution_count": 15,
   "id": "2306444a",
   "metadata": {},
   "outputs": [],
   "source": [
    "write(paste(\"MAW took\", line[1] \"of seconds.\", sep = \"\") ,file=paste(input_dir, \"/summaryFile.txt\", sep = \"\"),append=TRUE)"
   ]
  },
  {
   "cell_type": "code",
   "execution_count": null,
   "id": "beb4e1c6",
   "metadata": {},
   "outputs": [],
   "source": [
    "save.image(file = paste(input, \"/StandardsRun1.Rdata\", sep =\"\")"
   ]
  },
  {
   "cell_type": "code",
   "execution_count": null,
   "id": "00f50eab",
   "metadata": {},
   "outputs": [],
   "source": []
  }
 ],
 "metadata": {
  "kernelspec": {
   "display_name": "R",
   "language": "R",
   "name": "ir"
  },
  "language_info": {
   "codemirror_mode": "r",
   "file_extension": ".r",
   "mimetype": "text/x-r-source",
   "name": "R",
   "pygments_lexer": "r",
   "version": "4.2.0"
  }
 },
 "nbformat": 4,
 "nbformat_minor": 5
}
