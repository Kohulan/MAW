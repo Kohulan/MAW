{
 "cells": [
  {
   "cell_type": "markdown",
   "id": "98fbd56e",
   "metadata": {},
   "source": [
    "## Load libraries"
   ]
  },
  {
   "cell_type": "code",
   "execution_count": 1,
   "id": "0087d9da",
   "metadata": {},
   "outputs": [],
   "source": [
    "#packageVersion(\"Spectra\")\n",
    "#packageVersion(\"MsBackendMgf\")\n",
    "#packageVersion(\"MsBackendHmdb\")\n",
    "#packageVersion(\"MsBackendMsp\")\n",
    "#packageVersion(\"MsCoreUtils\")\n",
    "#packageVersion(\"readr\")\n",
    "#packageVersion(\"dplyr\")\n",
    "#packageVersion(\"rvest\")\n",
    "#packageVersion(\"stringr\")\n",
    "#packageVersion(\"xml2\")"
   ]
  },
  {
   "cell_type": "code",
   "execution_count": 2,
   "id": "4e1a80e8",
   "metadata": {},
   "outputs": [
    {
     "name": "stderr",
     "output_type": "stream",
     "text": [
      "Loading required package: S4Vectors\n",
      "\n",
      "Loading required package: stats4\n",
      "\n",
      "Loading required package: BiocGenerics\n",
      "\n",
      "\n",
      "Attaching package: ‘BiocGenerics’\n",
      "\n",
      "\n",
      "The following objects are masked from ‘package:stats’:\n",
      "\n",
      "    IQR, mad, sd, var, xtabs\n",
      "\n",
      "\n",
      "The following objects are masked from ‘package:base’:\n",
      "\n",
      "    anyDuplicated, append, as.data.frame, basename, cbind, colnames,\n",
      "    dirname, do.call, duplicated, eval, evalq, Filter, Find, get, grep,\n",
      "    grepl, intersect, is.unsorted, lapply, Map, mapply, match, mget,\n",
      "    order, paste, pmax, pmax.int, pmin, pmin.int, Position, rank,\n",
      "    rbind, Reduce, rownames, sapply, setdiff, sort, table, tapply,\n",
      "    union, unique, unsplit, which.max, which.min\n",
      "\n",
      "\n",
      "\n",
      "Attaching package: ‘S4Vectors’\n",
      "\n",
      "\n",
      "The following objects are masked from ‘package:base’:\n",
      "\n",
      "    expand.grid, I, unname\n",
      "\n",
      "\n",
      "Loading required package: BiocParallel\n",
      "\n",
      "Warning message:\n",
      "“package ‘BiocParallel’ was built under R version 4.1.2”\n",
      "Loading required package: ProtGenerics\n",
      "\n",
      "\n",
      "Attaching package: ‘ProtGenerics’\n",
      "\n",
      "\n",
      "The following object is masked from ‘package:stats’:\n",
      "\n",
      "    smooth\n",
      "\n",
      "\n",
      "\n",
      "Attaching package: ‘MsBackendMgf’\n",
      "\n",
      "\n",
      "The following object is masked from ‘package:Spectra’:\n",
      "\n",
      "    spectraVariableMapping\n",
      "\n",
      "\n",
      "\n",
      "Attaching package: ‘MsCoreUtils’\n",
      "\n",
      "\n",
      "The following objects are masked from ‘package:Spectra’:\n",
      "\n",
      "    bin, smooth\n",
      "\n",
      "\n",
      "The following objects are masked from ‘package:ProtGenerics’:\n",
      "\n",
      "    bin, smooth\n",
      "\n",
      "\n",
      "The following object is masked from ‘package:stats’:\n",
      "\n",
      "    smooth\n",
      "\n",
      "\n",
      "Warning message:\n",
      "“package ‘readr’ was built under R version 4.1.2”\n",
      "Warning message:\n",
      "“package ‘dplyr’ was built under R version 4.1.2”\n",
      "\n",
      "Attaching package: ‘dplyr’\n",
      "\n",
      "\n",
      "The following object is masked from ‘package:MsCoreUtils’:\n",
      "\n",
      "    between\n",
      "\n",
      "\n",
      "The following objects are masked from ‘package:S4Vectors’:\n",
      "\n",
      "    first, intersect, rename, setdiff, setequal, union\n",
      "\n",
      "\n",
      "The following objects are masked from ‘package:BiocGenerics’:\n",
      "\n",
      "    combine, intersect, setdiff, union\n",
      "\n",
      "\n",
      "The following objects are masked from ‘package:stats’:\n",
      "\n",
      "    filter, lag\n",
      "\n",
      "\n",
      "The following objects are masked from ‘package:base’:\n",
      "\n",
      "    intersect, setdiff, setequal, union\n",
      "\n",
      "\n",
      "\n",
      "Attaching package: ‘rvest’\n",
      "\n",
      "\n",
      "The following object is masked from ‘package:readr’:\n",
      "\n",
      "    guess_encoding\n",
      "\n",
      "\n"
     ]
    }
   ],
   "source": [
    "# ---------- Preparations ----------\n",
    "# Load Libraries\n",
    "library(Spectra)\n",
    "library(MsBackendMgf)\n",
    "library(MsBackendHmdb)\n",
    "library(MsCoreUtils)\n",
    "library(MsBackendMsp)\n",
    "library(readr)\n",
    "library(dplyr)\n",
    "# 3 dependencies for latest MassBank version\n",
    "library(rvest)\n",
    "library(stringr)\n",
    "library(xml2)\n",
    "options(warn=-1)"
   ]
  },
  {
   "cell_type": "code",
   "execution_count": 3,
   "id": "8393e513",
   "metadata": {},
   "outputs": [],
   "source": [
    "# Track Time \n",
    "start_time <- Sys.time()"
   ]
  },
  {
   "cell_type": "markdown",
   "id": "3300ee3a",
   "metadata": {},
   "source": [
    "## Define input directory, keep everything in this directory"
   ]
  },
  {
   "cell_type": "code",
   "execution_count": 4,
   "id": "10e065eb",
   "metadata": {},
   "outputs": [
    {
     "data": {
      "text/html": [
       "'/Users/mahnoorzulfiqar/Downloads/MAW-main/'"
      ],
      "text/latex": [
       "'/Users/mahnoorzulfiqar/Downloads/MAW-main/'"
      ],
      "text/markdown": [
       "'/Users/mahnoorzulfiqar/Downloads/MAW-main/'"
      ],
      "text/plain": [
       "[1] \"/Users/mahnoorzulfiqar/Downloads/MAW-main/\""
      ]
     },
     "metadata": {},
     "output_type": "display_data"
    }
   ],
   "source": [
    "# ---------- Script ----------\n",
    "# input directory\n",
    "input_dir <- paste(getwd(), \"/\", sep = '')\n",
    "input_dir"
   ]
  },
  {
   "cell_type": "markdown",
   "id": "4afb648b",
   "metadata": {},
   "source": [
    "## load function file"
   ]
  },
  {
   "cell_type": "code",
   "execution_count": 25,
   "id": "4fa7c831",
   "metadata": {},
   "outputs": [],
   "source": [
    "# load the functions file\n",
    "source(file = paste(input_dir, \"Workflow_R_Functions.r\", sep = ''))"
   ]
  },
  {
   "cell_type": "markdown",
   "id": "dc722e8f",
   "metadata": {},
   "source": [
    "## Start the workflow"
   ]
  },
  {
   "cell_type": "code",
   "execution_count": 7,
   "id": "afb00c59",
   "metadata": {},
   "outputs": [
    {
     "data": {
      "text/html": [
       "<table class=\"dataframe\">\n",
       "<caption>A data.frame: 2 × 3</caption>\n",
       "<thead>\n",
       "\t<tr><th scope=col>mzml_files</th><th scope=col>ResultFileNames</th><th scope=col>File_id</th></tr>\n",
       "\t<tr><th scope=col>&lt;chr&gt;</th><th scope=col>&lt;chr&gt;</th><th scope=col>&lt;chr&gt;</th></tr>\n",
       "</thead>\n",
       "<tbody>\n",
       "\t<tr><td>./VN_211016_betaine.mzML   </td><td>./VN_211016_betaine   </td><td>file_1</td></tr>\n",
       "\t<tr><td>./VN_211016_pipecolate.mzML</td><td>./VN_211016_pipecolate</td><td>file_2</td></tr>\n",
       "</tbody>\n",
       "</table>\n"
      ],
      "text/latex": [
       "A data.frame: 2 × 3\n",
       "\\begin{tabular}{lll}\n",
       " mzml\\_files & ResultFileNames & File\\_id\\\\\n",
       " <chr> & <chr> & <chr>\\\\\n",
       "\\hline\n",
       "\t ./VN\\_211016\\_betaine.mzML    & ./VN\\_211016\\_betaine    & file\\_1\\\\\n",
       "\t ./VN\\_211016\\_pipecolate.mzML & ./VN\\_211016\\_pipecolate & file\\_2\\\\\n",
       "\\end{tabular}\n"
      ],
      "text/markdown": [
       "\n",
       "A data.frame: 2 × 3\n",
       "\n",
       "| mzml_files &lt;chr&gt; | ResultFileNames &lt;chr&gt; | File_id &lt;chr&gt; |\n",
       "|---|---|---|\n",
       "| ./VN_211016_betaine.mzML    | ./VN_211016_betaine    | file_1 |\n",
       "| ./VN_211016_pipecolate.mzML | ./VN_211016_pipecolate | file_2 |\n",
       "\n"
      ],
      "text/plain": [
       "  mzml_files                  ResultFileNames        File_id\n",
       "1 ./VN_211016_betaine.mzML    ./VN_211016_betaine    file_1 \n",
       "2 ./VN_211016_pipecolate.mzML ./VN_211016_pipecolate file_2 "
      ]
     },
     "metadata": {},
     "output_type": "display_data"
    }
   ],
   "source": [
    "# Run the first function; this creates a dataframe of your input files, their result directories \n",
    "# and gives an id to each input file; stores the table in directory as a csv filr\n",
    "input_table <- data.frame(ms2_rfilename(input_dir))\n",
    "input_table"
   ]
  },
  {
   "cell_type": "code",
   "execution_count": null,
   "id": "f391bcc6",
   "metadata": {
    "scrolled": true
   },
   "outputs": [
    {
     "name": "stderr",
     "output_type": "stream",
     "text": [
      "Writing file processedSpectra.mzML...\n",
      "OK\n",
      "\n",
      "\u001b[1mRows: \u001b[22m\u001b[34m0\u001b[39m \u001b[1mColumns: \u001b[22m\u001b[34m13\u001b[39m\n",
      "\u001b[36m──\u001b[39m \u001b[1mColumn specification\u001b[22m \u001b[36m────────────────────────────────────────────────────────\u001b[39m\n",
      "\u001b[1mDelimiter:\u001b[22m \"\\t\"\n",
      "\u001b[31mchr\u001b[39m (13): rank, formulaRank, CSI:FingerIDScore, molecularFormula, adduct, In...\n",
      "\n",
      "\u001b[36mℹ\u001b[39m Use `spec()` to retrieve the full column specification for this data.\n",
      "\u001b[36mℹ\u001b[39m Specify the column types or set `show_col_types = FALSE` to quiet this message.\n",
      "\u001b[1mRows: \u001b[22m\u001b[34m13\u001b[39m \u001b[1mColumns: \u001b[22m\u001b[34m12\u001b[39m\n",
      "\u001b[36m──\u001b[39m \u001b[1mColumn specification\u001b[22m \u001b[36m────────────────────────────────────────────────────────\u001b[39m\n",
      "\u001b[1mDelimiter:\u001b[22m \"\\t\"\n",
      "\u001b[31mchr\u001b[39m (3): molecularFormula, adduct, precursorFormula\n",
      "\u001b[32mdbl\u001b[39m (9): rank, SiriusScore, TreeScore, IsotopeScore, numExplainedPeaks, expl...\n",
      "\n",
      "\u001b[36mℹ\u001b[39m Use `spec()` to retrieve the full column specification for this data.\n",
      "\u001b[36mℹ\u001b[39m Specify the column types or set `show_col_types = FALSE` to quiet this message.\n",
      "\u001b[1mRows: \u001b[22m\u001b[34m71\u001b[39m \u001b[1mColumns: \u001b[22m\u001b[34m13\u001b[39m\n",
      "\u001b[36m──\u001b[39m \u001b[1mColumn specification\u001b[22m \u001b[36m────────────────────────────────────────────────────────\u001b[39m\n",
      "\u001b[1mDelimiter:\u001b[22m \"\\t\"\n",
      "\u001b[31mchr\u001b[39m (8): molecularFormula, adduct, InChIkey2D, InChI, name, smiles, pubchemi...\n",
      "\u001b[32mdbl\u001b[39m (5): rank, formulaRank, CSI:FingerIDScore, xlogp, dbflags\n",
      "\n",
      "\u001b[36mℹ\u001b[39m Use `spec()` to retrieve the full column specification for this data.\n",
      "\u001b[36mℹ\u001b[39m Specify the column types or set `show_col_types = FALSE` to quiet this message.\n",
      "\u001b[1mRows: \u001b[22m\u001b[34m13\u001b[39m \u001b[1mColumns: \u001b[22m\u001b[34m12\u001b[39m\n",
      "\u001b[36m──\u001b[39m \u001b[1mColumn specification\u001b[22m \u001b[36m────────────────────────────────────────────────────────\u001b[39m\n",
      "\u001b[1mDelimiter:\u001b[22m \"\\t\"\n",
      "\u001b[31mchr\u001b[39m (3): molecularFormula, adduct, precursorFormula\n",
      "\u001b[32mdbl\u001b[39m (9): rank, SiriusScore, TreeScore, IsotopeScore, numExplainedPeaks, expl...\n",
      "\n",
      "\u001b[36mℹ\u001b[39m Use `spec()` to retrieve the full column specification for this data.\n",
      "\u001b[36mℹ\u001b[39m Specify the column types or set `show_col_types = FALSE` to quiet this message.\n",
      "Writing file processedSpectra.mzML...\n",
      "OK\n",
      "\n",
      "\u001b[1mRows: \u001b[22m\u001b[34m0\u001b[39m \u001b[1mColumns: \u001b[22m\u001b[34m13\u001b[39m\n",
      "\u001b[36m──\u001b[39m \u001b[1mColumn specification\u001b[22m \u001b[36m────────────────────────────────────────────────────────\u001b[39m\n",
      "\u001b[1mDelimiter:\u001b[22m \"\\t\"\n",
      "\u001b[31mchr\u001b[39m (13): rank, formulaRank, CSI:FingerIDScore, molecularFormula, adduct, In...\n",
      "\n",
      "\u001b[36mℹ\u001b[39m Use `spec()` to retrieve the full column specification for this data.\n",
      "\u001b[36mℹ\u001b[39m Specify the column types or set `show_col_types = FALSE` to quiet this message.\n",
      "\u001b[1mRows: \u001b[22m\u001b[34m9\u001b[39m \u001b[1mColumns: \u001b[22m\u001b[34m12\u001b[39m\n",
      "\u001b[36m──\u001b[39m \u001b[1mColumn specification\u001b[22m \u001b[36m────────────────────────────────────────────────────────\u001b[39m\n",
      "\u001b[1mDelimiter:\u001b[22m \"\\t\"\n",
      "\u001b[31mchr\u001b[39m (3): molecularFormula, adduct, precursorFormula\n",
      "\u001b[32mdbl\u001b[39m (9): rank, SiriusScore, TreeScore, IsotopeScore, numExplainedPeaks, expl...\n",
      "\n",
      "\u001b[36mℹ\u001b[39m Use `spec()` to retrieve the full column specification for this data.\n",
      "\u001b[36mℹ\u001b[39m Specify the column types or set `show_col_types = FALSE` to quiet this message.\n",
      "\u001b[1mRows: \u001b[22m\u001b[34m2811\u001b[39m \u001b[1mColumns: \u001b[22m\u001b[34m13\u001b[39m\n",
      "\u001b[36m──\u001b[39m \u001b[1mColumn specification\u001b[22m \u001b[36m────────────────────────────────────────────────────────\u001b[39m\n",
      "\u001b[1mDelimiter:\u001b[22m \"\\t\"\n",
      "\u001b[31mchr\u001b[39m (8): molecularFormula, adduct, InChIkey2D, InChI, name, smiles, pubchemi...\n",
      "\u001b[32mdbl\u001b[39m (5): rank, formulaRank, CSI:FingerIDScore, xlogp, dbflags\n",
      "\n",
      "\u001b[36mℹ\u001b[39m Use `spec()` to retrieve the full column specification for this data.\n",
      "\u001b[36mℹ\u001b[39m Specify the column types or set `show_col_types = FALSE` to quiet this message.\n",
      "\u001b[1mRows: \u001b[22m\u001b[34m9\u001b[39m \u001b[1mColumns: \u001b[22m\u001b[34m12\u001b[39m\n",
      "\u001b[36m──\u001b[39m \u001b[1mColumn specification\u001b[22m \u001b[36m────────────────────────────────────────────────────────\u001b[39m\n",
      "\u001b[1mDelimiter:\u001b[22m \"\\t\"\n",
      "\u001b[31mchr\u001b[39m (3): molecularFormula, adduct, precursorFormula\n",
      "\u001b[32mdbl\u001b[39m (9): rank, SiriusScore, TreeScore, IsotopeScore, numExplainedPeaks, expl...\n",
      "\n",
      "\u001b[36mℹ\u001b[39m Use `spec()` to retrieve the full column specification for this data.\n",
      "\u001b[36mℹ\u001b[39m Specify the column types or set `show_col_types = FALSE` to quiet this message.\n",
      "\u001b[1mRows: \u001b[22m\u001b[34m2\u001b[39m \u001b[1mColumns: \u001b[22m\u001b[34m13\u001b[39m\n",
      "\u001b[36m──\u001b[39m \u001b[1mColumn specification\u001b[22m \u001b[36m────────────────────────────────────────────────────────\u001b[39m\n",
      "\u001b[1mDelimiter:\u001b[22m \"\\t\"\n",
      "\u001b[31mchr\u001b[39m (8): molecularFormula, adduct, InChIkey2D, InChI, name, smiles, pubchemi...\n",
      "\u001b[32mdbl\u001b[39m (5): rank, formulaRank, CSI:FingerIDScore, xlogp, dbflags\n",
      "\n",
      "\u001b[36mℹ\u001b[39m Use `spec()` to retrieve the full column specification for this data.\n",
      "\u001b[36mℹ\u001b[39m Specify the column types or set `show_col_types = FALSE` to quiet this message.\n",
      "\u001b[1mRows: \u001b[22m\u001b[34m21\u001b[39m \u001b[1mColumns: \u001b[22m\u001b[34m12\u001b[39m\n",
      "\u001b[36m──\u001b[39m \u001b[1mColumn specification\u001b[22m \u001b[36m────────────────────────────────────────────────────────\u001b[39m\n",
      "\u001b[1mDelimiter:\u001b[22m \"\\t\"\n",
      "\u001b[31mchr\u001b[39m (3): molecularFormula, adduct, precursorFormula\n",
      "\u001b[32mdbl\u001b[39m (9): rank, SiriusScore, TreeScore, IsotopeScore, numExplainedPeaks, expl...\n",
      "\n",
      "\u001b[36mℹ\u001b[39m Use `spec()` to retrieve the full column specification for this data.\n",
      "\u001b[36mℹ\u001b[39m Specify the column types or set `show_col_types = FALSE` to quiet this message.\n"
     ]
    }
   ],
   "source": [
    "for (i in 1:nrow(input_table)){\n",
    "    \n",
    "    # Preprocess and Read the mzMLfiles\n",
    "    spec_pr <- spec_Processing(as.character(input_table[i, \"mzml_files\"]), input_table[i, \"ResultFileNames\"])\n",
    "    \n",
    "\n",
    "    #perform dereplication with all dbs\n",
    "    df_derep <- spec_dereplication(pre_tbl = paste(input_dir, str_remove(paste(input_table[i, \"ResultFileNames\"], \"/premz_list.txt\", sep = \"\"), \"./\"), sep =\"\"), \n",
    "                                   proc_mzml = paste(input_dir, str_remove(paste(input_table[i, \"ResultFileNames\"], \"/processedSpectra.mzML\", sep = \"\"), \"./\"), sep =\"\"),\n",
    "                                   db = \"all\", \n",
    "                                   result_dir = input_table[i, \"ResultFileNames\"],\n",
    "                                   file_id = input_table[i, \"File_id\"], \n",
    "                                   input_dir, \n",
    "                                   ppmx = 15)\n",
    "\n",
    "    \n",
    "    # Extract MS2 peak lists\n",
    "    spec_pr2 <- ms2_peaks(pre_tbl = paste(input_dir, str_remove(paste(input_table[i, \"ResultFileNames\"], \"/premz_list.txt\", sep = \"\"), \"./\"), sep =\"\"), \n",
    "                          proc_mzml = paste(input_dir, str_remove(paste(input_table[i, \"ResultFileNames\"], \"/processedSpectra.mzML\", sep = \"\"), \"./\"), sep =\"\"),\n",
    "                          input_dir,\n",
    "                          input_table[i, \"ResultFileNames\"],\n",
    "                         file_id = input_table[i, \"File_id\"])\n",
    "    \n",
    "    # Extract MS1 peaks or isotopic peaks\n",
    "    ms1p <- ms1_peaks(x = paste(input_dir, str_remove(paste(input_table[i, \"ResultFileNames\"],'/insilico/MS2DATA.csv', sep = \"\"), \"./\"), sep =\"\"), \n",
    "                      y = input_table[i, \"qcCAM_csv\"], \n",
    "                      input_table[i, \"ResultFileNames\"], \n",
    "                      input_dir, \n",
    "                      QC = FALSE)\n",
    "    \n",
    "    #prepare sirius parameter files\n",
    "    sirius_param_files <- sirius_param(x = paste(input_dir, str_remove(paste(input_table[i, \"ResultFileNames\"],'/insilico/MS1DATA.csv', sep = \"\"), \"./\"), sep =\"\"), \n",
    "                                       result_dir = input_table[i, 'ResultFileNames'], \n",
    "                                       input_dir,\n",
    "                                       SL = TRUE)\n",
    "    \n",
    "\n",
    "    # Run sirius\n",
    "    run_sirius(files = paste(input_dir, str_remove(paste(input_table[i, \"ResultFileNames\"],'/insilico/MS1DATA_SiriusPandSL.csv', sep = \"\"), \"./\"), sep =\"\"), \n",
    "               ppm_max = 5, \n",
    "               ppm_max_ms2 = 15, \n",
    "               QC = FALSE, \n",
    "               SL = TRUE, \n",
    "               SL_path = paste(input_dir, 'SL_Frag/', sep = \"\"),\n",
    "               candidates = 30)\n",
    "    \n",
    "\n",
    "    # Post process Sirius results and extract adducts for MetFrag\n",
    "    sirius_pproc <- sirius_postprocess(input_table[i, \"ResultFileNames\"], SL = TRUE)\n",
    "    \n",
    "    # prepare Metfrag parameter files\n",
    "    met_param <- metfrag_param(x = paste(input_dir, str_remove(paste(input_table[i, \"ResultFileNames\"], \"/insilico/MS1DATAsirius.csv\", sep = \"\"), \"./\"), sep =\"\"), \n",
    "                               result_dir = input_table[i, \"ResultFileNames\"],\n",
    "                               input_dir,\n",
    "                               adducts = paste(input_dir, \"MetFrag_AdductTypes.csv\", sep = \"\"), \n",
    "                               sl_mtfrag = paste(input_dir, \"SL_metfrag.txt\", sep = \"\"), \n",
    "                               SL = TRUE,\n",
    "                               ppm_max = 5, \n",
    "                               ppm_max_ms2= 15)\n",
    "    \n",
    "    \n",
    "    \n",
    "    # run metfrag\n",
    "    run_metfrag(met_param = paste(input_dir, str_remove(paste(input_table[i, \"ResultFileNames\"], \"/insilico/metparam_list.txt\", sep = \"\"), \"./\"), sep =\"\"),\n",
    "               MetFragjarFile = paste(input_dir, \"MetFragCommandLine-2.4.8.jar\", sep =\"\"))\n",
    "\n",
    "    \n",
    "}"
   ]
  },
  {
   "cell_type": "code",
   "execution_count": null,
   "id": "5c875086",
   "metadata": {},
   "outputs": [],
   "source": []
  },
  {
   "cell_type": "code",
   "execution_count": null,
   "id": "5102c880",
   "metadata": {},
   "outputs": [],
   "source": []
  },
  {
   "cell_type": "code",
   "execution_count": null,
   "id": "1971d81e",
   "metadata": {},
   "outputs": [],
   "source": [
    "end_time <- Sys.time()\n",
    "print(end_time - start_time)"
   ]
  },
  {
   "cell_type": "code",
   "execution_count": null,
   "id": "beb4e1c6",
   "metadata": {},
   "outputs": [],
   "source": [
    "save.image(file = paste(input, \"STANDARDSresultsR.Rdata\", sep =\"\")"
   ]
  },
  {
   "cell_type": "code",
   "execution_count": null,
   "id": "a4dcb8b3",
   "metadata": {},
   "outputs": [],
   "source": []
  }
 ],
 "metadata": {
  "kernelspec": {
   "display_name": "R",
   "language": "R",
   "name": "ir"
  },
  "language_info": {
   "codemirror_mode": "r",
   "file_extension": ".r",
   "mimetype": "text/x-r-source",
   "name": "R",
   "pygments_lexer": "r",
   "version": "4.1.1"
  }
 },
 "nbformat": 4,
 "nbformat_minor": 5
}
