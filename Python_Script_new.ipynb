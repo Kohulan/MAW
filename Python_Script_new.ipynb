{
 "cells": [
  {
   "cell_type": "code",
   "execution_count": 1,
   "id": "b155b8c9",
   "metadata": {},
   "outputs": [
    {
     "name": "stderr",
     "output_type": "stream",
     "text": [
      "INFO:rdkit:Enabling RDKit 2021.09.4 jupyter extensions\n"
     ]
    }
   ],
   "source": [
    "# import the function file\n",
    "from Workflow_Python_Functions import *"
   ]
  },
  {
   "cell_type": "code",
   "execution_count": 2,
   "id": "d8b9e6cc",
   "metadata": {},
   "outputs": [
    {
     "data": {
      "text/plain": [
       "'/Users/mahnoorzulfiqar/OneDriveUNI/MAW-data/MTBLS709_Data_32'"
      ]
     },
     "execution_count": 2,
     "metadata": {},
     "output_type": "execute_result"
    }
   ],
   "source": [
    "#Define input directory, keep all files in same directory and scripts so getwd works\n",
    "input_dir = \"/Users/mahnoorzulfiqar/OneDriveUNI/MAW-data/MTBLS709_Data_32\"\n",
    "input_dir"
   ]
  },
  {
   "cell_type": "code",
   "execution_count": 3,
   "id": "dac7ba11",
   "metadata": {},
   "outputs": [
    {
     "ename": "IndexError",
     "evalue": "list index out of range",
     "output_type": "error",
     "traceback": [
      "\u001b[0;31m---------------------------------------------------------------------------\u001b[0m",
      "\u001b[0;31mIndexError\u001b[0m                                Traceback (most recent call last)",
      "Input \u001b[0;32mIn [3]\u001b[0m, in \u001b[0;36m<module>\u001b[0;34m\u001b[0m\n\u001b[0;32m----> 1\u001b[0m sp \u001b[38;5;241m=\u001b[39m \u001b[43msirius_postproc\u001b[49m\u001b[43m(\u001b[49m\u001b[43minput_dir\u001b[49m\u001b[43m,\u001b[49m\u001b[43m \u001b[49m\u001b[43mexp_int\u001b[49m\u001b[43m \u001b[49m\u001b[38;5;241;43m=\u001b[39;49m\u001b[43m \u001b[49m\u001b[38;5;241;43m0.90\u001b[39;49m\u001b[43m,\u001b[49m\u001b[43m \u001b[49m\u001b[43mcsi_score\u001b[49m\u001b[43m \u001b[49m\u001b[38;5;241;43m=\u001b[39;49m\u001b[43m \u001b[49m\u001b[38;5;241;43m-\u001b[39;49m\u001b[38;5;241;43m150\u001b[39;49m\u001b[43m)\u001b[49m\n",
      "File \u001b[0;32m~/OneDriveUNI/MAW/Workflow_Python_Functions.py:697\u001b[0m, in \u001b[0;36msirius_postproc\u001b[0;34m(input_dir, exp_int, csi_score)\u001b[0m\n\u001b[1;32m    694\u001b[0m \u001b[38;5;28;01melif\u001b[39;00m \u001b[38;5;28mlen\u001b[39m(files_for_mz) \u001b[38;5;241m==\u001b[39m \u001b[38;5;241m1\u001b[39m:\n\u001b[1;32m    695\u001b[0m     \u001b[38;5;66;03m# extract the formula and structure files\u001b[39;00m\n\u001b[1;32m    696\u001b[0m     json_dirALL \u001b[38;5;241m=\u001b[39m \u001b[38;5;28mnext\u001b[39m(os\u001b[38;5;241m.\u001b[39mwalk(files_for_mz[\u001b[38;5;241m0\u001b[39m]))[\u001b[38;5;241m1\u001b[39m]\n\u001b[0;32m--> 697\u001b[0m     sub_sub_dirALL_structure_can \u001b[38;5;241m=\u001b[39m files_for_mz[\u001b[38;5;241m0\u001b[39m] \u001b[38;5;241m+\u001b[39m \u001b[38;5;124m\"\u001b[39m\u001b[38;5;124m/\u001b[39m\u001b[38;5;124m\"\u001b[39m \u001b[38;5;241m+\u001b[39m \u001b[43mjson_dirALL\u001b[49m\u001b[43m[\u001b[49m\u001b[38;5;241;43m0\u001b[39;49m\u001b[43m]\u001b[49m  \u001b[38;5;241m+\u001b[39m \u001b[38;5;124m\"\u001b[39m\u001b[38;5;124m/structure_candidates.tsv\u001b[39m\u001b[38;5;124m\"\u001b[39m                   \n\u001b[1;32m    698\u001b[0m     sub_sub_dirALL_formula_can \u001b[38;5;241m=\u001b[39m files_for_mz[\u001b[38;5;241m0\u001b[39m] \u001b[38;5;241m+\u001b[39m \u001b[38;5;124m\"\u001b[39m\u001b[38;5;124m/\u001b[39m\u001b[38;5;124m\"\u001b[39m \u001b[38;5;241m+\u001b[39m json_dirALL[\u001b[38;5;241m0\u001b[39m]  \u001b[38;5;241m+\u001b[39m \u001b[38;5;124m\"\u001b[39m\u001b[38;5;124m/formula_candidates.tsv\u001b[39m\u001b[38;5;124m\"\u001b[39m \n\u001b[1;32m    699\u001b[0m     ALL_Canopus_csv \u001b[38;5;241m=\u001b[39m files_for_mz[\u001b[38;5;241m1\u001b[39m] \u001b[38;5;241m+\u001b[39m \u001b[38;5;124m\"\u001b[39m\u001b[38;5;124m/canopus_summary.tsv\u001b[39m\u001b[38;5;124m\"\u001b[39m\n",
      "\u001b[0;31mIndexError\u001b[0m: list index out of range"
     ]
    }
   ],
   "source": [
    "sp = sirius_postproc(input_dir, exp_int = 0.90, csi_score = -150)"
   ]
  },
  {
   "cell_type": "code",
   "execution_count": 4,
   "id": "5c5a5afd",
   "metadata": {},
   "outputs": [
    {
     "name": "stdout",
     "output_type": "stream",
     "text": [
      "pos_09_summer_Plaund_9_1-B,1_01_17180\n",
      "pos_25_autumn_Marpol_25_2-A,6_01_17235\n",
      "pos_26_summer_Marpol_26_1-D,2_01_17201\n",
      "pos_03_spring_Fistax_3_1-A,3_01_17277\n",
      "pos_08_spring_Polstr_8_1-A,8_01_17284\n",
      "pos_05_summer_Polstr_5_1-A,5_01_17174\n",
      "pos_02_spring_Fistax_2_1-A,2_01_17276\n",
      "pos_27_summer_Marpol_27_1-D,3_01_17202\n",
      "pos_12_spring_Plaund_12_1-B,4_01_17288\n",
      "pos_08_autumn_Polstr_8_1-E,3_01_17214\n",
      "pos_27_autumn_Marpol_27_2-A,8_01_17237\n",
      "pos_02_summer_Fistax_2_1-A,2_01_17171\n",
      "pos_27_spring_Marpol_27_1-D,3_01_17306\n",
      "pos_25_summer_Marpol_25_1-D,1_01_17200\n",
      "pos_13_autumn_Plaund_13_1-E,8_01_17219\n",
      "pos_01_summer_Fistax_1_1-A,1_01_17170\n",
      "pos_06_spring_Polstr_6_1-A,6_01_17280\n",
      "pos_02_winter_Fistax_2_2-B,2_01_17241\n"
     ]
    }
   ],
   "source": [
    "# entry is all files and folders in input_dir\n",
    "entries = []\n",
    "for entry in os.listdir(input_dir):\n",
    "    if os.path.isdir(os.path.join(input_dir, entry)):\n",
    "        print(entry)\n",
    "        entries.append(entry)"
   ]
  },
  {
   "cell_type": "code",
   "execution_count": 5,
   "id": "5b8f08c8",
   "metadata": {},
   "outputs": [
    {
     "data": {
      "text/plain": [
       "'pos_01_summer_Fistax_1_1-A,1_01_17170'"
      ]
     },
     "execution_count": 5,
     "metadata": {},
     "output_type": "execute_result"
    }
   ],
   "source": [
    "entry = entries[15]\n",
    "entry"
   ]
  },
  {
   "cell_type": "code",
   "execution_count": 6,
   "id": "94e085c1",
   "metadata": {},
   "outputs": [],
   "source": [
    "sub_dir = input_dir + \"/\" + entry + '/insilico/SIRIUS/'\n",
    "msp_csv = input_dir + \"/\" + entry + \"/insilico/MS1DATA.csv\""
   ]
  },
  {
   "cell_type": "code",
   "execution_count": 9,
   "id": "3aa0c7c1",
   "metadata": {},
   "outputs": [],
   "source": [
    "if os.path.exists(msp_csv) and os.path.exists(sub_dir):\n",
    "    #output json files from SIRIUS\n",
    "    files_S = (glob.glob(sub_dir+'/*.json'))\n",
    "    #list of precursor m/z\n",
    "    msp = pd.read_csv(msp_csv)\n",
    "\n",
    "    # for each mz\n",
    "    for mz, row in msp.iterrows():\n",
    "        # make a list of files with this mz\n",
    "        files_for_mz = []\n",
    "\n",
    "        for file in files_S:\n",
    "            if str(msp[\"premz\"][mz]) in file:\n",
    "                files_for_mz.append(file)\n",
    "\n",
    "        # in case if SL and ALL are given\n",
    "        if len(files_for_mz)==2:\n",
    "\n",
    "            # if the SL file is before the ALL file\n",
    "            if len(files_for_mz[0])>len(files_for_mz[1]):\n",
    "\n",
    "                # extract the formula and structure files\n",
    "                json_dirSL = next(os.walk(files_for_mz[0]))[1]\n",
    "                sub_sub_dirSL_structure_can = files_for_mz[0] + \"/\" + json_dirSL[0]  + \"/structure_candidates.tsv\"                   \n",
    "                sub_sub_dirSL_formula_can = files_for_mz[0] + \"/\" + json_dirSL[0]  + \"/formula_candidates.tsv\" \n",
    "                SL_Canopus_csv = files_for_mz[0] + \"/canopus_summary.tsv\"\n",
    "\n",
    "\n",
    "                # extract the formula and structure files\n",
    "                json_dirALL = next(os.walk(files_for_mz[1]))[1]\n",
    "                sub_sub_dirALL_structure_can = files_for_mz[1] + \"/\" + json_dirALL[0] +\"/structure_candidates.tsv\"\n",
    "                sub_sub_dirALL_formula_can = files_for_mz[1] + \"/\" + json_dirALL[0] +\"/formula_candidates.tsv\"\n",
    "                ALL_Canopus_csv = files_for_mz[1] + \"/canopus_summary.tsv\"\n",
    "\n",
    "\n",
    "            # if the ALL file is before the SL file\n",
    "            elif len(files_for_mz[1]) >len(files_for_mz[0]):\n",
    "\n",
    "\n",
    "                # extract the formula and structure files\n",
    "                json_dirALL = next(os.walk(files_for_mz[0]))[1]\n",
    "                sub_sub_dirALL_structure_can = files_for_mz[0] + \"/\" + json_dirALL[0]  + \"/structure_candidates.tsv\"                   \n",
    "                sub_sub_dirALL_formula_can = files_for_mz[0] + \"/\" + json_dirALL[0]  + \"/formula_candidates.tsv\"\n",
    "                ALL_Canopus_csv = files_for_mz[0] + \"/canopus_summary.tsv\"\n",
    "\n",
    "\n",
    "                # extract the formula and structure files\n",
    "                json_dirSL = next(os.walk(files_for_mz[1]))[1]\n",
    "                sub_sub_dirSL_structure_can = files_for_mz[1] + \"/\" + json_dirSL[0] +\"/structure_candidates.tsv\"\n",
    "                sub_sub_dirSL_formula_can = files_for_mz[1] + \"/\" + json_dirALL[0]  + \"/formula_candidates.tsv\"\n",
    "                SL_Canopus_csv = files_for_mz[1] + \"/canopus_summary.tsv\"\n",
    "\n",
    "            # if both structure files exist and they have more than 0 rows\n",
    "            if os.path.exists(sub_sub_dirSL_structure_can) and len(pd.read_csv(sub_sub_dirSL_structure_can, sep = \"\\t\"))>0 and os.path.exists(sub_sub_dirALL_structure_can) and len(pd.read_csv(sub_sub_dirALL_structure_can, sep = \"\\t\")):\n",
    "\n",
    "                # read strcuture and formula tsv files for both SL and ALL\n",
    "                SL_structure_csv = pd.read_csv(sub_sub_dirSL_structure_can, sep = \"\\t\")\n",
    "                SL_formula_csv = pd.read_csv(sub_sub_dirSL_formula_can, sep = \"\\t\")\n",
    "                SL_Canopus = pd.read_csv(SL_Canopus_csv, sep = \"\\t\")\n",
    "\n",
    "\n",
    "                ALL_structure_csv = pd.read_csv(sub_sub_dirALL_structure_can, sep = \"\\t\")\n",
    "                ALL_formula_csv = pd.read_csv(sub_sub_dirALL_formula_can, sep = \"\\t\")\n",
    "                ALL_Canopus = pd.read_csv(ALL_Canopus_csv, sep = \"\\t\")\n",
    "\n",
    "                # Add the structure and formula files together\n",
    "                for structure, rows in ALL_structure_csv.iterrows():\n",
    "                    for formula, rows in ALL_formula_csv.iterrows():\n",
    "                        if ALL_structure_csv[\"formulaRank\"][structure] == ALL_formula_csv[\"rank\"][formula]:\n",
    "                            ALL_structure_csv.loc[structure, 'SiriusScore'] = ALL_formula_csv['SiriusScore'][formula]\n",
    "                            ALL_structure_csv.loc[structure, 'numExplainedPeaks'] = ALL_formula_csv['numExplainedPeaks'][formula]\n",
    "                            ALL_structure_csv.loc[structure, 'explainedIntensity'] = ALL_formula_csv['explainedIntensity'][formula]\n",
    "                            ALL_structure_csv.loc[structure, \"SuspectListEntry\"] = \"FALSE\"\n",
    "                            if ALL_formula_csv[\"molecularFormula\"][formula] == ALL_Canopus[\"molecularFormula\"][0]:\n",
    "                                ALL_structure_csv.loc[structure, 'superclass'] = ALL_Canopus['superclass'][0]\n",
    "                                ALL_structure_csv.loc[structure, 'class'] = ALL_Canopus['class'][0]\n",
    "                                ALL_structure_csv.loc[structure, 'subclass'] = ALL_Canopus['subclass'][0]\n",
    "\n",
    "                # Add the structure and formula files together\n",
    "                for structure_sl, rows in SL_structure_csv.iterrows():\n",
    "                    for formula_sl, rows in SL_formula_csv.iterrows():\n",
    "                        if SL_structure_csv[\"formulaRank\"][structure_sl] == SL_formula_csv[\"rank\"][formula_sl]:\n",
    "                            SL_structure_csv.loc[structure_sl, 'SiriusScore'] = SL_formula_csv['SiriusScore'][formula_sl]\n",
    "                            SL_structure_csv.loc[structure_sl, 'numExplainedPeaks'] = SL_formula_csv['numExplainedPeaks'][formula_sl]\n",
    "                            SL_structure_csv.loc[structure_sl, 'explainedIntensity'] = SL_formula_csv['explainedIntensity'][formula_sl]\n",
    "                            SL_structure_csv.loc[structure_sl, \"SuspectListEntry\"] = \"TRUE\"   \n",
    "                            if SL_formula_csv[\"molecularFormula\"][formula_sl] == SL_Canopus[\"molecularFormula\"][0]:\n",
    "                                SL_structure_csv.loc[structure_sl, 'superclass'] = SL_Canopus['superclass'][0]\n",
    "                                SL_structure_csv.loc[structure_sl, 'class'] = SL_Canopus['class'][0]\n",
    "                                SL_structure_csv.loc[structure_sl, 'subclass'] = SL_Canopus['subclass'][0] \n",
    "\n",
    "\n",
    "                # after formula and structure have been merged, merge SL and ALL results\n",
    "                all_sl_db = pd.concat([ALL_structure_csv, SL_structure_csv], ignore_index=True)\n",
    "                for str_sirius, row in all_sl_db.iterrows():\n",
    "                    if not str_can_score(all_sl_db, str_sirius):\n",
    "                        all_sl_db = all_sl_db.drop(str_sirius, inplace=False)\n",
    "\n",
    "                if not os.path.exists(sub_dir+\"results_for_\"+json_dirALL[0].split(\"_\")[-1]):\n",
    "                    os.mkdir(sub_dir+\"results_for_\"+json_dirALL[0].split(\"_\")[-1])\n",
    "\n",
    "                result_sirius_name = (sub_dir+\"results_for_\"+json_dirALL[0].split(\"_\")[-1]+\"_\"+\"structure_\"+json_dirALL[0].split(\"_\")[-1] + \".csv\")\n",
    "                msp.loc[mz, \"sirius_result_dir\"] = result_sirius_name.replace(input_dir, \".\")\n",
    "                all_sl_db.to_csv(sub_dir+\"results_for_\"+json_dirALL[0].split(\"_\")[-1]+\"_\"+\"structure_\"+json_dirALL[0].split(\"_\")[-1] + \".csv\")\n",
    "\n",
    "            # if only ALL structure file exists and they have more than 0 rows\n",
    "            elif not (os.path.exists(sub_sub_dirSL_structure_can) and len(pd.read_csv(sub_sub_dirSL_structure_can, sep = \"\\t\"))>0) and os.path.exists(sub_sub_dirALL_structure_can) and len(pd.read_csv(sub_sub_dirALL_structure_can, sep = \"\\t\")):\n",
    "                ALL_structure_csv = pd.read_csv(sub_sub_dirALL_structure_can, sep = \"\\t\")\n",
    "                ALL_formula_csv = pd.read_csv(sub_sub_dirALL_formula_can, sep = \"\\t\")\n",
    "                ALL_Canopus = pd.read_csv(ALL_Canopus_csv, sep = \"\\t\")\n",
    "\n",
    "                # Add the structure and formula files together\n",
    "                for structure, rows in ALL_structure_csv.iterrows():\n",
    "                    for formula, rows in ALL_formula_csv.iterrows():\n",
    "                        if ALL_structure_csv[\"formulaRank\"][structure] == ALL_formula_csv[\"rank\"][formula]:\n",
    "                            ALL_structure_csv.loc[structure, 'SiriusScore'] = ALL_formula_csv['SiriusScore'][formula]\n",
    "                            ALL_structure_csv.loc[structure, 'numExplainedPeaks'] = ALL_formula_csv['numExplainedPeaks'][formula]\n",
    "                            ALL_structure_csv.loc[structure, 'explainedIntensity'] = ALL_formula_csv['explainedIntensity'][formula]\n",
    "                            ALL_structure_csv.loc[structure, \"SuspectListEntry\"] = \"FALSE\"\n",
    "                            if ALL_formula_csv[\"molecularFormula\"][formula] == ALL_Canopus[\"molecularFormula\"][0]:\n",
    "                                ALL_structure_csv.loc[structure, 'superclass'] = ALL_Canopus['superclass'][0]\n",
    "                                ALL_structure_csv.loc[structure, 'class'] = ALL_Canopus['class'][0]\n",
    "                                ALL_structure_csv.loc[structure, 'subclass'] = ALL_Canopus['subclass'][0]\n",
    "\n",
    "                for str_siriusA, row in ALL_structure_csv.iterrows():\n",
    "                    if not str_can_score(ALL_structure_csv, str_siriusA):\n",
    "                        ALL_structure_csv = ALL_structure_csv.drop(str_siriusA, inplace=False)\n",
    "\n",
    "\n",
    "                if not os.path.exists(sub_dir+\"results_for_\"+json_dirALL[0].split(\"_\")[-1]):\n",
    "                    os.mkdir(sub_dir+\"results_for_\"+json_dirALL[0].split(\"_\")[-1])\n",
    "\n",
    "                result_sirius_name = (sub_dir+\"results_for_\"+json_dirALL[0].split(\"_\")[-1]+\"_\"+\"structure_\"+json_dirALL[0].split(\"_\")[-1] + \".csv\")\n",
    "                msp.loc[mz, \"sirius_result_dir\"] = result_sirius_name.replace(input_dir, \".\")\n",
    "                ALL_structure_csv.to_csv(sub_dir+\"results_for_\"+json_dirALL[0].split(\"_\")[-1]+\"_\"+\"structure_\"+json_dirALL[0].split(\"_\")[-1] + \".csv\")\n",
    "\n",
    "            elif not(os.path.exists(sub_sub_dirSL_structure_can) and len(pd.read_csv(sub_sub_dirSL_structure_can, sep = \"\\t\"))>0 and os.path.exists(sub_sub_dirALL_structure_can) and len(pd.read_csv(sub_sub_dirALL_structure_can, sep = \"\\t\"))):\n",
    "                if os.path.exists(sub_sub_dirALL_formula_can) and pd.read_csv(sub_sub_dirALL_formula_can, sep = \"\\t\"):\n",
    "                    ALL_formula_csv = pd.read_csv(sub_sub_dirALL_formula_can, sep = \"\\t\")\n",
    "                    ALL_Canopus = pd.read_csv(ALL_Canopus_csv, sep = \"\\t\")\n",
    "                    for formula, rows in ALL_formula_csv.iterrows():\n",
    "                        ALL_formula_csv.loc[formula, 'superclass'] = ALL_Canopus['superclass'][0]\n",
    "                        ALL_formula_csv.loc[formula, 'class'] = ALL_Canopus['class'][0]\n",
    "                        ALL_formula_csv.loc[formula, 'subclass'] = ALL_Canopus['subclass'][0]\n",
    "\n",
    "                    for for_siriusA, row in ALL_formula_csv.iterrows():\n",
    "                        if not ALL_formula_csv['explainedIntensity'][for_siriusA] >= exp_int:\n",
    "                            ALL_formula_csv = ALL_formula_csv.drop(for_siriusA, inplace=False)\n",
    "                    if not os.path.exists(sub_dir+\"results_for_\"+json_dirALL[0].split(\"_\")[-1]):\n",
    "                        os.mkdir(sub_dir+\"results_for_\"+json_dirALL[0].split(\"_\")[-1])\n",
    "\n",
    "                    result_sirius_name = (sub_dir+\"results_for_\"+json_dirALL[0].split(\"_\")[-1]+\"_\"+\"formula_\"+json_dirALL[0].split(\"_\")[-1] + \".csv\")\n",
    "                    msp.loc[mz, \"sirius_result_dir\"] = result_sirius_name.replace(input_dir, \".\")\n",
    "\n",
    "                    ALL_formula_csv.to_csv(sub_dir+\"results_for_\"+json_dirALL[0].split(\"_\")[-1]+\"_\"+\"formula_\"+json_dirALL[0].split(\"_\")[-1] + \".csv\")\n",
    "\n",
    "                else:\n",
    "                    pass\n",
    "            else:\n",
    "                pass\n",
    "\n",
    "        elif len(files_for_mz) == 1:\n",
    "            # extract the formula and structure files\n",
    "            json_dirALL = next(os.walk(files_for_mz[0]))[1]\n",
    "            \n",
    "            if len(json_dirALL)>0:\n",
    "            \n",
    "                sub_sub_dirALL_structure_can = files_for_mz[0] + \"/\" + json_dirALL[0]  + \"/structure_candidates.tsv\"                   \n",
    "                sub_sub_dirALL_formula_can = files_for_mz[0] + \"/\" + json_dirALL[0]  + \"/formula_candidates.tsv\" \n",
    "                ALL_Canopus_csv = files_for_mz[1] + \"/canopus_summary.tsv\"\n",
    "\n",
    "                # if both structure files exist\n",
    "                if os.path.exists(sub_sub_dirALL_structure_can) and len(pd.read_csv(sub_sub_dirALL_structure_can, sep = \"\\t\"))>0:\n",
    "                    ALL_structure_csv = pd.read_csv(sub_sub_dirALL_structure_can, sep = \"\\t\")\n",
    "                    ALL_formula_csv = pd.read_csv(sub_sub_dirALL_formula_can, sep = \"\\t\")\n",
    "                    ALL_Canopus = pd.read_csv(ALL_Canopus_csv, sep = \"\\t\")\n",
    "                    # Add the structure and formula files together\n",
    "                    for structure, rows in ALL_structure_csv.iterrows():\n",
    "                        for formula, rows in ALL_formula_csv.iterrows():\n",
    "                            if ALL_structure_csv[\"formulaRank\"][structure] == ALL_formula_csv[\"rank\"][formula]:\n",
    "                                ALL_structure_csv.loc[structure, 'SiriusScore'] = ALL_formula_csv['SiriusScore'][formula]\n",
    "                                ALL_structure_csv.loc[structure, 'numExplainedPeaks'] = ALL_formula_csv['numExplainedPeaks'][formula]\n",
    "                                ALL_structure_csv.loc[structure, 'explainedIntensity'] = ALL_formula_csv['explainedIntensity'][formula]\n",
    "                                ALL_structure_csv.loc[structure, \"SuspectListEntry\"] = \"FALSE\"\n",
    "\n",
    "                                if ALL_formula_csv[\"molecularFormula\"][formula] == ALL_Canopus[\"molecularFormula\"][0]:\n",
    "                                    ALL_structure_csv.loc[structure, 'superclass'] = ALL_Canopus['superclass'][0]\n",
    "                                    ALL_structure_csv.loc[structure, 'class'] = ALL_Canopus['class'][0]\n",
    "                                    ALL_structure_csv.loc[structure, 'subclass'] = ALL_Canopus['subclass'][0]\n",
    "\n",
    "                    for str_siriusA, row in ALL_structure_csv.iterrows():\n",
    "                        if not str_can_score(ALL_structure_csv, str_siriusA):\n",
    "                            ALL_structure_csv = ALL_structure_csv.drop(str_siriusA, inplace=False)\n",
    "                    if not os.path.exists(sub_dir+\"results_for_\"+json_dirALL[0].split(\"_\")[-1]):\n",
    "                        os.mkdir(sub_dir+\"results_for_\"+json_dirALL[0].split(\"_\")[-1])\n",
    "\n",
    "                    result_sirius_name = (sub_dir+\"results_for_\"+json_dirALL[0].split(\"_\")[-1]+\"_\"+\"structure_\"+json_dirALL[0].split(\"_\")[-1] + \".csv\")\n",
    "                    msp.loc[mz, \"sirius_result_dir\"] = result_sirius_name.replace(input_dir, \".\")\n",
    "\n",
    "                    ALL_structure_csv.to_csv(sub_dir+\"results_for_\"+json_dirALL[0].split(\"_\")[-1]+\"_\"+\"structure_\"+json_dirALL[0].split(\"_\")[-1] + \".csv\")\n",
    "\n",
    "\n",
    "                elif not (os.path.exists(sub_sub_dirALL_structure_can) and len(pd.read_csv(sub_sub_dirALL_structure_can, sep = \"\\t\"))):\n",
    "                    if os.path.exists(sub_sub_dirALL_formula_can) and pd.read_csv(sub_sub_dirALL_formula_can, sep = \"\\t\"):\n",
    "                        ALL_formula_csv = pd.read_csv(sub_sub_dirALL_formula_can, sep = \"\\t\")\n",
    "                        ALL_Canopus = pd.read_csv(ALL_Canopus_csv, sep = \"\\t\")\n",
    "                        for formula, rows in ALL_formula_csv.iterrows():\n",
    "                            ALL_formula_csv.loc[formula, 'superclass'] = ALL_Canopus['superclass'][0]\n",
    "                            ALL_formula_csv.loc[formula, 'class'] = ALL_Canopus['class'][0]\n",
    "                            ALL_formula_csv.loc[formula, 'subclass'] = ALL_Canopus['subclass'][0]\n",
    "\n",
    "                        for for_siriusA, row in ALL_formula_csv.iterrows():\n",
    "                            if not ALL_formula_csv['explainedIntensity'][for_siriusA] >= exp_int:\n",
    "                                ALL_formula_csv = ALL_formula_csv.drop(for_siriusA, inplace=False)\n",
    "                        if not os.path.exists(sub_dir+\"results_for_\"+json_dirALL[0].split(\"_\")[-1]):\n",
    "                            os.mkdir(sub_dir+\"results_for_\"+json_dirALL[0].split(\"_\")[-1])\n",
    "\n",
    "                        result_sirius_name = (sub_dir+\"results_for_\"+json_dirALL[0].split(\"_\")[-1]+\"_\"+\"formula_\"+json_dirALL[0].split(\"_\")[-1] + \".csv\")\n",
    "                        msp.loc[mz, \"sirius_result_dir\"] = result_sirius_name.replace(input_dir, \".\")\n",
    "\n",
    "                        ALL_formula_csv.to_csv(sub_dir+\"results_for_\"+json_dirALL[0].split(\"_\")[-1]+\"_\"+\"formula_\"+json_dirALL[0].split(\"_\")[-1] + \".csv\")\n",
    "\n",
    "                    else:\n",
    "                        pass\n",
    "                else:\n",
    "                    pass\n",
    "        msp.to_csv(msp_csv)\n"
   ]
  },
  {
   "cell_type": "code",
   "execution_count": 8,
   "id": "f725466e",
   "metadata": {},
   "outputs": [
    {
     "data": {
      "text/plain": [
       "[]"
      ]
     },
     "execution_count": 8,
     "metadata": {},
     "output_type": "execute_result"
    }
   ],
   "source": [
    "json_dirALL"
   ]
  },
  {
   "cell_type": "code",
   "execution_count": null,
   "id": "a3fa4159",
   "metadata": {},
   "outputs": [],
   "source": []
  }
 ],
 "metadata": {
  "kernelspec": {
   "display_name": "Python (mawRpy)",
   "language": "python",
   "name": "mawrpy"
  },
  "language_info": {
   "codemirror_mode": {
    "name": "ipython",
    "version": 3
   },
   "file_extension": ".py",
   "mimetype": "text/x-python",
   "name": "python",
   "nbconvert_exporter": "python",
   "pygments_lexer": "ipython3",
   "version": "3.10.2"
  }
 },
 "nbformat": 4,
 "nbformat_minor": 5
}
