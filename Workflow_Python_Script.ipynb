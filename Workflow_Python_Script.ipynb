{
 "cells": [
  {
   "cell_type": "markdown",
   "id": "b3d6b5de",
   "metadata": {},
   "source": [
    "## Load Python function script"
   ]
  },
  {
   "cell_type": "code",
   "execution_count": 1,
   "id": "bb141606",
   "metadata": {},
   "outputs": [
    {
     "name": "stderr",
     "output_type": "stream",
     "text": [
      "INFO:rdkit:Enabling RDKit 2021.09.4 jupyter extensions\n"
     ]
    }
   ],
   "source": [
    "# import the function file\n",
    "from Workflow_Python_Functions import *"
   ]
  },
  {
   "cell_type": "markdown",
   "id": "d24712eb",
   "metadata": {},
   "source": [
    "## Define input directory"
   ]
  },
  {
   "cell_type": "code",
   "execution_count": 2,
   "id": "6baaf7aa",
   "metadata": {},
   "outputs": [
    {
     "data": {
      "text/plain": [
       "'/Users/mahnoorzulfiqar/OneDriveUNI/MAW-data/StandardSMarinoi_Data'"
      ]
     },
     "execution_count": 2,
     "metadata": {},
     "output_type": "execute_result"
    }
   ],
   "source": [
    "#Define input directory, keep all files in same directory and scripts so getwd works\n",
    "input_dir = \"/Users/mahnoorzulfiqar/OneDriveUNI/MAW-data/StandardSMarinoi_Data\"\n",
    "input_dir"
   ]
  },
  {
   "cell_type": "code",
   "execution_count": 3,
   "id": "619207b1",
   "metadata": {},
   "outputs": [],
   "source": [
    "#sirius_postproc(input_dir, exp_int = 0.90, csi_score = -150)"
   ]
  },
  {
   "cell_type": "code",
   "execution_count": 4,
   "id": "fe828315",
   "metadata": {},
   "outputs": [],
   "source": [
    "#spec_postproc(input_dir, Source = \"all\")"
   ]
  },
  {
   "cell_type": "code",
   "execution_count": 5,
   "id": "f9599b2e",
   "metadata": {},
   "outputs": [],
   "source": [
    "#MCSS_for_SIRIUS(input_dir)"
   ]
  },
  {
   "cell_type": "code",
   "execution_count": null,
   "id": "18d1bc26",
   "metadata": {},
   "outputs": [],
   "source": [
    "#MCSS_for_SpecDB(input_dir, Source = \"all\")"
   ]
  },
  {
   "cell_type": "code",
   "execution_count": null,
   "id": "3b0c61f1",
   "metadata": {},
   "outputs": [],
   "source": []
  }
 ],
 "metadata": {
  "kernelspec": {
   "display_name": "Python (mawRpy)",
   "language": "python",
   "name": "mawrpy"
  },
  "language_info": {
   "codemirror_mode": {
    "name": "ipython",
    "version": 3
   },
   "file_extension": ".py",
   "mimetype": "text/x-python",
   "name": "python",
   "nbconvert_exporter": "python",
   "pygments_lexer": "ipython3",
   "version": "3.10.2"
  }
 },
 "nbformat": 4,
 "nbformat_minor": 5
}
