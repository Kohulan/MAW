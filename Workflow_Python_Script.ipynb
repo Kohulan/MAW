{
 "cells": [
  {
   "cell_type": "markdown",
   "id": "b3d6b5de",
   "metadata": {},
   "source": [
    "## Load Python function script"
   ]
  },
  {
   "cell_type": "code",
   "execution_count": 1,
   "id": "bb141606",
   "metadata": {},
   "outputs": [
    {
     "name": "stdout",
     "output_type": "stream",
     "text": [
      "3.10.2\n"
     ]
    },
    {
     "name": "stderr",
     "output_type": "stream",
     "text": [
      "INFO:rdkit:Enabling RDKit 2021.09.4 jupyter extensions\n"
     ]
    }
   ],
   "source": [
    "# import the function file\n",
    "from Workflow_Python_Functions import *"
   ]
  },
  {
   "cell_type": "code",
   "execution_count": null,
   "id": "a2bcadbd",
   "metadata": {},
   "outputs": [],
   "source": []
  },
  {
   "cell_type": "markdown",
   "id": "d24712eb",
   "metadata": {},
   "source": [
    "## Define input directory and input table and Suspect List Path"
   ]
  },
  {
   "cell_type": "code",
   "execution_count": 2,
   "id": "6baaf7aa",
   "metadata": {},
   "outputs": [
    {
     "data": {
      "text/plain": [
       "'/Users/mahnoorzulfiqar/Downloads/MAW-main/'"
      ]
     },
     "execution_count": 2,
     "metadata": {},
     "output_type": "execute_result"
    }
   ],
   "source": [
    "#Define input directory, keep all files in same directory and scripts so getwd works\n",
    "input_dir = os.getcwd()+'/'\n",
    "input_dir"
   ]
  },
  {
   "cell_type": "code",
   "execution_count": 3,
   "id": "6719df99",
   "metadata": {},
   "outputs": [],
   "source": [
    "# read the suspect list\n",
    "slistcsv = input_dir + \"SkeletonemaSuspectListV1.csv\""
   ]
  },
  {
   "cell_type": "markdown",
   "id": "5529bfdf",
   "metadata": {},
   "source": [
    "## Workflow Functions"
   ]
  },
  {
   "cell_type": "markdown",
   "id": "7f86ee8b",
   "metadata": {},
   "source": [
    "### Results post processing with insilico tools SIRIUS and MetFrag (Compound Databases)"
   ]
  },
  {
   "cell_type": "code",
   "execution_count": 4,
   "id": "716a3fc5",
   "metadata": {},
   "outputs": [],
   "source": [
    "# SIRIUS Post processing part 2\n",
    "sirius_postProc2(input_dir, \n",
    "                 input_tablecsv = input_dir + \"input_table.csv\")"
   ]
  },
  {
   "cell_type": "code",
   "execution_count": null,
   "id": "6c9f5071",
   "metadata": {},
   "outputs": [],
   "source": [
    "# Metfrag Post processing\n",
    "metfrag_postproc(input_dir, \n",
    "                 input_tablecsv = input_dir + \"input_table.csv\")"
   ]
  },
  {
   "cell_type": "code",
   "execution_count": null,
   "id": "89ebb466",
   "metadata": {},
   "outputs": [],
   "source": [
    "# combine results from different files; source = \"all_insilico\"\n",
    "# note that source can be either all_insilico, SIRIUS, or MetFrag\n",
    "# the result will be a combined results from different files either with SIRIUS or MetFrag\n",
    "# with all_insilico as source, two files are genearted: one for SIRIUS and one for MetFrag\n",
    "combine_insilico(input_dir, \n",
    "                 input_tablecsv = input_dir + \"input_table.csv\",\n",
    "                Source = \"all_insilico\")"
   ]
  },
  {
   "cell_type": "code",
   "execution_count": null,
   "id": "8e095297",
   "metadata": {},
   "outputs": [],
   "source": [
    "# Curation of results from SIRIUS\n",
    "sirius_curation(input_dir, \n",
    "                 siriuscsv = input_dir + \"MetabolomicsResults/SIRIUS_combined.csv\", \n",
    "                 sl = True)"
   ]
  },
  {
   "cell_type": "code",
   "execution_count": null,
   "id": "483033f8",
   "metadata": {},
   "outputs": [],
   "source": [
    "# Curation of results from MetFrag\n",
    "metfrag_curation(input_dir, \n",
    "                 metfragcsv = input_dir + \"MetabolomicsResults/MetFrag_combined.csv\", \n",
    "                 sl = True)"
   ]
  },
  {
   "cell_type": "code",
   "execution_count": null,
   "id": "8623411c",
   "metadata": {},
   "outputs": [],
   "source": [
    "combineSM(input_dir, \n",
    "          metfragcsv = input_dir + 'MetabolomicsResults/metfrag_curated.csv', \n",
    "          siriuscsv = input_dir + 'MetabolomicsResults/sirius_curated.csv')"
   ]
  },
  {
   "cell_type": "markdown",
   "id": "67a4c0ea",
   "metadata": {},
   "source": [
    "### Results post processing with Spectra package (Spectral Databases)"
   ]
  },
  {
   "cell_type": "code",
   "execution_count": null,
   "id": "0e5eec28",
   "metadata": {},
   "outputs": [],
   "source": [
    "# check each mzml file and each database csv result file; perform post processing\n",
    "spec_postproc(input_dir, \n",
    "             Source = \"all\")"
   ]
  },
  {
   "cell_type": "code",
   "execution_count": null,
   "id": "2f2d11cf",
   "metadata": {},
   "outputs": [],
   "source": [
    "# combine all spectral databases for each mzml file\n",
    "combine_specdb(input_dir)"
   ]
  },
  {
   "cell_type": "code",
   "execution_count": null,
   "id": "68e9a2dd",
   "metadata": {},
   "outputs": [],
   "source": [
    "# combine all spectral databases for all mzml file\n",
    "combine_allspec(input_dir)"
   ]
  },
  {
   "cell_type": "code",
   "execution_count": null,
   "id": "1aaa2653",
   "metadata": {},
   "outputs": [],
   "source": [
    "# only keep good scoring spectral database results\n",
    "scoring_spec(input_dir, \n",
    "             spec_file = input_dir + 'MetabolomicsResults/SD_post_processed_combined_results.csv')"
   ]
  },
  {
   "cell_type": "code",
   "execution_count": null,
   "id": "c08a656d",
   "metadata": {},
   "outputs": [],
   "source": [
    "# suspect list VS spectal databases\n",
    "# db(str): can be all, gnps, mbank, hmdb, gm(gnps, mbank), hg(hmdb and gnps), hm(hmdb and mbank) \n",
    "suspectListScreening(input_dir, \n",
    "                     slistcsv, \n",
    "                     SpectralDB_Results = input_dir + 'MetabolomicsResults/scoredSpecDB.csv', \n",
    "                     db = \"all\")"
   ]
  },
  {
   "cell_type": "code",
   "execution_count": null,
   "id": "fdeeaabf",
   "metadata": {},
   "outputs": [],
   "source": [
    "specDB_Curation(input_dir, \n",
    "                combinedx = input_dir + 'MetabolomicsResults/SpecDBvsSL.csv', \n",
    "                sl = True, \n",
    "                db = \"all\")"
   ]
  },
  {
   "cell_type": "markdown",
   "id": "3d25a3ef",
   "metadata": {},
   "source": [
    "### Final Results from all Sources"
   ]
  },
  {
   "cell_type": "code",
   "execution_count": null,
   "id": "3fd18046",
   "metadata": {},
   "outputs": [],
   "source": [
    "combine_CuratedR(input_dir, \n",
    "                 combinedSDBs = input_dir + 'MetabolomicsResults/curatedSDB.csv', \n",
    "                 combinedSMs = input_dir + 'MetabolomicsResults/combinedSM.csv', \n",
    "                 data_type = \"standards\")"
   ]
  },
  {
   "cell_type": "code",
   "execution_count": null,
   "id": "905348c6",
   "metadata": {},
   "outputs": [],
   "source": [
    "checkSMILES_validity(input_dir, \n",
    "                     resultcsv = input_dir + 'MetabolomicsResults/final_curation_without_classes.csv')"
   ]
  },
  {
   "cell_type": "code",
   "execution_count": null,
   "id": "04e6a61a",
   "metadata": {},
   "outputs": [],
   "source": [
    "classification(input_dir, \n",
    "               resultcsv = input_dir + 'MetabolomicsResults/final_curation_with_validSMILES.csv')"
   ]
  }
 ],
 "metadata": {
  "kernelspec": {
   "display_name": "Python (mawRpy)",
   "language": "python",
   "name": "mawrpy"
  },
  "language_info": {
   "codemirror_mode": {
    "name": "ipython",
    "version": 3
   },
   "file_extension": ".py",
   "mimetype": "text/x-python",
   "name": "python",
   "nbconvert_exporter": "python",
   "pygments_lexer": "ipython3",
   "version": "3.10.2"
  }
 },
 "nbformat": 4,
 "nbformat_minor": 5
}
