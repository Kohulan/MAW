{
 "cells": [
  {
   "cell_type": "markdown",
   "id": "b3d6b5de",
   "metadata": {},
   "source": [
    "## Load Python function script"
   ]
  },
  {
   "cell_type": "code",
   "execution_count": 8,
   "id": "bb141606",
   "metadata": {},
   "outputs": [],
   "source": [
    "# import the function file\n",
    "from Workflow_Python_Functions import *"
   ]
  },
  {
   "cell_type": "markdown",
   "id": "d24712eb",
   "metadata": {},
   "source": [
    "## Define input directory"
   ]
  },
  {
   "cell_type": "code",
   "execution_count": 9,
   "id": "6baaf7aa",
   "metadata": {},
   "outputs": [
    {
     "data": {
      "text/plain": [
       "'/Users/mahnoorzulfiqar/OneDriveUNI/MAW-data/StandardSMarinoi_Data'"
      ]
     },
     "execution_count": 9,
     "metadata": {},
     "output_type": "execute_result"
    }
   ],
   "source": [
    "#Define input directory, keep all files in same directory and scripts so getwd works\n",
    "input_dir = \"/Users/mahnoorzulfiqar/OneDriveUNI/MAW-data/StandardSMarinoi_Data\"\n",
    "input_dir"
   ]
  },
  {
   "cell_type": "code",
   "execution_count": 11,
   "id": "619207b1",
   "metadata": {},
   "outputs": [],
   "source": [
    "#sirius_postproc(input_dir, exp_int = 0.90, csi_score = -150)"
   ]
  },
  {
   "cell_type": "code",
   "execution_count": 12,
   "id": "fe828315",
   "metadata": {},
   "outputs": [],
   "source": [
    "#spec_postproc(input_dir, Source = \"all\")"
   ]
  },
  {
   "cell_type": "code",
   "execution_count": 13,
   "id": "b84803dc",
   "metadata": {},
   "outputs": [],
   "source": []
  },
  {
   "cell_type": "code",
   "execution_count": 74,
   "id": "3972d03a",
   "metadata": {},
   "outputs": [],
   "source": [
    "def MCSS_for_SIRIUS(input_dir):    \n",
    "    def isNaN(string):\n",
    "        return string != string\n",
    "    # Describe the heavy atoms to be considered for MCSS\n",
    "    heavy_atoms = ['C', 'N', 'P', 'O', 'S']\n",
    "    #list all files and directories\n",
    "    for entry in os.listdir(input_dir):\n",
    "        if os.path.isdir(os.path.join(input_dir, entry)):\n",
    "            #for sirius\n",
    "            sirius_msp_csv = input_dir + \"/\" + entry + \"/insilico/MS1DATA.csv\"\n",
    "            sub_dir = input_dir + \"/\" + entry + '/insilico/SIRIUS/'\n",
    "            if os.path.exists(sirius_msp_csv) and os.path.exists(sub_dir):\n",
    "                sirius_msp = pd.read_csv(sirius_msp_csv) \n",
    "                sirius_files = (glob.glob(sub_dir))\n",
    "                for sir_file in sirius_files:\n",
    "                    r = [s for s in os.listdir(sir_file) if \"structure\" in s]\n",
    "                    for filenames in r:\n",
    "                        sirius_f = sir_file+filenames\n",
    "                        for mz, row in sirius_msp.iterrows():\n",
    "                            if str(sirius_msp[\"id_X\"][mz].split(\"_\")[1]) in sirius_f:\n",
    "                                s_f = pd.read_csv(str(sirius_f))\n",
    "                                if len(s_f)>0 and 'smiles' in s_f.columns.values.tolist():\n",
    "                                    S_Smiles = s_f[\"smiles\"]\n",
    "                                    #create empty list of MB top smiles\n",
    "                                    SIRIUS_Mol = []\n",
    "\n",
    "                                    # extract only the InChI of the top 5\n",
    "                                    for j in list(S_Smiles):\n",
    "                                        mol2 = Chem.MolFromSmiles(j)\n",
    "                                        SIRIUS_Mol.append(mol2)\n",
    "                                    if len(SIRIUS_Mol) >= 2:\n",
    "                                        res = rdFMCS.FindMCS(SIRIUS_Mol)\n",
    "                                        sm_res = Chem.MolToSmiles(Chem.MolFromSmarts(res.smartsString))\n",
    "                                        # if there are atleast 3 heavy atoms in the MCSS, then add it to the result file\n",
    "                                        elem = [ele for ele in heavy_atoms if(ele in sm_res)]\n",
    "                                        if elem and len(sm_res)>=3:\n",
    "                                            sirius_msp.loc[mz, 'SIRIUS_MCSSstring'] = res.smartsString\n",
    "                                            sirius_msp.loc[mz, 'SIRIUS_MCSS_SMILES'] = Chem.MolToSmiles(Chem.MolFromSmarts(res.smartsString))\n",
    "                sirius_msp.to_csv(sirius_msp_csv)"
   ]
  },
  {
   "cell_type": "code",
   "execution_count": 75,
   "id": "d0c78570",
   "metadata": {},
   "outputs": [
    {
     "name": "stdout",
     "output_type": "stream",
     "text": [
      "VN_211016_cyst_acid_PRM_neg\n",
      "VN_211016_Sc_QC_PRM_neg\n",
      "VN_211016_acetyl_carnitine\n",
      "VN_211016_butanoyl_carnitine\n",
      "VN_211016_methionine_sulfoxide\n",
      "SL_Frag\n",
      "VN_211016_pipecolate\n",
      "VN_211016_Sc_st_PRM_pos\n",
      "VN_211016_betaine\n",
      "VN_211016_cyst_acid_PRM_pos\n",
      "VN_211016_Sc_QC_PRM_pos\n",
      "VN_211016_isovalerylcarnitine\n",
      "VN_211016_propanoyl_carnitine\n",
      "VN_211016_Sc_st_PRM_neg\n"
     ]
    }
   ],
   "source": [
    "MCSS_for_SIRIUS(input_dir)"
   ]
  },
  {
   "cell_type": "code",
   "execution_count": null,
   "id": "0f67956d",
   "metadata": {},
   "outputs": [],
   "source": []
  },
  {
   "cell_type": "code",
   "execution_count": null,
   "id": "2f4c03df",
   "metadata": {},
   "outputs": [],
   "source": []
  },
  {
   "cell_type": "code",
   "execution_count": null,
   "id": "8934d608",
   "metadata": {},
   "outputs": [],
   "source": []
  },
  {
   "cell_type": "code",
   "execution_count": null,
   "id": "77fb2d42",
   "metadata": {},
   "outputs": [],
   "source": []
  },
  {
   "cell_type": "code",
   "execution_count": null,
   "id": "da9e23a9",
   "metadata": {},
   "outputs": [],
   "source": [
    "\n",
    "    \n",
    "    # Describe the heavy atoms to be considered for MCSS\n",
    "    heavy_atoms = ['C', 'N', 'P', 'O', 'S']\n",
    "    #list all files and directories\n",
    "    for entry in os.listdir(input_dir):\n",
    "\n",
    "        if os.path.isdir(os.path.join(input_dir, entry)):\n",
    "            #for sirius\n",
    "            sirius_msp_csv = input_dir + \"/\" + entry + \"/insilico/MS1DATA.csv\"\n",
    "            sub_dir = input_dir + \"/\" + entry + '/insilico/SIRIUS/'\n",
    "            if os.path.exists(sirius_msp_csv) and os.path.exists(sub_dir):\n",
    "                sirius_msp = pd.read_csv(sirius_msp_csv) \n",
    "                sirius_files = (glob.glob(sub_dir))\n",
    "                for mz, row in sirius_msp.iterrows():\n",
    "                    for sir_file in sirius_files:\n",
    "                        r = [s for s in os.listdir(sir_file) if \"results\" in s][0]\n",
    "                        sirius_f = (glob.glob((sir_file+r)+'/*.csv'))\n",
    "                        if str(sirius_msp[\"id_X\"][mz].split(\"_\")[1]) in sirius_f[0]:\n",
    "                            print(sirius_f)\n",
    "                            if len(sirius_f) == 1:\n",
    "                                s_f = pd.read_csv(sirius_f[0])\n",
    "                                if len(s_f)>0 and 'smiles' in s_f.columns.values.tolist():\n",
    "\n",
    "                                    S_Smiles = s_f[\"smiles\"]\n",
    "                                    #create empty list of MB top smiles\n",
    "                                    SIRIUS_Mol = []\n",
    "\n",
    "                                    # extract only the InChI of the top 5\n",
    "                                    for j in list(S_Smiles):\n",
    "                                        mol2 = Chem.MolFromSmiles(j)\n",
    "                                        SIRIUS_Mol.append(mol2)\n",
    "                                    if len(SIRIUS_Mol) >= 2:\n",
    "                                        res = rdFMCS.FindMCS(SIRIUS_Mol)\n",
    "                                        sm_res = Chem.MolToSmiles(Chem.MolFromSmarts(res.smartsString))\n",
    "                                        # if there are atleast 3 heavy atoms in the MCSS, then add it to the result file\n",
    "                                        elem = [ele for ele in heavy_atoms if(ele in sm_res)]\n",
    "                                        if elem and len(sm_res)>=3:\n",
    "                                            sirius_msp.loc[mz, 'SIRIUS_MCSSstring'] = res.smartsString\n",
    "                                            sirius_msp.loc[mz, 'SIRIUS_MCSS_SMILES'] = Chem.MolToSmiles(Chem.MolFromSmarts(res.smartsString))\n",
    "                sirius_msp.to_csv(sirius_msp_csv)"
   ]
  }
 ],
 "metadata": {
  "kernelspec": {
   "display_name": "Python (mawRpy)",
   "language": "python",
   "name": "mawrpy"
  },
  "language_info": {
   "codemirror_mode": {
    "name": "ipython",
    "version": 3
   },
   "file_extension": ".py",
   "mimetype": "text/x-python",
   "name": "python",
   "nbconvert_exporter": "python",
   "pygments_lexer": "ipython3",
   "version": "3.10.2"
  }
 },
 "nbformat": 4,
 "nbformat_minor": 5
}
